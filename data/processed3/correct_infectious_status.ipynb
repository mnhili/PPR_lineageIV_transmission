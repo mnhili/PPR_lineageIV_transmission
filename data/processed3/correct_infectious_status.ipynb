{
 "cells": [
  {
   "cell_type": "code",
   "execution_count": 1,
   "id": "2a0baa1c",
   "metadata": {},
   "outputs": [],
   "source": [
    "import pandas as pd"
   ]
  },
  {
   "cell_type": "code",
   "execution_count": 2,
   "id": "b3420a9b",
   "metadata": {},
   "outputs": [
    {
     "data": {
      "text/html": [
       "<div>\n",
       "<style scoped>\n",
       "    .dataframe tbody tr th:only-of-type {\n",
       "        vertical-align: middle;\n",
       "    }\n",
       "\n",
       "    .dataframe tbody tr th {\n",
       "        vertical-align: top;\n",
       "    }\n",
       "\n",
       "    .dataframe thead th {\n",
       "        text-align: right;\n",
       "    }\n",
       "</style>\n",
       "<table border=\"1\" class=\"dataframe\">\n",
       "  <thead>\n",
       "    <tr style=\"text-align: right;\">\n",
       "      <th></th>\n",
       "      <th>experiment</th>\n",
       "      <th>contact_duration</th>\n",
       "      <th>cap_ID</th>\n",
       "      <th>infected</th>\n",
       "      <th>distance</th>\n",
       "      <th>time</th>\n",
       "    </tr>\n",
       "  </thead>\n",
       "  <tbody>\n",
       "    <tr>\n",
       "      <th>0</th>\n",
       "      <td>1</td>\n",
       "      <td>1h</td>\n",
       "      <td>100</td>\n",
       "      <td>0</td>\n",
       "      <td>1.427346</td>\n",
       "      <td>2</td>\n",
       "    </tr>\n",
       "    <tr>\n",
       "      <th>1</th>\n",
       "      <td>1</td>\n",
       "      <td>1h</td>\n",
       "      <td>100</td>\n",
       "      <td>0</td>\n",
       "      <td>0.978005</td>\n",
       "      <td>2</td>\n",
       "    </tr>\n",
       "    <tr>\n",
       "      <th>2</th>\n",
       "      <td>1</td>\n",
       "      <td>1h</td>\n",
       "      <td>100</td>\n",
       "      <td>0</td>\n",
       "      <td>0.974849</td>\n",
       "      <td>1</td>\n",
       "    </tr>\n",
       "    <tr>\n",
       "      <th>3</th>\n",
       "      <td>1</td>\n",
       "      <td>1h</td>\n",
       "      <td>100</td>\n",
       "      <td>0</td>\n",
       "      <td>1.791249</td>\n",
       "      <td>1</td>\n",
       "    </tr>\n",
       "    <tr>\n",
       "      <th>4</th>\n",
       "      <td>1</td>\n",
       "      <td>1h</td>\n",
       "      <td>100</td>\n",
       "      <td>0</td>\n",
       "      <td>1.298035</td>\n",
       "      <td>1</td>\n",
       "    </tr>\n",
       "  </tbody>\n",
       "</table>\n",
       "</div>"
      ],
      "text/plain": [
       "   experiment contact_duration  cap_ID  infected  distance  time\n",
       "0           1               1h     100         0  1.427346     2\n",
       "1           1               1h     100         0  0.978005     2\n",
       "2           1               1h     100         0  0.974849     1\n",
       "3           1               1h     100         0  1.791249     1\n",
       "4           1               1h     100         0  1.298035     1"
      ]
     },
     "execution_count": 2,
     "metadata": {},
     "output_type": "execute_result"
    }
   ],
   "source": [
    "# Load your CSV file\n",
    "df = pd.read_csv(\"envelope_200cm_1.csv\")\n",
    "df.head()"
   ]
  },
  {
   "cell_type": "code",
   "execution_count": 3,
   "id": "6ff174d6",
   "metadata": {},
   "outputs": [
    {
     "name": "stdout",
     "output_type": "stream",
     "text": [
      "<class 'pandas.core.frame.DataFrame'>\n",
      "RangeIndex: 9725 entries, 0 to 9724\n",
      "Data columns (total 6 columns):\n",
      " #   Column            Non-Null Count  Dtype  \n",
      "---  ------            --------------  -----  \n",
      " 0   experiment        9725 non-null   int64  \n",
      " 1   contact_duration  9725 non-null   object \n",
      " 2   cap_ID            9725 non-null   int64  \n",
      " 3   infected          9725 non-null   int64  \n",
      " 4   distance          9725 non-null   float64\n",
      " 5   time              9725 non-null   int64  \n",
      "dtypes: float64(1), int64(4), object(1)\n",
      "memory usage: 456.0+ KB\n"
     ]
    }
   ],
   "source": [
    "df.info()"
   ]
  },
  {
   "cell_type": "code",
   "execution_count": 4,
   "id": "b1815fad",
   "metadata": {},
   "outputs": [],
   "source": [
    "# Apply the condition and update the 'infected' column\n",
    "condition = (df['experiment'] == 5) & \\\n",
    "            (df['contact_duration'] == \"48h\") & \\\n",
    "            (df['cap_ID'] == 376)\n",
    "\n",
    "df.loc[condition, 'infected'] = 1"
   ]
  },
  {
   "cell_type": "code",
   "execution_count": 5,
   "id": "681faf3c",
   "metadata": {},
   "outputs": [],
   "source": [
    "# Save the updated DataFrame back to CSV\n",
    "df.to_csv(\"envelope_200cm_1.csv\", index=False)"
   ]
  }
 ],
 "metadata": {
  "kernelspec": {
   "display_name": "tf",
   "language": "python",
   "name": "python3"
  },
  "language_info": {
   "codemirror_mode": {
    "name": "ipython",
    "version": 3
   },
   "file_extension": ".py",
   "mimetype": "text/x-python",
   "name": "python",
   "nbconvert_exporter": "python",
   "pygments_lexer": "ipython3",
   "version": "3.9.18"
  }
 },
 "nbformat": 4,
 "nbformat_minor": 5
}
