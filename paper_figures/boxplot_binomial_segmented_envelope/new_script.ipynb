{
 "cells": [
  {
   "cell_type": "code",
   "execution_count": null,
   "metadata": {},
   "outputs": [],
   "source": [
    "import arviz as az\n",
    "import pandas as pd\n",
    "import numpy as np\n",
    "import pymc as pm\n",
    "import pickle\n",
    "import matplotlib.pyplot as plt"
   ]
  },
  {
   "cell_type": "code",
   "execution_count": null,
   "metadata": {},
   "outputs": [],
   "source": [
    "import os\n",
    "\n",
    "os.chdir(\"D:/Manal/phd_ppr_manal/paper_figures/boxplot_binomial_segmented_envelope/\")"
   ]
  },
  {
   "cell_type": "code",
   "execution_count": null,
   "metadata": {},
   "outputs": [],
   "source": [
    "with open('trace_enveloppe_2m_0.1.pkl', 'rb') as a:\n",
    "    trace_env= pickle.load(a)\n",
    "\n",
    "\n",
    "with open('trace_binomial.pkl', 'rb') as b:\n",
    "    trace_bin= pickle.load(b)\n",
    "\n",
    "\n",
    "with open('trace_seg_2m.pkl', 'rb') as c:\n",
    "    trace_seg= pickle.load(c)"
   ]
  },
  {
   "cell_type": "markdown",
   "metadata": {},
   "source": [
    "Envelope model"
   ]
  },
  {
   "cell_type": "code",
   "execution_count": null,
   "metadata": {},
   "outputs": [],
   "source": [
    "# extract samples from the trace\n",
    "\n",
    "samples_env = trace_env.posterior.stack(sample=(\"chain\", \"draw\"))\n",
    "\n",
    "# select a random sample from the trace\n",
    "selected_samples = np.random.choice(range(len(samples_env['p0'])), size=5000, replace=False)\n",
    "\n",
    "# extract the values of the parameters\n",
    "p0_sample = samples_env['p0'].values[selected_samples]\n",
    "lambda_sample = samples_env['lambda'].values[selected_samples]\n",
    "\n",
    "# Initialize the list for predictions\n",
    "cumprob_env = []\n",
    "\n",
    "# Iterate over samples\n",
    "for j in range(len(lambda_sample)):\n",
    "    a = lambda_sample[j]\n",
    "    b = p0_sample[j]\n",
    "    p_cum = b/(2*a)*(1-np.exp(-2*a))\n",
    "    cumprob_env.append(p_cum)\n",
    "    # Iterate over unique combinations of experiment and contact_duration\n",
    "   "
   ]
  },
  {
   "cell_type": "markdown",
   "metadata": {},
   "source": [
    "Binomial model"
   ]
  },
  {
   "cell_type": "code",
   "execution_count": null,
   "metadata": {},
   "outputs": [],
   "source": [
    "p_sample_bin = trace_bin.posterior[\"p\"].stack(sample=(\"chain\", \"draw\")).values\n",
    "p_sample_bin = np.random.choice(p_sample_bin, size=5000)\n",
    "\n",
    "cumprob_bin = []\n",
    "\n",
    "for j in range(len(p_sample_bin)):\n",
    "    p_j = p_sample_bin[j]\n",
    "        \n",
    "    cumprob_bin.append(p_j)\n"
   ]
  },
  {
   "cell_type": "code",
   "execution_count": null,
   "metadata": {},
   "outputs": [],
   "source": [
    "len(p_sample_bin)"
   ]
  },
  {
   "cell_type": "markdown",
   "metadata": {},
   "source": [
    "Segmented model"
   ]
  },
  {
   "cell_type": "code",
   "execution_count": null,
   "metadata": {},
   "outputs": [],
   "source": [
    "p_sample_seg = trace_seg.posterior[\"p\"].stack(sample=(\"chain\", \"draw\")).values\n",
    "p_sample_seg = np.random.choice(p_sample_seg, size=5000)\n",
    "\n",
    "pred = []\n",
    "\n",
    "for k in range(len(p_sample_seg)):\n",
    "    p = p_sample_seg[k]\n",
    "     \n",
    "    pred.append(p)  "
   ]
  },
  {
   "cell_type": "code",
   "execution_count": null,
   "metadata": {},
   "outputs": [],
   "source": [
    "len(cumprob_env), len(cumprob_bin), len(pred)"
   ]
  },
  {
   "cell_type": "code",
   "execution_count": null,
   "metadata": {},
   "outputs": [],
   "source": [
    "import matplotlib.pyplot as plt\n",
    "import numpy as np\n",
    "\n",
    "# Create a list of data arrays\n",
    "data = [cumprob_bin, pred, cumprob_env]\n",
    "\n",
    "# Create labels for the boxplots\n",
    "labels = ['Binomial', 'Segmented', 'Envelope']\n",
    "\n",
    "# Create the boxplot\n",
    "plt.boxplot(data, labels=labels)\n",
    "\n",
    "# Show the plot\n",
    "plt.show()\n"
   ]
  }
 ],
 "metadata": {
  "kernelspec": {
   "display_name": "tf",
   "language": "python",
   "name": "python3"
  },
  "language_info": {
   "codemirror_mode": {
    "name": "ipython",
    "version": 3
   },
   "file_extension": ".py",
   "mimetype": "text/x-python",
   "name": "python",
   "nbconvert_exporter": "python",
   "pygments_lexer": "ipython3",
   "version": "3.9.18"
  }
 },
 "nbformat": 4,
 "nbformat_minor": 2
}
