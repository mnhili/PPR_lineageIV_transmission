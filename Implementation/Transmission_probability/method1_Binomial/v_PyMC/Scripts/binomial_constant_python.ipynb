{
 "cells": [
  {
   "cell_type": "code",
   "execution_count": 1,
   "id": "c0dad27e-452e-4367-88f3-0514f7233606",
   "metadata": {},
   "outputs": [],
   "source": [
    "import arviz as az\n",
    "import pandas as pd\n",
    "import numpy as np\n",
    "import pymc as pm\n",
    "import pymc.sampling_jax\n",
    "from sklearn.preprocessing import StandardScaler\n",
    "from sklearn.metrics import roc_curve, precision_score, recall_score, roc_auc_score, accuracy_score, auc\n",
    "from sklearn.calibration import CalibrationDisplay\n",
    "import pickle\n",
    "\n",
    "import matplotlib.pyplot as plt\n",
    "import seaborn as sns\n",
    "\n",
    "%config InlineBackend.figure_format = 'retina'\n",
    "az.style.use(\"arviz-darkgrid\")"
   ]
  },
  {
   "cell_type": "code",
   "execution_count": 5,
   "id": "0db4cbe2",
   "metadata": {},
   "outputs": [
    {
     "ename": "SyntaxError",
     "evalue": "EOL while scanning string literal (1374626222.py, line 2)",
     "output_type": "error",
     "traceback": [
      "\u001b[1;36m  Cell \u001b[1;32mIn[5], line 2\u001b[1;36m\u001b[0m\n\u001b[1;33m    os.chdir(r\"D:\\Manal\\phd_ppr_manal\\Implementation\\Transmission_probability\\method1_Binomial\\v_PyMC\\\")\u001b[0m\n\u001b[1;37m                                                                                                        ^\u001b[0m\n\u001b[1;31mSyntaxError\u001b[0m\u001b[1;31m:\u001b[0m EOL while scanning string literal\n"
     ]
    }
   ],
   "source": [
    "import os\n",
    "os.getcwd()\n",
    "os.chdir(\"D:/Manal/phd_ppr_manal/Implementation/project1/Transmission_probability/method1_Binomial/v_PyMC/\")"
   ]
  },
  {
   "cell_type": "code",
   "execution_count": 3,
   "id": "74541843",
   "metadata": {},
   "outputs": [
    {
     "data": {
      "text/plain": [
       "'d:\\\\Manal\\\\phd_ppr_manal\\\\Implementation\\\\Transmission_probability\\\\method1_Binomial\\\\v_PyMC\\\\Scripts'"
      ]
     },
     "execution_count": 3,
     "metadata": {},
     "output_type": "execute_result"
    }
   ],
   "source": [
    "os.getcwd()"
   ]
  },
  {
   "cell_type": "code",
   "execution_count": null,
   "id": "71eb086a-0e07-4c41-94ea-f7c3b4b0776b",
   "metadata": {},
   "outputs": [],
   "source": [
    "# Load data \n",
    "sero = pd.read_excel(\"../Input/sero_data_binomiale.xlsx\")\n",
    "y = sero[\"Positive\"].to_numpy()  \n",
    "n = sero[\"n\"].to_numpy()\n",
    "t = sero[\"Time\"].to_numpy()"
   ]
  },
  {
   "cell_type": "code",
   "execution_count": null,
   "id": "ea543319-4aa7-421f-9b2a-21d382278891",
   "metadata": {},
   "outputs": [],
   "source": [
    "%%time\n",
    "with pm.Model() as model:\n",
    "\n",
    "    # Prior\n",
    "    p = pm.Uniform(\"p\", lower=.0001, upper=.01)\n",
    "    \n",
    "    p_tot = 1 - (1 - p)**t\n",
    "    \n",
    "    y = pm.Binomial(\"y\", n=n, p=p_tot, observed=y) "
   ]
  },
  {
   "cell_type": "code",
   "execution_count": null,
   "id": "caa194c9",
   "metadata": {},
   "outputs": [],
   "source": [
    "%%time\n",
    "with model:\n",
    "    trace = pm.sampling.jax.sample_blackjax_nuts(draws=10000, tune=1000, chains=10, target_accept=0.95)"
   ]
  },
  {
   "cell_type": "code",
   "execution_count": null,
   "id": "512a7953-1834-4aca-8085-2521f4dd5a19",
   "metadata": {},
   "outputs": [],
   "source": [
    "az.plot_posterior(trace, hdi_prob=.95);"
   ]
  },
  {
   "cell_type": "markdown",
   "id": "99f53d50-5a46-4b09-acc2-73ce06fc5d23",
   "metadata": {},
   "source": [
    "# Posterior analysis"
   ]
  },
  {
   "cell_type": "code",
   "execution_count": null,
   "id": "a718a37c-bb26-432e-9ba7-2c189f499238",
   "metadata": {},
   "outputs": [],
   "source": [
    "az.summary(trace, round_to=5, hdi_prob=.95)"
   ]
  },
  {
   "cell_type": "markdown",
   "id": "0365dafe-28cf-4f2f-9eb1-bf86c08c3e15",
   "metadata": {},
   "source": [
    "# Model log-likelihood"
   ]
  },
  {
   "cell_type": "code",
   "execution_count": null,
   "id": "d49e46ff-fd1a-485a-9eb4-a7a7172c5126",
   "metadata": {},
   "outputs": [],
   "source": [
    "with model:\n",
    "    pm.compute_log_likelihood(trace)"
   ]
  },
  {
   "cell_type": "code",
   "execution_count": null,
   "id": "4078d915-a1cb-4c74-8ee7-14dd814c64e8",
   "metadata": {},
   "outputs": [],
   "source": [
    "model_loo = az.loo(trace)\n",
    "\n",
    "model_loo"
   ]
  },
  {
   "cell_type": "code",
   "execution_count": null,
   "id": "59c09bfa-df4e-4f36-9ef9-ed22db86b8f1",
   "metadata": {},
   "outputs": [],
   "source": [
    "model_waic = az.waic(trace)\n",
    "\n",
    "model_waic"
   ]
  },
  {
   "cell_type": "code",
   "execution_count": null,
   "id": "762cc18e-0b3d-4043-a278-f69bbf83569d",
   "metadata": {},
   "outputs": [],
   "source": [
    "with model:\n",
    "    pm.sample_posterior_predictive(trace, extend_inferencedata=True, random_seed=42)"
   ]
  },
  {
   "cell_type": "code",
   "execution_count": null,
   "id": "ea88cfb6-7f9a-4348-b17e-d6a63ca825da",
   "metadata": {},
   "outputs": [],
   "source": [
    "az.plot_ppc(trace, num_pp_samples=100, kind ='kde', observed_rug=True);"
   ]
  },
  {
   "cell_type": "code",
   "execution_count": null,
   "id": "fed6fa73-d95a-4e5e-8f1e-b1682c51496b",
   "metadata": {},
   "outputs": [],
   "source": [
    "az.plot_autocorr(trace, var_names=\"p\");"
   ]
  },
  {
   "cell_type": "code",
   "execution_count": null,
   "id": "4572d937-e779-4f81-a555-e7c7a022674a",
   "metadata": {},
   "outputs": [],
   "source": [
    "# Gelman-Rubin convergence diagnostic\n",
    "r_hat = az.rhat(trace, var_names=[\"p\"])\n",
    "print(r_hat)"
   ]
  },
  {
   "cell_type": "code",
   "execution_count": null,
   "id": "18a78b62-434f-4abd-ab58-f087ac654e9e",
   "metadata": {},
   "outputs": [],
   "source": [
    "ess = az.ess(trace, var_names=[\"p\"])\n",
    "ess"
   ]
  },
  {
   "cell_type": "code",
   "execution_count": null,
   "id": "465f967f-9803-4129-b540-2d8a389bc6bb",
   "metadata": {},
   "outputs": [],
   "source": [
    "az.plot_ess(trace, var_names=[\"p\"], kind=\"evolution\");"
   ]
  },
  {
   "cell_type": "code",
   "execution_count": null,
   "id": "0520277c-5c83-4887-b664-55911107f216",
   "metadata": {},
   "outputs": [],
   "source": [
    "total_ess = ess[\"p\"].sum().values\n",
    "print(f\"Total effective sample size: {float(total_ess):.2f}\")"
   ]
  },
  {
   "cell_type": "code",
   "execution_count": null,
   "id": "f733dbaf-e1d8-4be6-a3d5-90701a679d68",
   "metadata": {},
   "outputs": [],
   "source": [
    "p_sample = trace.posterior[\"p\"].stack(sample=(\"chain\", \"draw\")).values\n",
    "p_sample = np.random.choice(p_sample, size=1000)"
   ]
  },
  {
   "cell_type": "code",
   "execution_count": null,
   "id": "57e8c444-8376-47e1-8d27-a151c92861b5",
   "metadata": {},
   "outputs": [],
   "source": [
    "N = sero.shape[0] \n",
    "M = len(p_sample)\n",
    "\n",
    "t = sero[\"Time\"].values\n",
    "n = sero[\"n\"].values.astype(np.int32)"
   ]
  },
  {
   "cell_type": "code",
   "execution_count": null,
   "id": "20de80bc-3a18-49e1-a4e5-7faa187ec60b",
   "metadata": {},
   "outputs": [],
   "source": [
    "resultats_simules = np.zeros((N, M)) \n",
    "\n",
    "for i in range(M):\n",
    "    p_i = p_sample[i]\n",
    "    p_tot = 1 - (1 - p_i)**t\n",
    "    \n",
    "    sim = np.random.binomial(n, p_tot)\n",
    "    resultats_simules[:, i] = sim\n",
    "\n",
    "df = pd.DataFrame(resultats_simules, \n",
    "                  columns=[f\"Sim_{i}\" for i in range(1, M+1)])"
   ]
  },
  {
   "cell_type": "code",
   "execution_count": null,
   "id": "6387f00c-cd5f-4b8f-8d97-a6b3643c0704",
   "metadata": {},
   "outputs": [],
   "source": [
    "# Prepare observed data\n",
    "datacal = sero[[\"Event\", \"n\", \"Positive\"]]  \n",
    "datacal.columns = [\"Exp\", \"N\", \"obs\"]\n",
    "\n",
    "# Calculate summary stats\n",
    "means = resultats_simules.mean(axis=1) \n",
    "print(means)\n",
    "\n",
    "quantiles = np.quantile(resultats_simules, \n",
    "                       q=[0.025, 0.25, 0.5, 0.75, 0.975],\n",
    "                       axis=1)\n",
    "print(quantiles)\n",
    "\n",
    "# Create dataframe\n",
    "res = pd.DataFrame() \n",
    "res[\"Exp\"] = datacal[\"Exp\"]\n",
    "res = pd.concat([res, pd.DataFrame(quantiles.T)], axis=1)\n",
    "res[\"Mean\"] = means\n",
    "\n",
    "# Set column names  \n",
    "res.columns = [\"Exp\", \"CI2.5\", \"CI25\", \"Median\",\n",
    "               \"CI75\", \"CI97.5\", \"Mean\"] \n",
    "\n",
    "# Set dtypes\n",
    "cols = res.columns[1:]\n",
    "res[cols] = res[cols].astype(float)\n",
    "\n",
    "print(res)"
   ]
  },
  {
   "cell_type": "code",
   "execution_count": null,
   "id": "3abd9947-4e2d-4ae4-acfb-79273d683606",
   "metadata": {},
   "outputs": [],
   "source": [
    "datacal.loc[:, 'sd'] = np.sqrt(datacal['obs'] * (datacal['N'] - datacal['obs']))"
   ]
  },
  {
   "cell_type": "code",
   "execution_count": null,
   "id": "8421183a-b0bb-433d-bc26-5e104d3dc220",
   "metadata": {},
   "outputs": [],
   "source": [
    "datacal"
   ]
  },
  {
   "cell_type": "code",
   "execution_count": null,
   "id": "7d9bdf70-84e9-42d0-97b1-1962d26c443c",
   "metadata": {},
   "outputs": [],
   "source": [
    "az.plot_trace(trace, var_names=\"p\", kind=\"rank_vlines\");\n"
   ]
  },
  {
   "cell_type": "code",
   "execution_count": null,
   "id": "10005c88-91a1-4e4b-a188-9bb30e66bee4",
   "metadata": {},
   "outputs": [],
   "source": [
    "az.plot_trace(trace, var_names=\"p\", kind=\"rank_bars\");\n"
   ]
  },
  {
   "cell_type": "code",
   "execution_count": null,
   "id": "a356dd20-d3fa-444e-99cd-67b3cda779b9",
   "metadata": {},
   "outputs": [],
   "source": [
    "az.plot_mcse(trace, var_names=[\"p\"], rug=True, extra_methods=True)"
   ]
  },
  {
   "cell_type": "code",
   "execution_count": null,
   "id": "f6ba6aef-714b-4431-b24c-49221cea585f",
   "metadata": {},
   "outputs": [],
   "source": [
    "loo = az.loo(trace, pointwise=True)\n",
    "\n",
    "az.plot_khat(loo, show_bins=True);\n"
   ]
  },
  {
   "cell_type": "code",
   "execution_count": null,
   "id": "a96d496c-fedf-491f-ab63-2ec3d91d40bf",
   "metadata": {},
   "outputs": [],
   "source": [
    "az.plot_loo_pit(trace, y=\"y\", ecdf=True)"
   ]
  },
  {
   "cell_type": "code",
   "execution_count": null,
   "id": "592614af-9373-4429-9caf-d95c6821e53c",
   "metadata": {},
   "outputs": [],
   "source": [
    "import seaborn as sns"
   ]
  },
  {
   "cell_type": "code",
   "execution_count": null,
   "id": "9a53daea-4d51-49b1-844a-b528f62f8c0a",
   "metadata": {},
   "outputs": [],
   "source": [
    "# Plotting the main line and points\n",
    "plt.figure(figsize=(10, 8))\n",
    "sns.lineplot(data=res, x='Exp', y='Mean', color='red')\n",
    "sns.scatterplot(data=res, x='Exp', y='Mean', color='red')\n",
    "\n",
    "# Adding confidence intervals (ribbons)\n",
    "plt.fill_between(res['Exp'], res['CI2.5'], res['CI97.5'], color='red', alpha=0.2)\n",
    "plt.fill_between(res['Exp'], res['CI25'], res['CI75'], color='red', alpha=0.4)\n",
    "\n",
    "# Adding points and error bars from 'datacal'\n",
    "sns.scatterplot(data=datacal, x='Exp', y='obs')\n",
    "plt.errorbar(datacal['Exp'], datacal['obs'], yerr=datacal['sd'], fmt='none', ecolor='black')\n",
    "\n",
    "# Setting labels and title\n",
    "plt.title(\"New Infections by Experiment\")\n",
    "plt.xlabel(\"Exp\")\n",
    "plt.ylabel(\"New Infections\")\n",
    "\n",
    "# Setting y-limits and y-ticks\n",
    "plt.ylim(0, 10)\n",
    "plt.yticks(np.arange(0, 11, 1))\n",
    "\n",
    "# Rotating x-axis labels\n",
    "plt.xticks(rotation=90)\n",
    "\n",
    "# Hiding the legend\n",
    "plt.legend([],[], frameon=False)\n",
    "\n",
    "plt.show()\n"
   ]
  },
  {
   "cell_type": "code",
   "execution_count": null,
   "id": "26d258d6",
   "metadata": {},
   "outputs": [],
   "source": [
    "import pickle"
   ]
  },
  {
   "cell_type": "code",
   "execution_count": null,
   "id": "7db6d3ec",
   "metadata": {},
   "outputs": [],
   "source": [
    "with open('trace_binomiale.pkl', 'wb') as f:\n",
    "    pickle.dump(trace, f)"
   ]
  }
 ],
 "metadata": {
  "kernelspec": {
   "display_name": "Python 3 (ipykernel)",
   "language": "python",
   "name": "python3"
  },
  "language_info": {
   "codemirror_mode": {
    "name": "ipython",
    "version": 3
   },
   "file_extension": ".py",
   "mimetype": "text/x-python",
   "name": "python",
   "nbconvert_exporter": "python",
   "pygments_lexer": "ipython3",
   "version": "3.9.18"
  }
 },
 "nbformat": 4,
 "nbformat_minor": 5
}
