{
 "cells": [
  {
   "cell_type": "code",
   "execution_count": 2,
   "metadata": {},
   "outputs": [],
   "source": [
    "import pandas as pd\n",
    "from scipy import stats\n",
    "import numpy as np \n",
    "from scipy.stats import t\n",
    "from scipy.stats import  bootstrap"
   ]
  },
  {
   "cell_type": "code",
   "execution_count": 3,
   "metadata": {},
   "outputs": [],
   "source": [
    "df = pd.read_excel(r\"D:\\Programming\\project1\\Transmission_probability\\method2_segments\\v_PyMC\\Output\\df_proportions_seg_2m.xlsx\")"
   ]
  },
  {
   "cell_type": "code",
   "execution_count": 4,
   "metadata": {},
   "outputs": [
    {
     "name": "stdout",
     "output_type": "stream",
     "text": [
      "Moyenne: 0.36\n",
      "Mediane: 0.32\n",
      "Intervalle de confiance (95%): 0.30 à 0.41\n"
     ]
    }
   ],
   "source": [
    "mean = df[\"y_pred\"].mean() \n",
    "median = df[\"y_pred\"].median() \n",
    "std_err = stats.sem(df[\"y_pred\"])\n",
    "ci = std_err * 1.96 # 95% CI\n",
    "\n",
    "print(f\"Moyenne: {mean:.2f}\")\n",
    "print(f\"Mediane: {median:.2f}\")\n",
    "print(f\"Intervalle de confiance (95%): {mean - ci:.2f} à {mean + ci:.2f}\")"
   ]
  },
  {
   "cell_type": "markdown",
   "metadata": {},
   "source": [
    "Intervalle de confiance autour de la MEDIANE avec bootstrap"
   ]
  },
  {
   "cell_type": "code",
   "execution_count": 5,
   "metadata": {},
   "outputs": [
    {
     "name": "stdout",
     "output_type": "stream",
     "text": [
      "0.3225\n",
      "0.0536 0.7890749999999999\n"
     ]
    }
   ],
   "source": [
    "data = df[\"y_pred\"]\n",
    "mediane = np.median(data)\n",
    "\n",
    "\n",
    "# Calcul des percentiles  \n",
    "perc_2_5 = np.percentile(data, 2.5)\n",
    "perc_97_5 = np.percentile(data, 97.5)\n",
    "\n",
    "# Intervalle de confiance\n",
    "IC_inf = perc_2_5\n",
    "IC_sup = perc_97_5 \n",
    "\n",
    "print(mediane)\n",
    "print(IC_inf, IC_sup)"
   ]
  }
 ],
 "metadata": {
  "kernelspec": {
   "display_name": "tf",
   "language": "python",
   "name": "python3"
  },
  "language_info": {
   "codemirror_mode": {
    "name": "ipython",
    "version": 3
   },
   "file_extension": ".py",
   "mimetype": "text/x-python",
   "name": "python",
   "nbconvert_exporter": "python",
   "pygments_lexer": "ipython3",
   "version": "3.9.18"
  }
 },
 "nbformat": 4,
 "nbformat_minor": 2
}
