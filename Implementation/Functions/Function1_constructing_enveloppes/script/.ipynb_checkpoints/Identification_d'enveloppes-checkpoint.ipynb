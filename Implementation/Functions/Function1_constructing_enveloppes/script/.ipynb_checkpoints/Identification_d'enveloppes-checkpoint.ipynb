{
 "cells": [
  {
   "cell_type": "code",
   "execution_count": 6,
   "id": "95605de7",
   "metadata": {
    "tags": []
   },
   "outputs": [],
   "source": [
    "import os\n",
    "import pandas as pd"
   ]
  },
  {
   "cell_type": "code",
   "execution_count": 7,
   "id": "a3b26b24",
   "metadata": {
    "tags": []
   },
   "outputs": [],
   "source": [
    "my_dir = \"D:/Programming/project1/Functions/Function1_constructing_enveloppes/input_data/contacts_sec/\""
   ]
  },
  {
   "cell_type": "markdown",
   "id": "afa95571",
   "metadata": {},
   "source": [
    "## Fonction pour construire les enveloppes"
   ]
  },
  {
   "cell_type": "code",
   "execution_count": 4,
   "id": "c52a922f",
   "metadata": {
    "tags": []
   },
   "outputs": [],
   "source": [
    "def identifier_enveloppe(nom, seuil, cutt_off):\n",
    "    \n",
    "    res = []\n",
    "    for file_name in os.listdir(my_dir):\n",
    "\n",
    "        df = pd.read_excel(os.path.join(my_dir, file_name))\n",
    "\n",
    "        dfs = []\n",
    "        for unique_val in df['Cap2'].unique():\n",
    "            df_filtered = df[(df[\"Cap2\"] == unique_val)]\n",
    "\n",
    "            groupes = []\n",
    "            groupe_actuel = []\n",
    "\n",
    "            for i in range(len(df_filtered) - 1):\n",
    "                current_row = df_filtered.iloc[i]\n",
    "                next_row = df_filtered.iloc[i + 1]\n",
    "\n",
    "                if not groupe_actuel:\n",
    "                    groupe_actuel.append((current_row['Time'], current_row['Distance']))\n",
    "                else:\n",
    "                    # Vérification de la proximité de la distance et de la consécutivité du temps\n",
    "                    if abs(groupe_actuel[-1][1] - current_row['Distance']) <= seuil and next_row['Time'] - current_row['Time'] == 1:\n",
    "                        groupe_actuel.append((current_row['Time'], current_row['Distance']))\n",
    "                    else:\n",
    "                        groupes.append(groupe_actuel)\n",
    "                        groupe_actuel = [(current_row['Time'], current_row['Distance'])]\n",
    "\n",
    "            if groupe_actuel:\n",
    "                groupes.append(groupe_actuel)\n",
    "\n",
    "            # Filtrer les groupes selon la condition de distance\n",
    "            groupes_filtrés = [groupe for groupe in groupes if all(d <= cutt_off for _, d in groupe)]\n",
    "            top_groupes = sorted(groupes_filtrés, key=len, reverse=True)\n",
    "\n",
    "            data = []\n",
    "            intervals = []        \n",
    "\n",
    "\n",
    "            if (len(top_groupes)> 0):\n",
    "\n",
    "                # Attribuer un ID unique à chaque groupe du top 3\n",
    "                for group_id, groupe in enumerate(top_groupes, start=1):\n",
    "\n",
    "                    start_time = groupe[0][0]\n",
    "                    end_time = groupe[-1][0]\n",
    "                    intervals.append({'Groupe_ID': group_id, 'Debut': start_time, 'Fin': end_time})\n",
    "                    for point in groupe:\n",
    "                            # Pour chaque observation dans le groupe, nous stockons l'ID du groupe, le temps et la distance\n",
    "                            data.append({'Groupe_ID': group_id, 'Temps': point[0], 'Dist': point[1]})         \n",
    "\n",
    "                # Convertir les données et les intervalles en DataFrames\n",
    "                df_top = pd.DataFrame(data)\n",
    "                df_intervals = pd.DataFrame(intervals)\n",
    "\n",
    "                # Calculer la durée et la médiane pour chaque groupe\n",
    "                df_intervals['Duree_sec'] = df_intervals['Fin'] - df_intervals['Debut'] + 1\n",
    "                df_intervals['Duree_min'] = df_intervals['Duree_sec'] / 60\n",
    "                df_intervals['Distance_Mediane'] = df_intervals['Groupe_ID'].apply(lambda x: df_top[df_top['Groupe_ID'] == x]['Dist'].median())\n",
    "\n",
    "                # fusionner les dataframes\n",
    "                df_merged = pd.merge(df_top, df_intervals, on=\"Groupe_ID\")\n",
    "\n",
    "                summary = df_merged[[\"Groupe_ID\", \"Duree_min\", \"Distance_Mediane\"]].drop_duplicates()\n",
    "\n",
    "                new_df = pd.DataFrame()\n",
    "\n",
    "                \n",
    "                for index, row in summary.iterrows():\n",
    "\n",
    "                    # Créer les nouveaux noms de colonnes\n",
    "                    col1 = f\"Duree_min_{row['Groupe_ID']}\"\n",
    "                    col2 = f\"Distance_Mediane_{row['Groupe_ID']}\"\n",
    "\n",
    "                    # Insérer les données dans les colonnes du nouveau DataFrame \n",
    "                    new_df.at[0, col1] = row['Duree_min']  \n",
    "                    new_df.at[0, col2] = row['Distance_Mediane']\n",
    "\n",
    "                new_df.insert(0, 'cap_ID', unique_val)\n",
    "\n",
    "                dfs.append(new_df)\n",
    "\n",
    "            else:\n",
    "                continue\n",
    "\n",
    "            temp_df = pd.concat(dfs, ignore_index=True)\n",
    "    \n",
    "\n",
    "        nom_base = file_name.rsplit('.', 1)[0]\n",
    "\n",
    "        partie_voulue = nom_base.rsplit('_', 2)[0]\n",
    "\n",
    "        temp_df.insert(0, 'experiment', partie_voulue)\n",
    "\n",
    "        res.append(temp_df)\n",
    "\n",
    "    final_result = pd.concat(res, ignore_index=True)\n",
    "    \n",
    "    nom_fichier = f'{nom}_{seuil}.xlsx'\n",
    "    \n",
    "    if (cutt_off == 1):\n",
    "        chemin = \"output_data/By_seconds/under_1m/\"\n",
    "    elif (cutt_off == 1.5):\n",
    "        chemin = \"output_data/By_seconds/under_1.5m/\"\n",
    "    elif (cutt_off == 2):\n",
    "        chemin = \"output_data/By_seconds/under_2m/\"\n",
    "    \n",
    "    return final_result.to_excel(os.path.join(chemin, nom_fichier))\n"
   ]
  },
  {
   "cell_type": "markdown",
   "id": "79334e94",
   "metadata": {},
   "source": [
    "## Appel de la fonction  "
   ]
  },
  {
   "cell_type": "code",
   "execution_count": 5,
   "id": "57a9f002",
   "metadata": {
    "tags": []
   },
   "outputs": [
    {
     "ename": "FileNotFoundError",
     "evalue": "[WinError 3] The system cannot find the path specified: '/input_data/contacts_sec/'",
     "output_type": "error",
     "traceback": [
      "\u001b[1;31m---------------------------------------------------------------------------\u001b[0m",
      "\u001b[1;31mFileNotFoundError\u001b[0m                         Traceback (most recent call last)",
      "Cell \u001b[1;32mIn[5], line 1\u001b[0m\n\u001b[1;32m----> 1\u001b[0m identifier_enveloppe(\u001b[38;5;124m\"\u001b[39m\u001b[38;5;124menveloppe1\u001b[39m\u001b[38;5;124m\"\u001b[39m,\u001b[38;5;241m0.1\u001b[39m, \u001b[38;5;241m2\u001b[39m)\n",
      "Cell \u001b[1;32mIn[4], line 4\u001b[0m, in \u001b[0;36midentifier_enveloppe\u001b[1;34m(nom, seuil, cutt_off)\u001b[0m\n\u001b[0;32m      1\u001b[0m \u001b[38;5;28;01mdef\u001b[39;00m \u001b[38;5;21midentifier_enveloppe\u001b[39m(nom, seuil, cutt_off):\n\u001b[0;32m      3\u001b[0m     res \u001b[38;5;241m=\u001b[39m []\n\u001b[1;32m----> 4\u001b[0m     \u001b[38;5;28;01mfor\u001b[39;00m file_name \u001b[38;5;129;01min\u001b[39;00m os\u001b[38;5;241m.\u001b[39mlistdir(my_dir):\n\u001b[0;32m      6\u001b[0m         df \u001b[38;5;241m=\u001b[39m pd\u001b[38;5;241m.\u001b[39mread_excel(os\u001b[38;5;241m.\u001b[39mpath\u001b[38;5;241m.\u001b[39mjoin(my_dir, file_name))\n\u001b[0;32m      8\u001b[0m         dfs \u001b[38;5;241m=\u001b[39m []\n",
      "\u001b[1;31mFileNotFoundError\u001b[0m: [WinError 3] The system cannot find the path specified: '/input_data/contacts_sec/'"
     ]
    }
   ],
   "source": [
    "identifier_enveloppe(\"enveloppe1\",0.1, 2)"
   ]
  },
  {
   "cell_type": "code",
   "execution_count": null,
   "id": "605f2134",
   "metadata": {
    "tags": []
   },
   "outputs": [],
   "source": [
    "identifier_enveloppe(\"enveloppe2\",0.2, 2)"
   ]
  },
  {
   "cell_type": "code",
   "execution_count": null,
   "id": "163384cf",
   "metadata": {
    "tags": []
   },
   "outputs": [],
   "source": [
    "identifier_enveloppe(\"enveloppe3\",0.3, 2)"
   ]
  },
  {
   "cell_type": "code",
   "execution_count": null,
   "id": "2c330aa2",
   "metadata": {
    "tags": []
   },
   "outputs": [],
   "source": [
    "identifier_enveloppe(\"enveloppe4\",0.1, 1)"
   ]
  },
  {
   "cell_type": "code",
   "execution_count": null,
   "id": "6aeed483",
   "metadata": {
    "tags": []
   },
   "outputs": [],
   "source": [
    "identifier_enveloppe(\"enveloppe5\",0.2, 1)"
   ]
  },
  {
   "cell_type": "code",
   "execution_count": null,
   "id": "23cca42d",
   "metadata": {
    "tags": []
   },
   "outputs": [],
   "source": [
    "identifier_enveloppe(\"enveloppe6\",0.3, 1)"
   ]
  },
  {
   "cell_type": "code",
   "execution_count": null,
   "id": "a5bac0bf",
   "metadata": {
    "tags": []
   },
   "outputs": [],
   "source": [
    "identifier_enveloppe(\"enveloppe7\",0.1, 1.5)"
   ]
  },
  {
   "cell_type": "code",
   "execution_count": null,
   "id": "3ed668ff",
   "metadata": {
    "tags": []
   },
   "outputs": [],
   "source": [
    "identifier_enveloppe(\"enveloppe8\",0.2, 1.5)"
   ]
  },
  {
   "cell_type": "code",
   "execution_count": null,
   "id": "c4d02a0d",
   "metadata": {
    "tags": []
   },
   "outputs": [],
   "source": [
    "identifier_enveloppe(\"enveloppe9\",0.3, 1.5)"
   ]
  }
 ],
 "metadata": {
  "kernelspec": {
   "display_name": "Python 3 (ipykernel)",
   "language": "python",
   "name": "python3"
  },
  "language_info": {
   "codemirror_mode": {
    "name": "ipython",
    "version": 3
   },
   "file_extension": ".py",
   "mimetype": "text/x-python",
   "name": "python",
   "nbconvert_exporter": "python",
   "pygments_lexer": "ipython3",
   "version": "3.11.5"
  }
 },
 "nbformat": 4,
 "nbformat_minor": 5
}
