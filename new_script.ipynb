{
 "cells": [
  {
   "cell_type": "code",
   "execution_count": 24,
   "metadata": {},
   "outputs": [],
   "source": [
    "import arviz as az\n",
    "import pandas as pd\n",
    "import numpy as np\n",
    "import pymc as pm\n",
    "import pickle"
   ]
  },
  {
   "cell_type": "code",
   "execution_count": 25,
   "metadata": {},
   "outputs": [],
   "source": [
    "import os\n",
    "\n",
    "os.chdir(\"D:/Manal/phd_ppr_manal/\")"
   ]
  },
  {
   "cell_type": "code",
   "execution_count": 12,
   "metadata": {},
   "outputs": [],
   "source": [
    "with open('trace_enveloppe_2m_0.1.pkl', 'rb') as a:\n",
    "    trace_env= pickle.load(a)\n",
    "\n",
    "with open('trace_binomiale.pkl', 'rb') as b:\n",
    "    trace_bin= pickle.load(b)\n",
    "\n",
    "with open('trace_seg_2m.pkl', 'rb') as c:\n",
    "    trace_seg= pickle.load(c)\n"
   ]
  },
  {
   "cell_type": "code",
   "execution_count": 18,
   "metadata": {},
   "outputs": [],
   "source": [
    "# extract samples from the trace\n",
    "\n",
    "samples_env = trace_env.posterior.stack(sample=(\"chain\", \"draw\"))\n",
    "\n",
    "# select a random sample from the trace\n",
    "selected_samples = np.random.choice(range(len(samples_env['p0'])), size=5000, replace=False)\n",
    "\n",
    "# extract the values of the parameters\n",
    "p0_sample = samples_env['p0'].values[selected_samples]\n",
    "lambda_sample = samples_env['lambda'].values[selected_samples]"
   ]
  },
  {
   "cell_type": "code",
   "execution_count": 21,
   "metadata": {},
   "outputs": [],
   "source": [
    "p_sample_bin = trace_bin.posterior[\"p\"].stack(sample=(\"chain\", \"draw\")).values\n",
    "p_sample_bin = np.random.choice(p_sample_bin, size=5000, replace=False)"
   ]
  },
  {
   "cell_type": "code",
   "execution_count": 22,
   "metadata": {},
   "outputs": [],
   "source": [
    "p_sample_seg= trace_seg.posterior[\"p\"].stack(sample=(\"chain\", \"draw\")).values\n",
    "p_sample_seg= np.random.choice(p_sample_seg, size=5000, replace=False)"
   ]
  },
  {
   "cell_type": "code",
   "execution_count": 23,
   "metadata": {},
   "outputs": [],
   "source": [
    "# Initialize the list for predictions\n",
    "cumprob_env = []\n",
    "\n",
    "\n",
    "\n",
    "# Iterate over samples\n",
    "for j in range(len(lambda_sample)):\n",
    "    a = lambda_sample[j]\n",
    "    b = p0_sample[j]\n",
    "    p_cum = b/(2*a)*(1-np.exp(-2*a))\n",
    "    cumprob_env.append(p_cum)\n",
    "    # Iterate over unique combinations of experiment and contact_duration\n",
    "   "
   ]
  },
  {
   "cell_type": "code",
   "execution_count": null,
   "metadata": {},
   "outputs": [],
   "source": [
    "sero = pd.read_excel(\"Input/sero_data_binomiale.xlsx\")\n",
    "y = sero[\"Positive\"].to_numpy()  \n",
    "n = sero[\"n\"].to_numpy()\n",
    "t = sero[\"Time\"].to_numpy()"
   ]
  },
  {
   "cell_type": "code",
   "execution_count": null,
   "metadata": {},
   "outputs": [],
   "source": [
    "cumprob_bin = []\n",
    "\n",
    "for i in range(len(p_sample_bin)):\n",
    "    p_i = p_sample_bin[i]\n",
    "    p_tot = 1 - (1 - p_i)**t"
   ]
  },
  {
   "cell_type": "code",
   "execution_count": 20,
   "metadata": {},
   "outputs": [
    {
     "data": {
      "text/plain": [
       "{'whiskers': [<matplotlib.lines.Line2D at 0x1f96f0aabe0>,\n",
       "  <matplotlib.lines.Line2D at 0x1f96f0aae80>],\n",
       " 'caps': [<matplotlib.lines.Line2D at 0x1f96f0b7160>,\n",
       "  <matplotlib.lines.Line2D at 0x1f96f0b7400>],\n",
       " 'boxes': [<matplotlib.lines.Line2D at 0x1f96f0aa940>],\n",
       " 'medians': [<matplotlib.lines.Line2D at 0x1f96f0b76a0>],\n",
       " 'fliers': [<matplotlib.lines.Line2D at 0x1f96f0b7940>],\n",
       " 'means': []}"
      ]
     },
     "execution_count": 20,
     "metadata": {},
     "output_type": "execute_result"
    },
    {
     "data": {
      "image/png": "[encoded data removed]",
      "text/plain": [
       "<Figure size 640x480 with 1 Axes>"
      ]
     },
     "metadata": {},
     "output_type": "display_data"
    }
   ],
   "source": [
    "import matplotlib.pyplot as plt\n",
    "\n",
    "\n",
    "plt.boxplot(cumprob)\n"
   ]
  },
  {
   "cell_type": "code",
   "execution_count": null,
   "metadata": {},
   "outputs": [],
   "source": []
  }
 ],
 "metadata": {
  "kernelspec": {
   "display_name": "tf",
   "language": "python",
   "name": "python3"
  },
  "language_info": {
   "codemirror_mode": {
    "name": "ipython",
    "version": 3
   },
   "file_extension": ".py",
   "mimetype": "text/x-python",
   "name": "python",
   "nbconvert_exporter": "python",
   "pygments_lexer": "ipython3",
   "version": "3.9.18"
  }
 },
 "nbformat": 4,
 "nbformat_minor": 2
}
