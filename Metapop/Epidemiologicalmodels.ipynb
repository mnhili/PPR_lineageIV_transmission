{
 "cells": [
  {
   "cell_type": "code",
   "execution_count": null,
   "metadata": {},
   "outputs": [],
   "source": [
    "def seird_model2( X,y, beta, mu,eta,mort, nat,p,alpha , rho, gamma,sigma,vert):\n",
    "\n",
    "    Imm,S, E2, E4, I2,I4, R2,R4,D2,D4 = X\n",
    "    N=Imm+S+E2+I2+R2+E4+I4+R4\n",
    "    dImm= +vert*nat*(R2+R4)-mort*Imm-eta*Imm\n",
    "    dS = - beta * S * (I2+alpha*I4)/ N+eta*Imm+ nat*(N-(R2+R4))+(1-vert)*nat*(R2+R4)-mort*S\n",
    "    dE2 = beta * S * (I2)/ N - sigma * E2-mort*E2\n",
    "    dE4 = beta * S * (alpha*I4)/ N - sigma * E4-mort*E4\n",
    "    dI2 = sigma * E2 - gamma * I2-mort*I2\n",
    "    dI4 = sigma * E4 - gamma * I4-mort*I4\n",
    "    dR2 = gamma *(1-p)* I2-mort*R2\n",
    "    dR4 = gamma *(1-rho*p)* I4-mort*R4\n",
    "    dD2 = gamma *p* I2\n",
    "    dD4 = gamma *rho*p* I4\n",
    "    return dImm,dS, dE2,dE4, dI2,dI4,dR2,dR4, dD2,dD4"
   ]
  }
 ],
 "metadata": {
  "anaconda-cloud": {},
  "kernelspec": {
   "display_name": "Python 2",
   "language": "python",
   "name": "python2"
  },
  "language_info": {
   "codemirror_mode": {
    "name": "ipython",
    "version": 2
   },
   "file_extension": ".py",
   "mimetype": "text/x-python",
   "name": "python",
   "nbconvert_exporter": "python",
   "pygments_lexer": "ipython2",
   "version": "2.7.17"
  }
 },
 "nbformat": 4,
 "nbformat_minor": 2
}
