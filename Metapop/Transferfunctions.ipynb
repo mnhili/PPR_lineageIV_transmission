{
 "cells": [
  {
   "cell_type": "code",
   "execution_count": null,
   "metadata": {},
   "outputs": [],
   "source": [
    "def transfer_func(moving,a,Senegal):\n",
    "    node=Senegal[a]\n",
    "    keylast=sorted(node.state.keys())[-1]\n",
    "    tomove=node.depart_neighb\n",
    "    for n in tomove.keys():\n",
    "        for x in moving:\n",
    "            if tomove[n][x]>0:\n",
    "                Senegal[n].state[keylast][x]+=tomove[n][x]\n",
    "                \n",
    "    return()"
   ]
  }
 ],
 "metadata": {
  "anaconda-cloud": {},
  "kernelspec": {
   "display_name": "Python 2",
   "language": "python",
   "name": "python2"
  },
  "language_info": {
   "codemirror_mode": {
    "name": "ipython",
    "version": 2
   },
   "file_extension": ".py",
   "mimetype": "text/x-python",
   "name": "python",
   "nbconvert_exporter": "python",
   "pygments_lexer": "ipython2",
   "version": "2.7.17"
  }
 },
 "nbformat": 4,
 "nbformat_minor": 2
}
