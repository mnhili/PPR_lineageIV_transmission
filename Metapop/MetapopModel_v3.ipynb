{
 "cells": [
  {
   "cell_type": "markdown",
   "metadata": {},
   "source": [
    "# Introduction"
   ]
  },
  {
   "cell_type": "markdown",
   "metadata": {},
   "source": [
    "This is a program to simulate the diffusion of 2 strains of PPR virus (II and IV) through animal mobility. The model will take account of the seasonality of movements and reproduction, as well as the fact that are 2 strains, with different  transmission parameters, circulating in the country. \n",
    "For this we consider an epidemiological SEIRD model with two age classes for each strain as in the mauritanian article. \n",
    "Transmission occurs at local level , inside a patch, whilst movement using a multinomial distribution for each patch. \n",
    "We use as patch the department level"
   ]
  },
  {
   "cell_type": "markdown",
   "metadata": {},
   "source": [
    "## Packages"
   ]
  },
  {
   "cell_type": "code",
   "execution_count": 1,
   "metadata": {},
   "outputs": [],
   "source": [
    "import pandas as pd\n",
    "import numpy as np\n",
    "import csv \n",
    "import matplotlib as mpl\n",
    "from collections import defaultdict\n",
    "from scipy.integrate import odeint\n",
    "import matplotlib.pyplot as plt\n",
    "import nbimporter\n",
    "import seaborn as sns"
   ]
  },
  {
   "cell_type": "markdown",
   "metadata": {},
   "source": [
    "# Dynamical Model"
   ]
  },
  {
   "cell_type": "markdown",
   "metadata": {},
   "source": [
    "We consider a SEIRD model where infected individuals can proceed to an exposed and then infectious compartment after contact  with an infectious dividual. We don't consider at this point any  distinction by species , age and gender. The only  distrinction that we consider is that depending on the infectious animal the individual can either  become infected by strain 2 or 4. \n",
    "Alpha is the ratio for infectivity between strain4 and strain2,\n",
    "rho is the ratio for mortality,\n",
    "eta is the transition rate from Immune at birth and susceptible (1/90),\n",
    "sigma is the latency rate ,\n",
    "gamma is the infectious rate,\n",
    "vert is the probability of being born with maternal antibody (0.92),\n",
    "nat is the fertility rate\n",
    "mort is the natural mortality rate\n",
    "beta is the transmission rate\n",
    "parameters are stored in the file epidemiologicalparemters.csv"
   ]
  },
  {
   "cell_type": "markdown",
   "metadata": {},
   "source": [
    "The equations for the model are stored in the notebook Epidemiologicalmodels and are input using the below function. The transfer functions , that is how the different animals are distributed among the nodes are  in the notebook Transferfunction"
   ]
  },
  {
   "cell_type": "code",
   "execution_count": 2,
   "metadata": {},
   "outputs": [],
   "source": [
    "import Epidemiologicalmodels as efuncs\n",
    "import Transferfunctions as tfuncs"
   ]
  },
  {
   "cell_type": "markdown",
   "metadata": {},
   "source": [
    "I define a function epi_update_pop that is going to be applied to all the nodes of the network. We considered that movements occur weekly. The epidemic and demographic situation of the population is updated between two movements. The function take as inputs the name ofthe compartments (namestate), the number of the week (w0), and the node, and returns the compartiment distribution during the week (results) where the first index indicate the days from beginning. Since the excahnges between nodes occur every week, the epidemiological model runs before week ends and the results are store for each day"
   ]
  },
  {
   "cell_type": "code",
   "execution_count": 3,
   "metadata": {},
   "outputs": [],
   "source": [
    "def epi_update_pop(namestates,w0,node):\n",
    "    beta, mu,eta,mort, nat,p,alpha , rho, gamma,sigma,vert=node.beta,node.mu,node.eta,node.mortality[(w0%52)//5],node.fertility[(w0%52)//5],node.p,node.alpha ,node.rho,node.gamma,node.sigma,node.vert\n",
    "    t = np.linspace(0,7,8)\n",
    "    keylast=sorted(node.state.keys())[-1]\n",
    "    status=node.state[keylast]\n",
    "    y0=[status[k] for k in namestates]\n",
    "    y = odeint(efuncs.seird_model2,y0,t,args=(beta, mu,eta,mort, nat,p,alpha , rho, gamma,sigma,vert))\n",
    "    result={}\n",
    "    for i in range(1,len(t)):\n",
    "        result[7*w0+i]={}\n",
    "        for j in range(0,len(namestates)):\n",
    "\n",
    "            result[7*w0+i][namestates[j]]=int(round(y[i,j]))\n",
    "    return result        "
   ]
  },
  {
   "cell_type": "markdown",
   "metadata": {},
   "source": [
    "Function for transfer. La population of each compartment is updated wit the entry fom other nodes. The function goes through all the nodes in the network , cheack the  number of inidividuals that should displaced by compartment  and add in the movement destination. This movment is done once at the end of the week\n"
   ]
  },
  {
   "cell_type": "markdown",
   "metadata": {},
   "source": [
    "The function resultdataframe transform the results from a list of classes to a datframe where each line contain for each node at each time the distribution of animals in each compartment. Using timeres =Week only  data at the end of the week are stored, otherwise all the data are stored"
   ]
  },
  {
   "cell_type": "code",
   "execution_count": 4,
   "metadata": {},
   "outputs": [],
   "source": [
    "def resultdataframe(Senegal,timeres):\n",
    "    result=pd.DataFrame()\n",
    "    for a in Senegal:\n",
    "        evol=Senegal[a].state\n",
    "        temp=pd.DataFrame.from_dict(evol, orient='index')\n",
    "        temp['Pop'] = temp.sum(axis=1)\n",
    "        temp['time'] = temp.index\n",
    "        temp['Dept'] = a\n",
    "\n",
    "        if timeres==\"Week\":\n",
    "            temp=temp[temp['time'] % 7==0]\n",
    "        result=result.append(temp,ignore_index=True)\n",
    "    result=result.sort_values(by=['time','Dept'])\n",
    "    return result"
   ]
  },
  {
   "cell_type": "markdown",
   "metadata": {},
   "source": [
    "# Preparing system"
   ]
  },
  {
   "cell_type": "markdown",
   "metadata": {},
   "source": [
    "## Importing  network data"
   ]
  },
  {
   "cell_type": "markdown",
   "metadata": {},
   "source": [
    "We use LPS data collected in 2014 for Senegal , with some extra data from Mauritnai to simulate the introduction of sources from foreign countries.  Data are stored either in csv or xlsx format and contain information about locations of origine and destination together with their administrative units associated, number of animals exchanged by type and month of the year (1...12)"
   ]
  },
  {
   "cell_type": "code",
   "execution_count": 5,
   "metadata": {},
   "outputs": [],
   "source": [
    "datan = pd.read_csv(r'../1_Data/Network/Dynamic_Network_SmallRuminants2.csv',encoding='utf-8',sep=\";\") \n",
    "network = pd.DataFrame(datan, columns= ['Destination','Origin','Volume','Month','Week'])\n",
    "#print(network)"
   ]
  },
  {
   "cell_type": "markdown",
   "metadata": {},
   "source": [
    "## Associating nodes' characteristics\n"
   ]
  },
  {
   "cell_type": "markdown",
   "metadata": {},
   "source": [
    "we import locations data and we aggregate at department level. We associated demographic  factors to the department depdending on their location "
   ]
  },
  {
   "cell_type": "code",
   "execution_count": 6,
   "metadata": {},
   "outputs": [
    {
     "data": {
      "text/html": [
       "<div>\n",
       "<style scoped>\n",
       "    .dataframe tbody tr th:only-of-type {\n",
       "        vertical-align: middle;\n",
       "    }\n",
       "\n",
       "    .dataframe tbody tr th {\n",
       "        vertical-align: top;\n",
       "    }\n",
       "\n",
       "    .dataframe thead th {\n",
       "        text-align: right;\n",
       "    }\n",
       "</style>\n",
       "<table border=\"1\" class=\"dataframe\">\n",
       "  <thead>\n",
       "    <tr style=\"text-align: right;\">\n",
       "      <th></th>\n",
       "      <th>Country</th>\n",
       "      <th>Region</th>\n",
       "      <th>Dept</th>\n",
       "      <th>PR</th>\n",
       "      <th>Pastoral</th>\n",
       "    </tr>\n",
       "  </thead>\n",
       "  <tbody>\n",
       "    <tr>\n",
       "      <th>0</th>\n",
       "      <td>MAURITANIA</td>\n",
       "      <td>ASSABA</td>\n",
       "      <td>BARKEOL</td>\n",
       "      <td>185742</td>\n",
       "      <td>Sylvo</td>\n",
       "    </tr>\n",
       "    <tr>\n",
       "      <th>1</th>\n",
       "      <td>MAURITANIA</td>\n",
       "      <td>ASSABA</td>\n",
       "      <td>GUEROU</td>\n",
       "      <td>29275</td>\n",
       "      <td>Sylvo</td>\n",
       "    </tr>\n",
       "    <tr>\n",
       "      <th>2</th>\n",
       "      <td>MAURITANIA</td>\n",
       "      <td>ASSABA</td>\n",
       "      <td>KANKOSSA</td>\n",
       "      <td>96605</td>\n",
       "      <td>Sylvo</td>\n",
       "    </tr>\n",
       "    <tr>\n",
       "      <th>3</th>\n",
       "      <td>MAURITANIA</td>\n",
       "      <td>ASSABA</td>\n",
       "      <td>KIFFA</td>\n",
       "      <td>111635</td>\n",
       "      <td>Sylvo</td>\n",
       "    </tr>\n",
       "    <tr>\n",
       "      <th>4</th>\n",
       "      <td>GAMBIA</td>\n",
       "      <td>BANJUL</td>\n",
       "      <td>BANJUL</td>\n",
       "      <td>888</td>\n",
       "      <td>Agro</td>\n",
       "    </tr>\n",
       "  </tbody>\n",
       "</table>\n",
       "</div>"
      ],
      "text/plain": [
       "      Country  Region      Dept      PR Pastoral\n",
       "0  MAURITANIA  ASSABA   BARKEOL  185742    Sylvo\n",
       "1  MAURITANIA  ASSABA    GUEROU   29275    Sylvo\n",
       "2  MAURITANIA  ASSABA  KANKOSSA   96605    Sylvo\n",
       "3  MAURITANIA  ASSABA     KIFFA  111635    Sylvo\n",
       "4      GAMBIA  BANJUL    BANJUL     888     Agro"
      ]
     },
     "execution_count": 6,
     "metadata": {},
     "output_type": "execute_result"
    }
   ],
   "source": [
    "datal = pd.read_csv(r'../1_Data/Network/nodes2.csv',sep=\";\",encoding=\"utf-8\",dtype= {'Country':str, 'Region':str,'Dept':str,'goats':int,'sheep':int,'PR':int,'Pastoral':str}) \n",
    "locations = pd.DataFrame(datal,columns= ['Country','Region','Dept','PR','Pastoral'])\n",
    "locations.head()\n",
    "\n"
   ]
  },
  {
   "cell_type": "code",
   "execution_count": 7,
   "metadata": {},
   "outputs": [],
   "source": [
    "locations.loc[locations['Pastoral'].isnull(), 'Pastoral'] = \"Agro\""
   ]
  },
  {
   "cell_type": "code",
   "execution_count": 8,
   "metadata": {},
   "outputs": [
    {
     "data": {
      "text/html": [
       "<div>\n",
       "<style scoped>\n",
       "    .dataframe tbody tr th:only-of-type {\n",
       "        vertical-align: middle;\n",
       "    }\n",
       "\n",
       "    .dataframe tbody tr th {\n",
       "        vertical-align: top;\n",
       "    }\n",
       "\n",
       "    .dataframe thead th {\n",
       "        text-align: right;\n",
       "    }\n",
       "</style>\n",
       "<table border=\"1\" class=\"dataframe\">\n",
       "  <thead>\n",
       "    <tr style=\"text-align: right;\">\n",
       "      <th></th>\n",
       "      <th>e_type</th>\n",
       "      <th>e_1</th>\n",
       "      <th>e_2</th>\n",
       "      <th>e_3</th>\n",
       "      <th>e_4</th>\n",
       "      <th>e_5</th>\n",
       "      <th>e_6</th>\n",
       "      <th>e_7</th>\n",
       "      <th>e_8</th>\n",
       "      <th>e_9</th>\n",
       "      <th>e_10</th>\n",
       "      <th>e_11</th>\n",
       "      <th>e_12</th>\n",
       "    </tr>\n",
       "  </thead>\n",
       "  <tbody>\n",
       "    <tr>\n",
       "      <th>2</th>\n",
       "      <td>Agro</td>\n",
       "      <td>0.000853</td>\n",
       "      <td>0.001435</td>\n",
       "      <td>0.001230</td>\n",
       "      <td>0.001572</td>\n",
       "      <td>0.002458</td>\n",
       "      <td>0.003663</td>\n",
       "      <td>0.003310</td>\n",
       "      <td>0.002095</td>\n",
       "      <td>0.002166</td>\n",
       "      <td>0.001588</td>\n",
       "      <td>0.000811</td>\n",
       "      <td>0.001145</td>\n",
       "    </tr>\n",
       "    <tr>\n",
       "      <th>5</th>\n",
       "      <td>Sylvo</td>\n",
       "      <td>0.002379</td>\n",
       "      <td>0.001322</td>\n",
       "      <td>0.001092</td>\n",
       "      <td>0.001300</td>\n",
       "      <td>0.002138</td>\n",
       "      <td>0.002521</td>\n",
       "      <td>0.003648</td>\n",
       "      <td>0.002594</td>\n",
       "      <td>0.001265</td>\n",
       "      <td>0.001189</td>\n",
       "      <td>0.001275</td>\n",
       "      <td>0.001948</td>\n",
       "    </tr>\n",
       "  </tbody>\n",
       "</table>\n",
       "</div>"
      ],
      "text/plain": [
       "  e_type       e_1       e_2       e_3       e_4       e_5       e_6  \\\n",
       "2   Agro  0.000853  0.001435  0.001230  0.001572  0.002458  0.003663   \n",
       "5  Sylvo  0.002379  0.001322  0.001092  0.001300  0.002138  0.002521   \n",
       "\n",
       "        e_7       e_8       e_9      e_10      e_11      e_12  \n",
       "2  0.003310  0.002095  0.002166  0.001588  0.000811  0.001145  \n",
       "5  0.003648  0.002594  0.001265  0.001189  0.001275  0.001948  "
      ]
     },
     "execution_count": 8,
     "metadata": {},
     "output_type": "execute_result"
    }
   ],
   "source": [
    "demodata = pd.read_csv(r'../1_Data/Demography/demo_par.csv',sep=\",\",encoding=\"utf-8\") \n",
    "demo = pd.DataFrame(demodata,columns= ['type','par','1','2','3','4','5','6','7','8','9','10','11','12'])\n",
    "births=demo.loc[demo[\"par\"]==\"reprod\",[\"type\",'1','2','3','4','5','6','7','8','9','10','11','12']]\n",
    "births=births.add_prefix('b_')\n",
    "births.head()\n",
    "deaths=demo.loc[demo[\"par\"]==\"hdea\",[\"type\",'1','2','3','4','5','6','7','8','9','10','11','12']]\n",
    "deaths=deaths.add_prefix('d_')\n",
    "deaths.head()\n",
    "export=demo.loc[demo[\"par\"]==\"hoff\",[\"type\",'1','2','3','4','5','6','7','8','9','10','11','12']]\n",
    "export=export.add_prefix('e_')\n",
    "export.head()\n",
    "#deaths=demo[demo[\"par\"]==\"hdea\"]\n",
    "#export=demo[demo[\"par\"]==\"hoff\"]\n"
   ]
  },
  {
   "cell_type": "code",
   "execution_count": 9,
   "metadata": {},
   "outputs": [
    {
     "data": {
      "text/plain": [
       "61"
      ]
     },
     "execution_count": 9,
     "metadata": {},
     "output_type": "execute_result"
    }
   ],
   "source": [
    "dept=locations.merge(births,how=\"inner\",left_on=\"Pastoral\",right_on=\"b_type\")\n",
    "dept=dept.merge(deaths,how=\"inner\",left_on=\"Pastoral\",right_on=\"d_type\")\n",
    "dept=dept.merge(export,how=\"inner\",left_on=\"Pastoral\",right_on=\"e_type\")\n",
    "dept.shape[0]"
   ]
  },
  {
   "cell_type": "markdown",
   "metadata": {},
   "source": [
    "We import epidemiological parmetrs from the csv file \n"
   ]
  },
  {
   "cell_type": "code",
   "execution_count": 10,
   "metadata": {},
   "outputs": [],
   "source": [
    "glob = globals()\n",
    "loc = locals()\n",
    "\n",
    "    \n",
    "with open(\"../1_Data/Epidemio/Epidemicpar.csv\", \"r\") as f:\n",
    "    for line in f:\n",
    "        key_val = line.strip().split(\";\")\n",
    "       \n",
    "        glob[key_val[0]] = float(key_val[1])"
   ]
  },
  {
   "cell_type": "code",
   "execution_count": 11,
   "metadata": {},
   "outputs": [
    {
     "data": {
      "text/plain": [
       "0.4"
      ]
     },
     "execution_count": 11,
     "metadata": {},
     "output_type": "execute_result"
    }
   ],
   "source": [
    "mu0"
   ]
  },
  {
   "cell_type": "markdown",
   "metadata": {},
   "source": [
    "I create a class called NodesData that contains all the demographic information of the department + the fluxes towards the neighbors by month and the function for initialise the  compartiments of the epidemiological model. Inside the  node sevral function have been defined that  are used:\n",
    "\n",
    " - add_neighbour(self, month,neighbour,volume) the function creates 2  dictionary (volume_month  and neighbours)using the  network data and consider the node as origin of the movements: the first one stores , for each month the number of outgoing animals; the second one , for each month and each directly connected destination the number of animals that are exported\n",
    " - normalise. use the previous 2 dictionaries to create a new  one containing tfor each month and each neighbor the fraction animals  moving to the location. this will be used in the second step to distibute  animals\n",
    " - initialise_state(self,namestates) taking the number of states distibute the populations in the compartments at the beginning of the epidemics\n",
    " - initialise_epidemics(self,seeds2,seeds4) for selected nodes add the number of  individuals infected by strain2 or strain4\n",
    " - update_state(self,res,timeres). external function for the model  take the information of the nodes, run the model  and update the distribution. The function update-state add the results  of the model. The parameter timeres  , define if we want to add all estimations  day by day of th  compartment  or just the one at the end of the week.\n",
    " - prepare_transfer(self,res,w0,moving) this function prepares the  number of animals in each state that should be moved (stored in depart_neighb) and subtract from the corresponding compartment. res  is the results from the epidemic model. We are moving one a week  so we are interested only in the results of the last  day. w0 is the week counter, moving is the list of compartiments with alive animals taht are moved.\n",
    " - add_epi_par , add the epidemic parameters to each node\n",
    " "
   ]
  },
  {
   "cell_type": "code",
   "execution_count": 12,
   "metadata": {},
   "outputs": [],
   "source": [
    "class NodesData:\n",
    "\n",
    "    def __init__(self,country,region, name, pop,fertility,mortality,neighbours=None):\n",
    "        self.country,self.region,self.name, self.pop = country,region,name,pop\n",
    "        self.fertility=np.reshape(fertility, 12)\n",
    "        self.mortality=np.reshape(mortality, 12)\n",
    "        self.neighbours = {}\n",
    "        self.norm_neigh={}\n",
    "        self.volume_week={}\n",
    "        self.state={}\n",
    "        self.depart={}\n",
    "        self.depart_neighb={}\n",
    "        self.state={}\n",
    "    def add_epi_par(self,alpha,beta,eta,gamma,mu,rho,sigma,p,vert):\n",
    "        self.alpha,self.beta,self.eta,self.gamma,self.mu,self.rho,self.sigma,self.p,self.vert=alpha,beta,eta,gamma,mu,rho,sigma,p,vert\n",
    "\n",
    "    def add_neighbour(self, week,neighbour,volume):\n",
    "        if week in self.neighbours:\n",
    "            self.neighbours[week][neighbour]=volume\n",
    "            self.volume_week[week]+=volume\n",
    "        else:\n",
    "            self.neighbours[week]={}\n",
    "            self.neighbours[week][neighbour]=volume\n",
    "            self.volume_week[week]={}\n",
    "            self.volume_week[week]=volume\n",
    "    def __str__(self): \n",
    "        return self.neighbours\n",
    "\n",
    "    def __str__(self): \n",
    "        \n",
    "        return self.volume_week  \n",
    "    def normalise(self):\n",
    "        for m in self.neighbours :\n",
    "            self.norm_neigh[m]={}\n",
    "            for n in self.neighbours[m] :\n",
    "                self.norm_neigh[m][n] = float(self.neighbours[m][n])/self.volume_week[m]\n",
    "    \n",
    "    def __str__(self):\n",
    "        \n",
    "        return self.norm_neigh\n",
    "        #self.volume_month =self.neighbours.groupby('month').volume.agg('sum')\n",
    "    #### Partie epidemiologique#######\n",
    "    def initialise_state(self,namestates):\n",
    "        self.state[0]={}\n",
    "        for s in namestates:\n",
    "            self.state[0][s]=0\n",
    "        self.state[0][\"S\"]=self.pop\n",
    "    def initialise_epidemic(self,seeds2,seeds4):\n",
    "        self.state[0][\"S\"]=self.state[0][\"S\"]-(seeds2+seeds4)    \n",
    "        self.state[0][\"I2\"]=seeds2 \n",
    "        self.state[0][\"I4\"]=seeds4\n",
    "    def update_state(self,res,timeres):\n",
    "        if timeres==\"All\":\n",
    "            self.state.update(res)\n",
    "        else:\n",
    "            lastday=res.keys()[-1]\n",
    "            self.state[lastday]=res[lastday]\n",
    "    def __str__(self):\n",
    "        return self.state \n",
    "    def reinitialize(self):\n",
    "        self.state={}\n",
    "    ####################\n",
    "    #### partie transfer\n",
    "    def prepare_transfer(self,res,w0,moving):\n",
    "       \n",
    "        if w0%52 in self.volume_week.keys():\n",
    "            vol_week=self.volume_week[w0%52]\n",
    "            lastday=res.keys()[-1]\n",
    "            # percentage in each compartment that should move\n",
    "            mov0=sum(res[lastday][x] for x in moving)\n",
    "            ratio=float(vol_week)/float(mov0)\n",
    "           \n",
    "            #self.depart=res[lastday].update({x: ratio * res[lastday][x] for x in moving})\n",
    "            for x in moving:\n",
    "                self.depart[x]=int(round(ratio*(res[lastday][x])))\n",
    "                #print(x,self.depart[x],ratio*(res[lastday][x]))\n",
    "            #updating compartment after leaving\n",
    "                self.state[lastday][x]=(self.state[lastday][x]-self.depart[x])\n",
    "            # creating dictionary with animals that should move to each neighboru\n",
    "            for n in self.norm_neigh[w0%52]:\n",
    "                self.depart_neighb[n]={}\n",
    "                for x in moving:\n",
    "                   \n",
    "                    self.depart_neighb[n][x]= self.depart[x] * self.norm_neigh[w0%52][n]\n",
    "    def __str__(self):\n",
    "        return self.depart_neighb"
   ]
  },
  {
   "cell_type": "markdown",
   "metadata": {},
   "source": [
    "We create ditionary of  classes , whose elements are classess that contains information  of the Senegalese Department. \n",
    "The dictionary is called Senegal"
   ]
  },
  {
   "cell_type": "code",
   "execution_count": 13,
   "metadata": {},
   "outputs": [],
   "source": [
    "Senegal = {a.Dept:NodesData(a.Country,a.Region,a.Dept, a.PR,dept.loc[dept['Dept']==a.Dept,'b_1':'b_12'].values,dept.loc[dept['Dept']==a.Dept,'d_1':'d_12'].values) for a in dept.itertuples()}"
   ]
  },
  {
   "cell_type": "markdown",
   "metadata": {},
   "source": [
    "Starting from the network dataframe we  add for each  origin department and for each month the list of destination departments and the volume exchanged"
   ]
  },
  {
   "cell_type": "code",
   "execution_count": 14,
   "metadata": {},
   "outputs": [
    {
     "data": {
      "text/plain": [
       "{None}"
      ]
     },
     "execution_count": 14,
     "metadata": {},
     "output_type": "execute_result"
    }
   ],
   "source": [
    "{Senegal[a.Origin].add_neighbour(a.Week,a.Destination,a.Volume) for a in network.itertuples()}"
   ]
  },
  {
   "cell_type": "code",
   "execution_count": 15,
   "metadata": {},
   "outputs": [
    {
     "data": {
      "text/plain": [
       "{None}"
      ]
     },
     "execution_count": 15,
     "metadata": {},
     "output_type": "execute_result"
    }
   ],
   "source": [
    "{Senegal[a].normalise() for a in Senegal}"
   ]
  },
  {
   "cell_type": "markdown",
   "metadata": {},
   "source": [
    "## Simulations\n"
   ]
  },
  {
   "cell_type": "markdown",
   "metadata": {},
   "source": [
    "We create the list of compartments in the model + the ist of  compartiments that will be moved  among neighbors. We initialise the  compartiments to be 0 except the susceptible , and for a node we put 100 infected of type 2. We simulate 2 years , and  repeat the simulation 10 times"
   ]
  },
  {
   "cell_type": "code",
   "execution_count": 16,
   "metadata": {},
   "outputs": [],
   "source": [
    "namestates=(\"Imm\",\"S\",\"E2\",\"E4\",\"I2\",\"I4\",\"R2\",\"R4\", \"D2\",\"D4\")\n",
    "moving=(\"S\",\"E2\",\"E4\",\"I2\",\"I4\",\"R2\",\"R4\")"
   ]
  },
  {
   "cell_type": "code",
   "execution_count": 17,
   "metadata": {},
   "outputs": [
    {
     "name": "stdout",
     "output_type": "stream",
     "text": [
      "0\n",
      "1\n",
      "2\n",
      "3\n",
      "4\n",
      "5\n",
      "6\n",
      "7\n",
      "8\n",
      "9\n"
     ]
    }
   ],
   "source": [
    "result = []\n",
    "\n",
    "for t in range(0,10):\n",
    "    print(t)\n",
    "    alpha=max(alpha0*(1+(t*0.1-0.5)),0)\n",
    "    beta=max(beta0*(1+(t*0.1-0.5)),0)\n",
    "    gamma=gamma0\n",
    "    eta=eta0\n",
    "    mu=mu0\n",
    "    rho=rho0\n",
    "    sigma=sigma0\n",
    "    p=p0\n",
    "    vert=vert0\n",
    "    {Senegal[a].add_epi_par(alpha,beta,eta,gamma,mu,rho,sigma,p,vert) for a in Senegal}\n",
    "    {Senegal[a].initialise_state(namestates) for a in Senegal}\n",
    "    Senegal['MATAM'].initialise_epidemic(100,0)\n",
    "\n",
    "    for w0 in range(0,208):\n",
    "        for a in Senegal:\n",
    "            res=epi_update_pop(namestates,w0,Senegal[a]) \n",
    "\n",
    "            Senegal[a].update_state(res,\"All\") \n",
    "            Senegal[a].prepare_transfer(res,w0,moving)\n",
    "        for a in Senegal:  \n",
    "            tfuncs.transfer_func(moving,a,Senegal)\n",
    "    res2   =resultdataframe(Senegal,\"All\")  \n",
    "    res2['iter']=t\n",
    "    result.append(res2 )  \n",
    "    {Senegal[a].reinitialize() for a in Senegal}"
   ]
  },
  {
   "cell_type": "code",
   "execution_count": 18,
   "metadata": {},
   "outputs": [],
   "source": [
    "result_df = pd.concat(result, ignore_index=True)\n"
   ]
  },
  {
   "cell_type": "markdown",
   "metadata": {},
   "source": [
    "## Plots"
   ]
  },
  {
   "cell_type": "markdown",
   "metadata": {},
   "source": [
    "The first type of plot , plot  the total number of individuals in each compartment"
   ]
  },
  {
   "cell_type": "code",
   "execution_count": 19,
   "metadata": {},
   "outputs": [],
   "source": [
    "\n",
    "epidemics=result_df.groupby(['iter','time'],as_index=False).agg(\n",
    "    {\n",
    "         'S':sum,    # Sum pop\n",
    "         'I2': sum,  # \n",
    "         'I4': sum,\n",
    "         'D2': sum,\n",
    "         'D4': sum,\n",
    "         'Pop': sum\n",
    "    }\n",
    ")\n",
    "\n",
    "epiplot=pd.melt(epidemics, id_vars=['iter','time'], value_vars=['Pop','S', 'I2','I4','D2','D4'])"
   ]
  },
  {
   "cell_type": "code",
   "execution_count": 20,
   "metadata": {},
   "outputs": [
    {
     "data": {
      "image/png": "[encoded data removed]",
      "text/plain": [
       "<Figure size 474.375x648 with 6 Axes>"
      ]
     },
     "metadata": {
      "needs_background": "light"
     },
     "output_type": "display_data"
    }
   ],
   "source": [
    "g = sns.FacetGrid(epiplot, col='variable', hue='iter', height=3, col_wrap=2,sharey=False)\n",
    "g = g.map(sns.lineplot, 'time', 'value', ci=None).add_legend()"
   ]
  },
  {
   "cell_type": "code",
   "execution_count": null,
   "metadata": {},
   "outputs": [],
   "source": []
  }
 ],
 "metadata": {
  "anaconda-cloud": {},
  "kernelspec": {
   "display_name": "Python 2",
   "language": "python",
   "name": "python2"
  },
  "language_info": {
   "codemirror_mode": {
    "name": "ipython",
    "version": 2
   },
   "file_extension": ".py",
   "mimetype": "text/x-python",
   "name": "python",
   "nbconvert_exporter": "python",
   "pygments_lexer": "ipython2",
   "version": "2.7.17"
  }
 },
 "nbformat": 4,
 "nbformat_minor": 2
}
