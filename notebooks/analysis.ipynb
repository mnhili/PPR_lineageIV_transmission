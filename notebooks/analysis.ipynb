{
 "cells": [
  {
   "cell_type": "code",
   "execution_count": 1,
   "metadata": {},
   "outputs": [],
   "source": [
    "import sys\n",
    "import os\n",
    "import arviz as az\n",
    "import pandas as pd \n",
    "import numpy as np\n",
    "\n",
    "# \"/home/manalitta/d/ExpInfect_LinIV_PPRV/notebooks/analysis.ipynb\" #linux path\n",
    "\n",
    "# r\"D:\\ExpInfect_LinIV_PPRV\\notebooks\\analysis.ipynb\" #windows path\n",
    "\n",
    "notebook_path = os.path.abspath(r\"D:\\ExpInfect_LinIV_PPRV\\notebooks\\analysis.ipynb\")\n",
    "project_path = os.path.dirname(os.path.dirname(notebook_path))\n",
    "sys.path.append(project_path)"
   ]
  },
  {
   "cell_type": "code",
   "execution_count": 2,
   "metadata": {},
   "outputs": [],
   "source": [
    "from src.modeling.main import run_model, run_envelope\n",
    "from src.utils.statistical_utils import  waic_comparison, calculate_ess, calculate_rhat"
   ]
  },
  {
   "cell_type": "code",
   "execution_count": 3,
   "metadata": {},
   "outputs": [],
   "source": [
    "# Set your parameters here\n",
    "baseline_data = 'baseline_data_bernoulli.csv'\n",
    "baseline2_data = 'baseline_data_bernoulli.csv'\n",
    "stratified_data = 'stratified_proximity_data.csv'\n",
    "segmented_data = 'segmented_data.csv'\n",
    "envelope_100cm_1 = 'envelope_100cm_1.csv'\n",
    "envelope_100cm_2 = 'envelope_100cm_2.csv'\n",
    "\n",
    "envelope_150cm_1 = 'envelope_150cm_1.csv'\n",
    "envelope_150cm_2 = 'envelope_150cm_2.csv'\n",
    "\n",
    "envelope_200cm_1 = 'envelope_200cm_1.csv'\n",
    "envelope_200cm_2 = 'envelope_200cm_2.csv'\n",
    "\n",
    "OUTPUT_DIR = r\"D:\\ExpInfect_LinIV_PPRV\\results\\models3\"\n"
   ]
  },
  {
   "cell_type": "markdown",
   "metadata": {},
   "source": [
    "#### Load all inference data of all models"
   ]
  },
  {
   "cell_type": "code",
   "execution_count": 4,
   "metadata": {},
   "outputs": [],
   "source": [
    "trace_baseline = az.from_netcdf(f'{OUTPUT_DIR}/baseline_trace.nc')\n",
    "\n",
    "trace_segmented_100cm = az.from_netcdf(f'{OUTPUT_DIR}/segmented_100cm_trace.nc')\n",
    "trace_segmented_150cm = az.from_netcdf(f'{OUTPUT_DIR}/segmented_150cm_trace.nc')\n",
    "trace_segmented_200cm = az.from_netcdf(f'{OUTPUT_DIR}/segmented_200cm_trace.nc')\n",
    "\n",
    "trace_stratified1 = az.from_netcdf(f'{OUTPUT_DIR}/stratified1_trace.nc')\n",
    "trace_stratified2 = az.from_netcdf(f'{OUTPUT_DIR}/stratified2_trace.nc')\n",
    "trace_stratified3 = az.from_netcdf(f'{OUTPUT_DIR}/stratified3_trace.nc')\n",
    "\n",
    "\n",
    "trace_stratified4 = az.from_netcdf(f'{OUTPUT_DIR}/stratified4_trace.nc')\n",
    "trace_stratified5 = az.from_netcdf(f'{OUTPUT_DIR}/stratified5_trace.nc')\n",
    "\n",
    "trace_envelope_100cm = az.from_netcdf(f'{OUTPUT_DIR}/envelope_100cm_trace.nc')\n",
    "trace_envelope_150cm = az.from_netcdf(f'{OUTPUT_DIR}/envelope_150cm_trace.nc')\n",
    "trace_envelope_200cm = az.from_netcdf(f'{OUTPUT_DIR}/envelope_200cm_trace.nc')\n",
    "\n"
   ]
  },
  {
   "cell_type": "code",
   "execution_count": 9,
   "metadata": {},
   "outputs": [
    {
     "data": {
      "text/plain": [
       "Computed from 100000 posterior samples and 53 observations log-likelihood matrix.\n",
       "\n",
       "          Estimate       SE\n",
       "elpd_waic   -35.57     6.41\n",
       "p_waic        1.27        -"
      ]
     },
     "execution_count": 9,
     "metadata": {},
     "output_type": "execute_result"
    }
   ],
   "source": [
    "az.waic(trace_envelope_100cm)"
   ]
  },
  {
   "cell_type": "markdown",
   "metadata": {},
   "source": [
    "# I. Running Inference on all experiments"
   ]
  },
  {
   "cell_type": "markdown",
   "metadata": {},
   "source": [
    "## 1. Baseline model"
   ]
  },
  {
   "cell_type": "code",
   "execution_count": 4,
   "metadata": {},
   "outputs": [],
   "source": [
    "sampling_params1 = {\n",
    "    'draws': 10000,\n",
    "    'tune': 1000,\n",
    "    'chains': 10,\n",
    "    'target_accept': 0.96\n",
    "}"
   ]
  },
  {
   "cell_type": "code",
   "execution_count": 5,
   "metadata": {},
   "outputs": [
    {
     "name": "stderr",
     "output_type": "stream",
     "text": [
      "c:\\Users\\manal\\miniconda3\\envs\\tf\\lib\\site-packages\\pymc\\data.py:433: UserWarning: The `mutable` kwarg was not specified. Before v4.1.0 it defaulted to `pm.Data(mutable=True)`, which is equivalent to using `pm.MutableData()`. In v4.1.0 the default changed to `pm.Data(mutable=False)`, equivalent to `pm.ConstantData`. Use `pm.ConstantData`/`pm.MutableData` or pass `pm.Data(..., mutable=False/True)` to avoid this warning.\n",
      "  warnings.warn(\n",
      "Compiling...\n",
      "Compilation time = 0:00:11.971848\n",
      "Sampling...\n",
      "Sampling time = 0:00:03.664183\n",
      "Transforming variables...\n",
      "Transformation time = 0:00:00.337953\n"
     ]
    },
    {
     "data": {
      "text/html": [
       "\n",
       "<style>\n",
       "    /* Turns off some styling */\n",
       "    progress {\n",
       "        /* gets rid of default border in Firefox and Opera. */\n",
       "        border: none;\n",
       "        /* Needs to be in here for Safari polyfill so background images work as expected. */\n",
       "        background-size: auto;\n",
       "    }\n",
       "    progress:not([value]), progress:not([value])::-webkit-progress-bar {\n",
       "        background: repeating-linear-gradient(45deg, #7e7e7e, #7e7e7e 10px, #5c5c5c 10px, #5c5c5c 20px);\n",
       "    }\n",
       "    .progress-bar-interrupted, .progress-bar-interrupted::-webkit-progress-bar {\n",
       "        background: #F44336;\n",
       "    }\n",
       "</style>\n"
      ],
      "text/plain": [
       "<IPython.core.display.HTML object>"
      ]
     },
     "metadata": {},
     "output_type": "display_data"
    },
    {
     "data": {
      "text/html": [
       "\n",
       "    <div>\n",
       "      <progress value='100000' class='' max='100000' style='width:300px; height:20px; vertical-align: middle;'></progress>\n",
       "      100.00% [100000/100000 00:02&lt;00:00]\n",
       "    </div>\n",
       "    "
      ],
      "text/plain": [
       "<IPython.core.display.HTML object>"
      ]
     },
     "metadata": {},
     "output_type": "display_data"
    }
   ],
   "source": [
    "trace_baseline = run_model(baseline_data, 'baseline', \n",
    "                           sampling_params=sampling_params1,\n",
    "                           output_dir=OUTPUT_DIR)"
   ]
  },
  {
   "cell_type": "code",
   "execution_count": 7,
   "metadata": {},
   "outputs": [
    {
     "data": {
      "text/plain": [
       "'D:\\\\ExpInfect_LinIV_PPRV\\\\results\\\\models3/baseline_trace.nc'"
      ]
     },
     "execution_count": 7,
     "metadata": {},
     "output_type": "execute_result"
    }
   ],
   "source": [
    "trace_baseline.to_netcdf(f'{OUTPUT_DIR}/baseline_trace.nc')"
   ]
  },
  {
   "cell_type": "code",
   "execution_count": 8,
   "metadata": {},
   "outputs": [],
   "source": [
    "az.summary(trace_baseline, round_to=4, hdi_prob = 0.95).to_csv(f'{OUTPUT_DIR}/baseline_summary.csv')"
   ]
  },
  {
   "cell_type": "markdown",
   "metadata": {},
   "source": [
    "## 1. Baseline model 2"
   ]
  },
  {
   "cell_type": "code",
   "execution_count": 5,
   "metadata": {},
   "outputs": [],
   "source": [
    "sampling_params1 = {\n",
    "    'draws': 10000,\n",
    "    'tune': 1000,\n",
    "    'chains': 10,\n",
    "    'target_accept': 0.96\n",
    "}"
   ]
  },
  {
   "cell_type": "code",
   "execution_count": 6,
   "metadata": {},
   "outputs": [
    {
     "name": "stderr",
     "output_type": "stream",
     "text": [
      "c:\\Users\\manal\\miniconda3\\envs\\tf\\lib\\site-packages\\pymc\\data.py:433: UserWarning: The `mutable` kwarg was not specified. Before v4.1.0 it defaulted to `pm.Data(mutable=True)`, which is equivalent to using `pm.MutableData()`. In v4.1.0 the default changed to `pm.Data(mutable=False)`, equivalent to `pm.ConstantData`. Use `pm.ConstantData`/`pm.MutableData` or pass `pm.Data(..., mutable=False/True)` to avoid this warning.\n",
      "  warnings.warn(\n",
      "Compiling...\n",
      "Compilation time = 0:00:16.533789\n",
      "Sampling...\n",
      "Sampling time = 0:00:03.255699\n",
      "Transforming variables...\n",
      "Transformation time = 0:00:00.235406\n"
     ]
    },
    {
     "data": {
      "text/html": [
       "\n",
       "<style>\n",
       "    /* Turns off some styling */\n",
       "    progress {\n",
       "        /* gets rid of default border in Firefox and Opera. */\n",
       "        border: none;\n",
       "        /* Needs to be in here for Safari polyfill so background images work as expected. */\n",
       "        background-size: auto;\n",
       "    }\n",
       "    progress:not([value]), progress:not([value])::-webkit-progress-bar {\n",
       "        background: repeating-linear-gradient(45deg, #7e7e7e, #7e7e7e 10px, #5c5c5c 10px, #5c5c5c 20px);\n",
       "    }\n",
       "    .progress-bar-interrupted, .progress-bar-interrupted::-webkit-progress-bar {\n",
       "        background: #F44336;\n",
       "    }\n",
       "</style>\n"
      ],
      "text/plain": [
       "<IPython.core.display.HTML object>"
      ]
     },
     "metadata": {},
     "output_type": "display_data"
    },
    {
     "data": {
      "text/html": [
       "\n",
       "    <div>\n",
       "      <progress value='100000' class='' max='100000' style='width:300px; height:20px; vertical-align: middle;'></progress>\n",
       "      100.00% [100000/100000 00:03&lt;00:00]\n",
       "    </div>\n",
       "    "
      ],
      "text/plain": [
       "<IPython.core.display.HTML object>"
      ]
     },
     "metadata": {},
     "output_type": "display_data"
    }
   ],
   "source": [
    "trace_baseline2 = run_model(baseline_data, 'baseline2', \n",
    "                           sampling_params=sampling_params1,\n",
    "                           output_dir=OUTPUT_DIR)"
   ]
  },
  {
   "cell_type": "code",
   "execution_count": 8,
   "metadata": {},
   "outputs": [
    {
     "name": "stderr",
     "output_type": "stream",
     "text": [
      "c:\\Users\\manal\\miniconda3\\envs\\tf\\lib\\site-packages\\arviz\\stats\\density_utils.py:487: UserWarning: Your data appears to have a single value or no finite values\n",
      "  warnings.warn(\"Your data appears to have a single value or no finite values\")\n"
     ]
    },
    {
     "data": {
      "text/plain": [
       "array([[<Axes: title={'center': 'lambda'}>,\n",
       "        <Axes: title={'center': 'lambda'}>]], dtype=object)"
      ]
     },
     "execution_count": 8,
     "metadata": {},
     "output_type": "execute_result"
    },
    {
     "data": {
      "image/png": "[encoded data removed]",
      "text/plain": [
       "<Figure size 1200x200 with 2 Axes>"
      ]
     },
     "metadata": {},
     "output_type": "display_data"
    }
   ],
   "source": [
    "az.plot_trace(trace_baseline2, var_names=['lambda'], compact=True)"
   ]
  },
  {
   "cell_type": "code",
   "execution_count": null,
   "metadata": {},
   "outputs": [],
   "source": [
    "trace_baseline2.to_netcdf(f'{OUTPUT_DIR}/baseline2_trace.nc')"
   ]
  },
  {
   "cell_type": "code",
   "execution_count": null,
   "metadata": {},
   "outputs": [],
   "source": [
    "az.summary(trace_baseline2, round_to=4, hdi_prob = 0.95).to_csv(f'{OUTPUT_DIR}/baseline2_summary.csv')"
   ]
  },
  {
   "cell_type": "markdown",
   "metadata": {},
   "source": [
    "## 2. Segmented models"
   ]
  },
  {
   "cell_type": "code",
   "execution_count": 9,
   "metadata": {},
   "outputs": [],
   "source": [
    "sampling_params2 = {\n",
    "    'draws': 10000,\n",
    "    'tune': 1000,\n",
    "    'chains': 10,\n",
    "    'target_accept': 0.95,\n",
    "}"
   ]
  },
  {
   "cell_type": "code",
   "execution_count": 10,
   "metadata": {},
   "outputs": [
    {
     "name": "stderr",
     "output_type": "stream",
     "text": [
      "c:\\Users\\manal\\miniconda3\\envs\\tf\\lib\\site-packages\\pymc\\data.py:433: UserWarning: The `mutable` kwarg was not specified. Before v4.1.0 it defaulted to `pm.Data(mutable=True)`, which is equivalent to using `pm.MutableData()`. In v4.1.0 the default changed to `pm.Data(mutable=False)`, equivalent to `pm.ConstantData`. Use `pm.ConstantData`/`pm.MutableData` or pass `pm.Data(..., mutable=False/True)` to avoid this warning.\n",
      "  warnings.warn(\n",
      "Compiling...\n",
      "Compilation time = 0:00:03.036112\n",
      "Sampling...\n",
      "Sampling time = 0:00:03.700165\n",
      "Transforming variables...\n",
      "Transformation time = 0:00:00.281962\n"
     ]
    },
    {
     "data": {
      "text/html": [
       "\n",
       "<style>\n",
       "    /* Turns off some styling */\n",
       "    progress {\n",
       "        /* gets rid of default border in Firefox and Opera. */\n",
       "        border: none;\n",
       "        /* Needs to be in here for Safari polyfill so background images work as expected. */\n",
       "        background-size: auto;\n",
       "    }\n",
       "    progress:not([value]), progress:not([value])::-webkit-progress-bar {\n",
       "        background: repeating-linear-gradient(45deg, #7e7e7e, #7e7e7e 10px, #5c5c5c 10px, #5c5c5c 20px);\n",
       "    }\n",
       "    .progress-bar-interrupted, .progress-bar-interrupted::-webkit-progress-bar {\n",
       "        background: #F44336;\n",
       "    }\n",
       "</style>\n"
      ],
      "text/plain": [
       "<IPython.core.display.HTML object>"
      ]
     },
     "metadata": {},
     "output_type": "display_data"
    },
    {
     "data": {
      "text/html": [
       "\n",
       "    <div>\n",
       "      <progress value='100000' class='' max='100000' style='width:300px; height:20px; vertical-align: middle;'></progress>\n",
       "      100.00% [100000/100000 00:03&lt;00:00]\n",
       "    </div>\n",
       "    "
      ],
      "text/plain": [
       "<IPython.core.display.HTML object>"
      ]
     },
     "metadata": {},
     "output_type": "display_data"
    }
   ],
   "source": [
    "segmented_100cm = run_model(segmented_data, 'segmented_100cm', \n",
    "                           sampling_params=sampling_params2,\n",
    "                           output_dir=OUTPUT_DIR)"
   ]
  },
  {
   "cell_type": "code",
   "execution_count": 11,
   "metadata": {},
   "outputs": [],
   "source": [
    "az.summary(segmented_100cm, round_to=4, hdi_prob = 0.95).to_csv(f'{OUTPUT_DIR}/segmented_100cm_summary.csv')"
   ]
  },
  {
   "cell_type": "code",
   "execution_count": 12,
   "metadata": {},
   "outputs": [
    {
     "data": {
      "text/plain": [
       "'D:\\\\ExpInfect_LinIV_PPRV\\\\results\\\\models3/segmented_100cm_trace.nc'"
      ]
     },
     "execution_count": 12,
     "metadata": {},
     "output_type": "execute_result"
    }
   ],
   "source": [
    "segmented_100cm.to_netcdf(f'{OUTPUT_DIR}/segmented_100cm_trace.nc')"
   ]
  },
  {
   "cell_type": "code",
   "execution_count": 13,
   "metadata": {},
   "outputs": [
    {
     "name": "stderr",
     "output_type": "stream",
     "text": [
      "c:\\Users\\manal\\miniconda3\\envs\\tf\\lib\\site-packages\\pymc\\data.py:433: UserWarning: The `mutable` kwarg was not specified. Before v4.1.0 it defaulted to `pm.Data(mutable=True)`, which is equivalent to using `pm.MutableData()`. In v4.1.0 the default changed to `pm.Data(mutable=False)`, equivalent to `pm.ConstantData`. Use `pm.ConstantData`/`pm.MutableData` or pass `pm.Data(..., mutable=False/True)` to avoid this warning.\n",
      "  warnings.warn(\n",
      "Compiling...\n",
      "Compilation time = 0:00:02.131934\n",
      "Sampling...\n",
      "Sampling time = 0:00:03.532458\n",
      "Transforming variables...\n",
      "Transformation time = 0:00:00.264527\n"
     ]
    },
    {
     "data": {
      "text/html": [
       "\n",
       "<style>\n",
       "    /* Turns off some styling */\n",
       "    progress {\n",
       "        /* gets rid of default border in Firefox and Opera. */\n",
       "        border: none;\n",
       "        /* Needs to be in here for Safari polyfill so background images work as expected. */\n",
       "        background-size: auto;\n",
       "    }\n",
       "    progress:not([value]), progress:not([value])::-webkit-progress-bar {\n",
       "        background: repeating-linear-gradient(45deg, #7e7e7e, #7e7e7e 10px, #5c5c5c 10px, #5c5c5c 20px);\n",
       "    }\n",
       "    .progress-bar-interrupted, .progress-bar-interrupted::-webkit-progress-bar {\n",
       "        background: #F44336;\n",
       "    }\n",
       "</style>\n"
      ],
      "text/plain": [
       "<IPython.core.display.HTML object>"
      ]
     },
     "metadata": {},
     "output_type": "display_data"
    },
    {
     "data": {
      "text/html": [
       "\n",
       "    <div>\n",
       "      <progress value='100000' class='' max='100000' style='width:300px; height:20px; vertical-align: middle;'></progress>\n",
       "      100.00% [100000/100000 00:02&lt;00:00]\n",
       "    </div>\n",
       "    "
      ],
      "text/plain": [
       "<IPython.core.display.HTML object>"
      ]
     },
     "metadata": {},
     "output_type": "display_data"
    }
   ],
   "source": [
    "segmented_150cm = run_model(segmented_data, 'segmented_150cm', \n",
    "                            sampling_params=sampling_params2,\n",
    "                            output_dir=OUTPUT_DIR)"
   ]
  },
  {
   "cell_type": "code",
   "execution_count": 14,
   "metadata": {},
   "outputs": [
    {
     "data": {
      "text/plain": [
       "'D:\\\\ExpInfect_LinIV_PPRV\\\\results\\\\models3/segmented_150cm_trace.nc'"
      ]
     },
     "execution_count": 14,
     "metadata": {},
     "output_type": "execute_result"
    }
   ],
   "source": [
    "segmented_150cm.to_netcdf(f'{OUTPUT_DIR}/segmented_150cm_trace.nc')"
   ]
  },
  {
   "cell_type": "code",
   "execution_count": 15,
   "metadata": {},
   "outputs": [],
   "source": [
    "az.summary(segmented_150cm, round_to=4, hdi_prob = 0.95).to_csv(f'{OUTPUT_DIR}/segmented_150cm_summary.csv')"
   ]
  },
  {
   "cell_type": "code",
   "execution_count": 16,
   "metadata": {},
   "outputs": [
    {
     "name": "stderr",
     "output_type": "stream",
     "text": [
      "c:\\Users\\manal\\miniconda3\\envs\\tf\\lib\\site-packages\\pymc\\data.py:433: UserWarning: The `mutable` kwarg was not specified. Before v4.1.0 it defaulted to `pm.Data(mutable=True)`, which is equivalent to using `pm.MutableData()`. In v4.1.0 the default changed to `pm.Data(mutable=False)`, equivalent to `pm.ConstantData`. Use `pm.ConstantData`/`pm.MutableData` or pass `pm.Data(..., mutable=False/True)` to avoid this warning.\n",
      "  warnings.warn(\n",
      "Compiling...\n",
      "Compilation time = 0:00:02.157484\n",
      "Sampling...\n",
      "Sampling time = 0:00:03.643431\n",
      "Transforming variables...\n",
      "Transformation time = 0:00:00.277417\n"
     ]
    },
    {
     "data": {
      "text/html": [
       "\n",
       "<style>\n",
       "    /* Turns off some styling */\n",
       "    progress {\n",
       "        /* gets rid of default border in Firefox and Opera. */\n",
       "        border: none;\n",
       "        /* Needs to be in here for Safari polyfill so background images work as expected. */\n",
       "        background-size: auto;\n",
       "    }\n",
       "    progress:not([value]), progress:not([value])::-webkit-progress-bar {\n",
       "        background: repeating-linear-gradient(45deg, #7e7e7e, #7e7e7e 10px, #5c5c5c 10px, #5c5c5c 20px);\n",
       "    }\n",
       "    .progress-bar-interrupted, .progress-bar-interrupted::-webkit-progress-bar {\n",
       "        background: #F44336;\n",
       "    }\n",
       "</style>\n"
      ],
      "text/plain": [
       "<IPython.core.display.HTML object>"
      ]
     },
     "metadata": {},
     "output_type": "display_data"
    },
    {
     "data": {
      "text/html": [
       "\n",
       "    <div>\n",
       "      <progress value='100000' class='' max='100000' style='width:300px; height:20px; vertical-align: middle;'></progress>\n",
       "      100.00% [100000/100000 00:03&lt;00:00]\n",
       "    </div>\n",
       "    "
      ],
      "text/plain": [
       "<IPython.core.display.HTML object>"
      ]
     },
     "metadata": {},
     "output_type": "display_data"
    }
   ],
   "source": [
    "segmented_200cm = run_model(segmented_data, 'segmented_200cm', \n",
    "                           sampling_params=sampling_params2,\n",
    "                           output_dir=OUTPUT_DIR)"
   ]
  },
  {
   "cell_type": "code",
   "execution_count": 17,
   "metadata": {},
   "outputs": [],
   "source": [
    "az.summary(segmented_200cm, round_to=4, hdi_prob = 0.95).to_csv(f'{OUTPUT_DIR}/segmented_200cm_summary.csv')"
   ]
  },
  {
   "cell_type": "code",
   "execution_count": 18,
   "metadata": {},
   "outputs": [
    {
     "data": {
      "text/plain": [
       "'D:\\\\ExpInfect_LinIV_PPRV\\\\results\\\\models3/segmented_200cm_trace.nc'"
      ]
     },
     "execution_count": 18,
     "metadata": {},
     "output_type": "execute_result"
    }
   ],
   "source": [
    "segmented_200cm.to_netcdf(f'{OUTPUT_DIR}/segmented_200cm_trace.nc')"
   ]
  },
  {
   "cell_type": "markdown",
   "metadata": {},
   "source": [
    "## 3. Stratified models"
   ]
  },
  {
   "cell_type": "code",
   "execution_count": 19,
   "metadata": {},
   "outputs": [],
   "source": [
    "sampling_params = {\n",
    "    'draws': 10000,\n",
    "    'tune': 1000,\n",
    "    'chains': 10,\n",
    "    'target_accept': 0.96,\n",
    "    'initvals' : {'p': 0.001}\n",
    "}"
   ]
  },
  {
   "cell_type": "code",
   "execution_count": 21,
   "metadata": {},
   "outputs": [
    {
     "name": "stderr",
     "output_type": "stream",
     "text": [
      "c:\\Users\\manal\\miniconda3\\envs\\tf\\lib\\site-packages\\pymc\\data.py:433: UserWarning: The `mutable` kwarg was not specified. Before v4.1.0 it defaulted to `pm.Data(mutable=True)`, which is equivalent to using `pm.MutableData()`. In v4.1.0 the default changed to `pm.Data(mutable=False)`, equivalent to `pm.ConstantData`. Use `pm.ConstantData`/`pm.MutableData` or pass `pm.Data(..., mutable=False/True)` to avoid this warning.\n",
      "  warnings.warn(\n",
      "Compiling...\n",
      "Compilation time = 0:00:07.420328\n",
      "Sampling...\n",
      "Sampling time = 0:00:13.550184\n",
      "Transforming variables...\n",
      "Transformation time = 0:00:00.754362\n"
     ]
    },
    {
     "data": {
      "text/html": [
       "\n",
       "<style>\n",
       "    /* Turns off some styling */\n",
       "    progress {\n",
       "        /* gets rid of default border in Firefox and Opera. */\n",
       "        border: none;\n",
       "        /* Needs to be in here for Safari polyfill so background images work as expected. */\n",
       "        background-size: auto;\n",
       "    }\n",
       "    progress:not([value]), progress:not([value])::-webkit-progress-bar {\n",
       "        background: repeating-linear-gradient(45deg, #7e7e7e, #7e7e7e 10px, #5c5c5c 10px, #5c5c5c 20px);\n",
       "    }\n",
       "    .progress-bar-interrupted, .progress-bar-interrupted::-webkit-progress-bar {\n",
       "        background: #F44336;\n",
       "    }\n",
       "</style>\n"
      ],
      "text/plain": [
       "<IPython.core.display.HTML object>"
      ]
     },
     "metadata": {},
     "output_type": "display_data"
    },
    {
     "data": {
      "text/html": [
       "\n",
       "    <div>\n",
       "      <progress value='100000' class='' max='100000' style='width:300px; height:20px; vertical-align: middle;'></progress>\n",
       "      100.00% [100000/100000 00:07&lt;00:00]\n",
       "    </div>\n",
       "    "
      ],
      "text/plain": [
       "<IPython.core.display.HTML object>"
      ]
     },
     "metadata": {},
     "output_type": "display_data"
    }
   ],
   "source": [
    "stratified1 = run_model(stratified_data, 'stratified1', \n",
    "                           sampling_params=sampling_params,\n",
    "                           output_dir=OUTPUT_DIR)"
   ]
  },
  {
   "cell_type": "code",
   "execution_count": 22,
   "metadata": {},
   "outputs": [
    {
     "data": {
      "text/plain": [
       "'D:\\\\ExpInfect_LinIV_PPRV\\\\results\\\\models3/stratified1_trace.nc'"
      ]
     },
     "execution_count": 22,
     "metadata": {},
     "output_type": "execute_result"
    }
   ],
   "source": [
    "stratified1.to_netcdf(f'{OUTPUT_DIR}/stratified1_trace.nc')"
   ]
  },
  {
   "cell_type": "code",
   "execution_count": 23,
   "metadata": {},
   "outputs": [
    {
     "name": "stderr",
     "output_type": "stream",
     "text": [
      "c:\\Users\\manal\\miniconda3\\envs\\tf\\lib\\site-packages\\pymc\\data.py:433: UserWarning: The `mutable` kwarg was not specified. Before v4.1.0 it defaulted to `pm.Data(mutable=True)`, which is equivalent to using `pm.MutableData()`. In v4.1.0 the default changed to `pm.Data(mutable=False)`, equivalent to `pm.ConstantData`. Use `pm.ConstantData`/`pm.MutableData` or pass `pm.Data(..., mutable=False/True)` to avoid this warning.\n",
      "  warnings.warn(\n",
      "Compiling...\n",
      "Compilation time = 0:00:03.057393\n",
      "Sampling...\n",
      "Sampling time = 0:00:05.472615\n",
      "Transforming variables...\n",
      "Transformation time = 0:00:00.402385\n"
     ]
    },
    {
     "data": {
      "text/html": [
       "\n",
       "<style>\n",
       "    /* Turns off some styling */\n",
       "    progress {\n",
       "        /* gets rid of default border in Firefox and Opera. */\n",
       "        border: none;\n",
       "        /* Needs to be in here for Safari polyfill so background images work as expected. */\n",
       "        background-size: auto;\n",
       "    }\n",
       "    progress:not([value]), progress:not([value])::-webkit-progress-bar {\n",
       "        background: repeating-linear-gradient(45deg, #7e7e7e, #7e7e7e 10px, #5c5c5c 10px, #5c5c5c 20px);\n",
       "    }\n",
       "    .progress-bar-interrupted, .progress-bar-interrupted::-webkit-progress-bar {\n",
       "        background: #F44336;\n",
       "    }\n",
       "</style>\n"
      ],
      "text/plain": [
       "<IPython.core.display.HTML object>"
      ]
     },
     "metadata": {},
     "output_type": "display_data"
    },
    {
     "data": {
      "text/html": [
       "\n",
       "    <div>\n",
       "      <progress value='100000' class='' max='100000' style='width:300px; height:20px; vertical-align: middle;'></progress>\n",
       "      100.00% [100000/100000 00:04&lt;00:00]\n",
       "    </div>\n",
       "    "
      ],
      "text/plain": [
       "<IPython.core.display.HTML object>"
      ]
     },
     "metadata": {},
     "output_type": "display_data"
    }
   ],
   "source": [
    "stratified2 = run_model(stratified_data, 'stratified2', \n",
    "                           sampling_params=sampling_params,\n",
    "                           output_dir=OUTPUT_DIR)"
   ]
  },
  {
   "cell_type": "code",
   "execution_count": 29,
   "metadata": {},
   "outputs": [
    {
     "data": {
      "text/plain": [
       "'D:\\\\ExpInfect_LinIV_PPRV\\\\results\\\\models3/stratified2_trace.nc'"
      ]
     },
     "execution_count": 29,
     "metadata": {},
     "output_type": "execute_result"
    }
   ],
   "source": [
    "stratified2.to_netcdf(f'{OUTPUT_DIR}/stratified2_trace.nc')"
   ]
  },
  {
   "cell_type": "code",
   "execution_count": 30,
   "metadata": {},
   "outputs": [
    {
     "name": "stderr",
     "output_type": "stream",
     "text": [
      "c:\\Users\\manal\\miniconda3\\envs\\tf\\lib\\site-packages\\pymc\\data.py:433: UserWarning: The `mutable` kwarg was not specified. Before v4.1.0 it defaulted to `pm.Data(mutable=True)`, which is equivalent to using `pm.MutableData()`. In v4.1.0 the default changed to `pm.Data(mutable=False)`, equivalent to `pm.ConstantData`. Use `pm.ConstantData`/`pm.MutableData` or pass `pm.Data(..., mutable=False/True)` to avoid this warning.\n",
      "  warnings.warn(\n",
      "Compiling...\n",
      "Compilation time = 0:00:02.888035\n",
      "Sampling...\n",
      "Sampling time = 0:00:05.751341\n",
      "Transforming variables...\n",
      "Transformation time = 0:00:00.413066\n"
     ]
    },
    {
     "data": {
      "text/html": [
       "\n",
       "<style>\n",
       "    /* Turns off some styling */\n",
       "    progress {\n",
       "        /* gets rid of default border in Firefox and Opera. */\n",
       "        border: none;\n",
       "        /* Needs to be in here for Safari polyfill so background images work as expected. */\n",
       "        background-size: auto;\n",
       "    }\n",
       "    progress:not([value]), progress:not([value])::-webkit-progress-bar {\n",
       "        background: repeating-linear-gradient(45deg, #7e7e7e, #7e7e7e 10px, #5c5c5c 10px, #5c5c5c 20px);\n",
       "    }\n",
       "    .progress-bar-interrupted, .progress-bar-interrupted::-webkit-progress-bar {\n",
       "        background: #F44336;\n",
       "    }\n",
       "</style>\n"
      ],
      "text/plain": [
       "<IPython.core.display.HTML object>"
      ]
     },
     "metadata": {},
     "output_type": "display_data"
    },
    {
     "data": {
      "text/html": [
       "\n",
       "    <div>\n",
       "      <progress value='100000' class='' max='100000' style='width:300px; height:20px; vertical-align: middle;'></progress>\n",
       "      100.00% [100000/100000 00:04&lt;00:00]\n",
       "    </div>\n",
       "    "
      ],
      "text/plain": [
       "<IPython.core.display.HTML object>"
      ]
     },
     "metadata": {},
     "output_type": "display_data"
    }
   ],
   "source": [
    "stratified3 = run_model(stratified_data, 'stratified3', \n",
    "                           sampling_params=sampling_params,\n",
    "                           output_dir=OUTPUT_DIR)"
   ]
  },
  {
   "cell_type": "code",
   "execution_count": 31,
   "metadata": {},
   "outputs": [
    {
     "data": {
      "text/plain": [
       "'D:\\\\ExpInfect_LinIV_PPRV\\\\results\\\\models3/stratified3_trace.nc'"
      ]
     },
     "execution_count": 31,
     "metadata": {},
     "output_type": "execute_result"
    }
   ],
   "source": [
    "stratified3.to_netcdf(f'{OUTPUT_DIR}/stratified3_trace.nc')"
   ]
  },
  {
   "cell_type": "code",
   "execution_count": 32,
   "metadata": {},
   "outputs": [
    {
     "name": "stderr",
     "output_type": "stream",
     "text": [
      "c:\\Users\\manal\\miniconda3\\envs\\tf\\lib\\site-packages\\pymc\\data.py:433: UserWarning: The `mutable` kwarg was not specified. Before v4.1.0 it defaulted to `pm.Data(mutable=True)`, which is equivalent to using `pm.MutableData()`. In v4.1.0 the default changed to `pm.Data(mutable=False)`, equivalent to `pm.ConstantData`. Use `pm.ConstantData`/`pm.MutableData` or pass `pm.Data(..., mutable=False/True)` to avoid this warning.\n",
      "  warnings.warn(\n",
      "Compiling...\n",
      "Compilation time = 0:00:10.982096\n",
      "Sampling...\n",
      "Sampling time = 0:00:08.560500\n",
      "Transforming variables...\n",
      "Transformation time = 0:00:00.582110\n"
     ]
    },
    {
     "data": {
      "text/html": [
       "\n",
       "<style>\n",
       "    /* Turns off some styling */\n",
       "    progress {\n",
       "        /* gets rid of default border in Firefox and Opera. */\n",
       "        border: none;\n",
       "        /* Needs to be in here for Safari polyfill so background images work as expected. */\n",
       "        background-size: auto;\n",
       "    }\n",
       "    progress:not([value]), progress:not([value])::-webkit-progress-bar {\n",
       "        background: repeating-linear-gradient(45deg, #7e7e7e, #7e7e7e 10px, #5c5c5c 10px, #5c5c5c 20px);\n",
       "    }\n",
       "    .progress-bar-interrupted, .progress-bar-interrupted::-webkit-progress-bar {\n",
       "        background: #F44336;\n",
       "    }\n",
       "</style>\n"
      ],
      "text/plain": [
       "<IPython.core.display.HTML object>"
      ]
     },
     "metadata": {},
     "output_type": "display_data"
    },
    {
     "data": {
      "text/html": [
       "\n",
       "    <div>\n",
       "      <progress value='100000' class='' max='100000' style='width:300px; height:20px; vertical-align: middle;'></progress>\n",
       "      100.00% [100000/100000 00:05&lt;00:00]\n",
       "    </div>\n",
       "    "
      ],
      "text/plain": [
       "<IPython.core.display.HTML object>"
      ]
     },
     "metadata": {},
     "output_type": "display_data"
    }
   ],
   "source": [
    "stratified4= run_model(stratified_data, 'stratified4', \n",
    "                           sampling_params=sampling_params,\n",
    "                           output_dir=OUTPUT_DIR)"
   ]
  },
  {
   "cell_type": "code",
   "execution_count": 33,
   "metadata": {},
   "outputs": [
    {
     "data": {
      "text/plain": [
       "'D:\\\\ExpInfect_LinIV_PPRV\\\\results\\\\models3/stratified4_trace.nc'"
      ]
     },
     "execution_count": 33,
     "metadata": {},
     "output_type": "execute_result"
    }
   ],
   "source": [
    "stratified4.to_netcdf(f'{OUTPUT_DIR}/stratified4_trace.nc')"
   ]
  },
  {
   "cell_type": "code",
   "execution_count": 34,
   "metadata": {},
   "outputs": [
    {
     "name": "stderr",
     "output_type": "stream",
     "text": [
      "c:\\Users\\manal\\miniconda3\\envs\\tf\\lib\\site-packages\\pymc\\data.py:433: UserWarning: The `mutable` kwarg was not specified. Before v4.1.0 it defaulted to `pm.Data(mutable=True)`, which is equivalent to using `pm.MutableData()`. In v4.1.0 the default changed to `pm.Data(mutable=False)`, equivalent to `pm.ConstantData`. Use `pm.ConstantData`/`pm.MutableData` or pass `pm.Data(..., mutable=False/True)` to avoid this warning.\n",
      "  warnings.warn(\n",
      "Compiling...\n",
      "Compilation time = 0:00:04.226982\n",
      "Sampling...\n",
      "Sampling time = 0:00:09.016781\n",
      "Transforming variables...\n",
      "Transformation time = 0:00:00.599525\n"
     ]
    },
    {
     "data": {
      "text/html": [
       "\n",
       "<style>\n",
       "    /* Turns off some styling */\n",
       "    progress {\n",
       "        /* gets rid of default border in Firefox and Opera. */\n",
       "        border: none;\n",
       "        /* Needs to be in here for Safari polyfill so background images work as expected. */\n",
       "        background-size: auto;\n",
       "    }\n",
       "    progress:not([value]), progress:not([value])::-webkit-progress-bar {\n",
       "        background: repeating-linear-gradient(45deg, #7e7e7e, #7e7e7e 10px, #5c5c5c 10px, #5c5c5c 20px);\n",
       "    }\n",
       "    .progress-bar-interrupted, .progress-bar-interrupted::-webkit-progress-bar {\n",
       "        background: #F44336;\n",
       "    }\n",
       "</style>\n"
      ],
      "text/plain": [
       "<IPython.core.display.HTML object>"
      ]
     },
     "metadata": {},
     "output_type": "display_data"
    },
    {
     "data": {
      "text/html": [
       "\n",
       "    <div>\n",
       "      <progress value='100000' class='' max='100000' style='width:300px; height:20px; vertical-align: middle;'></progress>\n",
       "      100.00% [100000/100000 00:05&lt;00:00]\n",
       "    </div>\n",
       "    "
      ],
      "text/plain": [
       "<IPython.core.display.HTML object>"
      ]
     },
     "metadata": {},
     "output_type": "display_data"
    }
   ],
   "source": [
    "stratified5 = run_model(stratified_data, 'stratified5', \n",
    "                           sampling_params=sampling_params,\n",
    "                           output_dir=OUTPUT_DIR)"
   ]
  },
  {
   "cell_type": "code",
   "execution_count": 35,
   "metadata": {},
   "outputs": [
    {
     "data": {
      "text/plain": [
       "'D:\\\\ExpInfect_LinIV_PPRV\\\\results\\\\models3/stratified5_trace.nc'"
      ]
     },
     "execution_count": 35,
     "metadata": {},
     "output_type": "execute_result"
    }
   ],
   "source": [
    "stratified5.to_netcdf(f'{OUTPUT_DIR}/stratified5_trace.nc')"
   ]
  },
  {
   "cell_type": "code",
   "execution_count": 37,
   "metadata": {},
   "outputs": [],
   "source": [
    "az.summary(stratified1, round_to=4, hdi_prob = 0.95).to_csv(f'{OUTPUT_DIR}/stratified1_summary.csv')\n",
    "az.summary(stratified2, round_to=4, hdi_prob = 0.95).to_csv(f'{OUTPUT_DIR}/stratified2_summary.csv')\n",
    "az.summary(stratified3, round_to=4, hdi_prob = 0.95).to_csv(f'{OUTPUT_DIR}/stratified3_summary.csv')\n",
    "az.summary(stratified4, round_to=4, hdi_prob = 0.95).to_csv(f'{OUTPUT_DIR}/stratified4_summary.csv')\n",
    "az.summary(stratified5, round_to=4, hdi_prob = 0.95).to_csv(f'{OUTPUT_DIR}/stratified5_summary.csv')"
   ]
  },
  {
   "cell_type": "markdown",
   "metadata": {},
   "source": [
    "## 4. Envelope models"
   ]
  },
  {
   "cell_type": "code",
   "execution_count": 38,
   "metadata": {},
   "outputs": [],
   "source": [
    "sampling_params4 = {\n",
    "    'draws': 10000,\n",
    "    'tune': 1000,\n",
    "    'chains': 10,\n",
    "    'target_accept': 0.96,\n",
    "    'initvals' : {'p0': 0.001, 'lambda': 0.1}\n",
    "}"
   ]
  },
  {
   "cell_type": "code",
   "execution_count": 39,
   "metadata": {},
   "outputs": [
    {
     "name": "stderr",
     "output_type": "stream",
     "text": [
      "Compiling...\n",
      "Compilation time = 0:00:30.626102\n",
      "Sampling...\n",
      "Sampling time = 0:00:58.617399\n",
      "Transforming variables...\n",
      "Transformation time = 0:00:08.479513\n"
     ]
    },
    {
     "data": {
      "text/html": [
       "\n",
       "<style>\n",
       "    /* Turns off some styling */\n",
       "    progress {\n",
       "        /* gets rid of default border in Firefox and Opera. */\n",
       "        border: none;\n",
       "        /* Needs to be in here for Safari polyfill so background images work as expected. */\n",
       "        background-size: auto;\n",
       "    }\n",
       "    progress:not([value]), progress:not([value])::-webkit-progress-bar {\n",
       "        background: repeating-linear-gradient(45deg, #7e7e7e, #7e7e7e 10px, #5c5c5c 10px, #5c5c5c 20px);\n",
       "    }\n",
       "    .progress-bar-interrupted, .progress-bar-interrupted::-webkit-progress-bar {\n",
       "        background: #F44336;\n",
       "    }\n",
       "</style>\n"
      ],
      "text/plain": [
       "<IPython.core.display.HTML object>"
      ]
     },
     "metadata": {},
     "output_type": "display_data"
    },
    {
     "data": {
      "text/html": [
       "\n",
       "    <div>\n",
       "      <progress value='100000' class='' max='100000' style='width:300px; height:20px; vertical-align: middle;'></progress>\n",
       "      100.00% [100000/100000 00:20&lt;00:00]\n",
       "    </div>\n",
       "    "
      ],
      "text/plain": [
       "<IPython.core.display.HTML object>"
      ]
     },
     "metadata": {},
     "output_type": "display_data"
    }
   ],
   "source": [
    "envelope_100cm = run_envelope(envelope_100cm_1, envelope_100cm_2, 'envelope', \n",
    "                              sampling_params=sampling_params4,\n",
    "                              output_dir=OUTPUT_DIR)"
   ]
  },
  {
   "cell_type": "code",
   "execution_count": 40,
   "metadata": {},
   "outputs": [],
   "source": [
    "az.summary(envelope_100cm, round_to=4, hdi_prob = 0.95).to_csv(f'{OUTPUT_DIR}/envelope_100cm_summary.csv')"
   ]
  },
  {
   "cell_type": "code",
   "execution_count": 41,
   "metadata": {},
   "outputs": [
    {
     "name": "stderr",
     "output_type": "stream",
     "text": [
      "Compiling...\n",
      "Compilation time = 0:00:36.843668\n",
      "Sampling...\n",
      "Sampling time = 0:02:14.567988\n",
      "Transforming variables...\n",
      "Transformation time = 0:00:18.937909\n"
     ]
    },
    {
     "data": {
      "text/html": [
       "\n",
       "<style>\n",
       "    /* Turns off some styling */\n",
       "    progress {\n",
       "        /* gets rid of default border in Firefox and Opera. */\n",
       "        border: none;\n",
       "        /* Needs to be in here for Safari polyfill so background images work as expected. */\n",
       "        background-size: auto;\n",
       "    }\n",
       "    progress:not([value]), progress:not([value])::-webkit-progress-bar {\n",
       "        background: repeating-linear-gradient(45deg, #7e7e7e, #7e7e7e 10px, #5c5c5c 10px, #5c5c5c 20px);\n",
       "    }\n",
       "    .progress-bar-interrupted, .progress-bar-interrupted::-webkit-progress-bar {\n",
       "        background: #F44336;\n",
       "    }\n",
       "</style>\n"
      ],
      "text/plain": [
       "<IPython.core.display.HTML object>"
      ]
     },
     "metadata": {},
     "output_type": "display_data"
    },
    {
     "data": {
      "text/html": [
       "\n",
       "    <div>\n",
       "      <progress value='100000' class='' max='100000' style='width:300px; height:20px; vertical-align: middle;'></progress>\n",
       "      100.00% [100000/100000 00:46&lt;00:00]\n",
       "    </div>\n",
       "    "
      ],
      "text/plain": [
       "<IPython.core.display.HTML object>"
      ]
     },
     "metadata": {},
     "output_type": "display_data"
    }
   ],
   "source": [
    "envelope_150cm = run_envelope(envelope_150cm_1, envelope_150cm_2, 'envelope', \n",
    "                              sampling_params=sampling_params4,\n",
    "                              output_dir=OUTPUT_DIR)"
   ]
  },
  {
   "cell_type": "code",
   "execution_count": 42,
   "metadata": {},
   "outputs": [],
   "source": [
    "az.summary(envelope_150cm, round_to=4, hdi_prob = 0.95).to_csv(f'{OUTPUT_DIR}/envelope_150cm_summary.csv')"
   ]
  },
  {
   "cell_type": "code",
   "execution_count": 43,
   "metadata": {},
   "outputs": [
    {
     "name": "stderr",
     "output_type": "stream",
     "text": [
      "Compiling...\n",
      "Compilation time = 0:00:34.461900\n",
      "Sampling...\n",
      "Sampling time = 0:02:52.196646\n",
      "Transforming variables...\n",
      "Transformation time = 0:00:31.113616\n"
     ]
    },
    {
     "data": {
      "text/html": [
       "\n",
       "<style>\n",
       "    /* Turns off some styling */\n",
       "    progress {\n",
       "        /* gets rid of default border in Firefox and Opera. */\n",
       "        border: none;\n",
       "        /* Needs to be in here for Safari polyfill so background images work as expected. */\n",
       "        background-size: auto;\n",
       "    }\n",
       "    progress:not([value]), progress:not([value])::-webkit-progress-bar {\n",
       "        background: repeating-linear-gradient(45deg, #7e7e7e, #7e7e7e 10px, #5c5c5c 10px, #5c5c5c 20px);\n",
       "    }\n",
       "    .progress-bar-interrupted, .progress-bar-interrupted::-webkit-progress-bar {\n",
       "        background: #F44336;\n",
       "    }\n",
       "</style>\n"
      ],
      "text/plain": [
       "<IPython.core.display.HTML object>"
      ]
     },
     "metadata": {},
     "output_type": "display_data"
    },
    {
     "data": {
      "text/html": [
       "\n",
       "    <div>\n",
       "      <progress value='100000' class='' max='100000' style='width:300px; height:20px; vertical-align: middle;'></progress>\n",
       "      100.00% [100000/100000 01:16&lt;00:00]\n",
       "    </div>\n",
       "    "
      ],
      "text/plain": [
       "<IPython.core.display.HTML object>"
      ]
     },
     "metadata": {},
     "output_type": "display_data"
    }
   ],
   "source": [
    "envelope_200cm = run_envelope(envelope_200cm_1, envelope_200cm_2, 'envelope', \n",
    "                              sampling_params=sampling_params4,\n",
    "                              output_dir=OUTPUT_DIR)"
   ]
  },
  {
   "cell_type": "code",
   "execution_count": 44,
   "metadata": {},
   "outputs": [],
   "source": [
    "az.summary(envelope_200cm, round_to=4, hdi_prob = 0.95).to_csv(f'{OUTPUT_DIR}/envelope_200cm_summary.csv')"
   ]
  },
  {
   "cell_type": "code",
   "execution_count": 45,
   "metadata": {},
   "outputs": [
    {
     "data": {
      "text/plain": [
       "'D:\\\\ExpInfect_LinIV_PPRV\\\\results\\\\models3/envelope_200cm_trace.nc'"
      ]
     },
     "execution_count": 45,
     "metadata": {},
     "output_type": "execute_result"
    }
   ],
   "source": [
    "envelope_100cm.to_netcdf(f'{OUTPUT_DIR}/envelope_100cm_trace.nc')\n",
    "envelope_150cm.to_netcdf(f'{OUTPUT_DIR}/envelope_150cm_trace.nc')\n",
    "envelope_200cm.to_netcdf(f'{OUTPUT_DIR}/envelope_200cm_trace.nc')"
   ]
  },
  {
   "cell_type": "markdown",
   "metadata": {},
   "source": [
    "# II. Models convergence check "
   ]
  },
  {
   "cell_type": "markdown",
   "metadata": {},
   "source": [
    "# II. Models comparison "
   ]
  },
  {
   "cell_type": "markdown",
   "metadata": {},
   "source": [
    "## 1. Models comparison using WAIC metric"
   ]
  },
  {
   "cell_type": "code",
   "execution_count": 47,
   "metadata": {},
   "outputs": [],
   "source": [
    "model_names = ['baseline', \n",
    "               'segmented_100cm', 'segmented_150cm', 'segmented_200cm',\n",
    "                'envelope_150cm', 'envelope_200cm',\n",
    "               'stratified1', 'stratified2', 'stratified3', 'stratified4', 'stratified5']\n",
    "\n",
    "\n",
    "traces = [trace_baseline, \n",
    "          trace_segmented_100cm, trace_segmented_150cm, trace_segmented_200cm,\n",
    "             trace_envelope_150cm, trace_envelope_200cm,\n",
    "          trace_stratified1, trace_stratified2, trace_stratified3, trace_stratified4, trace_stratified5]"
   ]
  },
  {
   "cell_type": "code",
   "execution_count": 48,
   "metadata": {},
   "outputs": [
    {
     "name": "stderr",
     "output_type": "stream",
     "text": [
      "c:\\Users\\manal\\miniconda3\\envs\\tf\\lib\\site-packages\\arviz\\stats\\stats.py:309: FutureWarning: Setting an item of incompatible dtype is deprecated and will raise an error in a future version of pandas. Value 'False' has dtype incompatible with float64, please explicitly cast to a compatible dtype first.\n",
      "  df_comp.loc[val] = (\n",
      "c:\\Users\\manal\\miniconda3\\envs\\tf\\lib\\site-packages\\arviz\\stats\\stats.py:309: FutureWarning: Setting an item of incompatible dtype is deprecated and will raise an error in a future version of pandas. Value 'log' has dtype incompatible with float64, please explicitly cast to a compatible dtype first.\n",
      "  df_comp.loc[val] = (\n"
     ]
    }
   ],
   "source": [
    "waic = waic_comparison(traces, model_names)"
   ]
  },
  {
   "cell_type": "code",
   "execution_count": 49,
   "metadata": {},
   "outputs": [
    {
     "data": {
      "text/html": [
       "<div>\n",
       "<style scoped>\n",
       "    .dataframe tbody tr th:only-of-type {\n",
       "        vertical-align: middle;\n",
       "    }\n",
       "\n",
       "    .dataframe tbody tr th {\n",
       "        vertical-align: top;\n",
       "    }\n",
       "\n",
       "    .dataframe thead th {\n",
       "        text-align: right;\n",
       "    }\n",
       "</style>\n",
       "<table border=\"1\" class=\"dataframe\">\n",
       "  <thead>\n",
       "    <tr style=\"text-align: right;\">\n",
       "      <th></th>\n",
       "      <th>rank</th>\n",
       "      <th>elpd_waic</th>\n",
       "      <th>p_waic</th>\n",
       "      <th>elpd_diff</th>\n",
       "      <th>weight</th>\n",
       "      <th>se</th>\n",
       "      <th>dse</th>\n",
       "      <th>warning</th>\n",
       "      <th>scale</th>\n",
       "    </tr>\n",
       "  </thead>\n",
       "  <tbody>\n",
       "    <tr>\n",
       "      <th>baseline</th>\n",
       "      <td>0</td>\n",
       "      <td>-27.927606</td>\n",
       "      <td>0.879216</td>\n",
       "      <td>0.000000</td>\n",
       "      <td>7.975253e-01</td>\n",
       "      <td>2.450483</td>\n",
       "      <td>0.000000</td>\n",
       "      <td>False</td>\n",
       "      <td>log</td>\n",
       "    </tr>\n",
       "    <tr>\n",
       "      <th>stratified3</th>\n",
       "      <td>1</td>\n",
       "      <td>-28.772522</td>\n",
       "      <td>1.147348</td>\n",
       "      <td>0.844916</td>\n",
       "      <td>2.498631e-02</td>\n",
       "      <td>3.288096</td>\n",
       "      <td>1.763044</td>\n",
       "      <td>False</td>\n",
       "      <td>log</td>\n",
       "    </tr>\n",
       "    <tr>\n",
       "      <th>stratified4</th>\n",
       "      <td>2</td>\n",
       "      <td>-28.875432</td>\n",
       "      <td>1.299500</td>\n",
       "      <td>0.947826</td>\n",
       "      <td>1.774884e-01</td>\n",
       "      <td>3.323898</td>\n",
       "      <td>1.863870</td>\n",
       "      <td>False</td>\n",
       "      <td>log</td>\n",
       "    </tr>\n",
       "    <tr>\n",
       "      <th>stratified1</th>\n",
       "      <td>3</td>\n",
       "      <td>-28.949558</td>\n",
       "      <td>1.254875</td>\n",
       "      <td>1.021952</td>\n",
       "      <td>1.530789e-15</td>\n",
       "      <td>3.388080</td>\n",
       "      <td>1.903510</td>\n",
       "      <td>False</td>\n",
       "      <td>log</td>\n",
       "    </tr>\n",
       "    <tr>\n",
       "      <th>segmented_200cm</th>\n",
       "      <td>4</td>\n",
       "      <td>-31.519743</td>\n",
       "      <td>1.040295</td>\n",
       "      <td>3.592138</td>\n",
       "      <td>0.000000e+00</td>\n",
       "      <td>3.745041</td>\n",
       "      <td>2.610647</td>\n",
       "      <td>False</td>\n",
       "      <td>log</td>\n",
       "    </tr>\n",
       "    <tr>\n",
       "      <th>envelope_200cm</th>\n",
       "      <td>5</td>\n",
       "      <td>-32.105763</td>\n",
       "      <td>1.068848</td>\n",
       "      <td>4.178157</td>\n",
       "      <td>2.889585e-16</td>\n",
       "      <td>4.046546</td>\n",
       "      <td>2.973678</td>\n",
       "      <td>False</td>\n",
       "      <td>log</td>\n",
       "    </tr>\n",
       "    <tr>\n",
       "      <th>stratified5</th>\n",
       "      <td>6</td>\n",
       "      <td>-32.293408</td>\n",
       "      <td>1.298012</td>\n",
       "      <td>4.365802</td>\n",
       "      <td>3.680224e-16</td>\n",
       "      <td>4.018988</td>\n",
       "      <td>2.874084</td>\n",
       "      <td>False</td>\n",
       "      <td>log</td>\n",
       "    </tr>\n",
       "    <tr>\n",
       "      <th>segmented_150cm</th>\n",
       "      <td>7</td>\n",
       "      <td>-34.921333</td>\n",
       "      <td>1.100446</td>\n",
       "      <td>6.993727</td>\n",
       "      <td>3.182464e-16</td>\n",
       "      <td>5.413254</td>\n",
       "      <td>4.496328</td>\n",
       "      <td>False</td>\n",
       "      <td>log</td>\n",
       "    </tr>\n",
       "    <tr>\n",
       "      <th>envelope_150cm</th>\n",
       "      <td>8</td>\n",
       "      <td>-35.284618</td>\n",
       "      <td>1.120025</td>\n",
       "      <td>7.357012</td>\n",
       "      <td>2.479032e-16</td>\n",
       "      <td>5.607881</td>\n",
       "      <td>4.676634</td>\n",
       "      <td>False</td>\n",
       "      <td>log</td>\n",
       "    </tr>\n",
       "    <tr>\n",
       "      <th>segmented_100cm</th>\n",
       "      <td>9</td>\n",
       "      <td>-35.549950</td>\n",
       "      <td>1.067134</td>\n",
       "      <td>7.622344</td>\n",
       "      <td>4.538995e-16</td>\n",
       "      <td>5.517890</td>\n",
       "      <td>4.490884</td>\n",
       "      <td>False</td>\n",
       "      <td>log</td>\n",
       "    </tr>\n",
       "    <tr>\n",
       "      <th>stratified2</th>\n",
       "      <td>10</td>\n",
       "      <td>-36.314483</td>\n",
       "      <td>1.315019</td>\n",
       "      <td>8.386877</td>\n",
       "      <td>0.000000e+00</td>\n",
       "      <td>5.576859</td>\n",
       "      <td>4.528990</td>\n",
       "      <td>False</td>\n",
       "      <td>log</td>\n",
       "    </tr>\n",
       "  </tbody>\n",
       "</table>\n",
       "</div>"
      ],
      "text/plain": [
       "                 rank  elpd_waic    p_waic  elpd_diff        weight        se  \\\n",
       "baseline            0 -27.927606  0.879216   0.000000  7.975253e-01  2.450483   \n",
       "stratified3         1 -28.772522  1.147348   0.844916  2.498631e-02  3.288096   \n",
       "stratified4         2 -28.875432  1.299500   0.947826  1.774884e-01  3.323898   \n",
       "stratified1         3 -28.949558  1.254875   1.021952  1.530789e-15  3.388080   \n",
       "segmented_200cm     4 -31.519743  1.040295   3.592138  0.000000e+00  3.745041   \n",
       "envelope_200cm      5 -32.105763  1.068848   4.178157  2.889585e-16  4.046546   \n",
       "stratified5         6 -32.293408  1.298012   4.365802  3.680224e-16  4.018988   \n",
       "segmented_150cm     7 -34.921333  1.100446   6.993727  3.182464e-16  5.413254   \n",
       "envelope_150cm      8 -35.284618  1.120025   7.357012  2.479032e-16  5.607881   \n",
       "segmented_100cm     9 -35.549950  1.067134   7.622344  4.538995e-16  5.517890   \n",
       "stratified2        10 -36.314483  1.315019   8.386877  0.000000e+00  5.576859   \n",
       "\n",
       "                      dse  warning scale  \n",
       "baseline         0.000000    False   log  \n",
       "stratified3      1.763044    False   log  \n",
       "stratified4      1.863870    False   log  \n",
       "stratified1      1.903510    False   log  \n",
       "segmented_200cm  2.610647    False   log  \n",
       "envelope_200cm   2.973678    False   log  \n",
       "stratified5      2.874084    False   log  \n",
       "segmented_150cm  4.496328    False   log  \n",
       "envelope_150cm   4.676634    False   log  \n",
       "segmented_100cm  4.490884    False   log  \n",
       "stratified2      4.528990    False   log  "
      ]
     },
     "execution_count": 49,
     "metadata": {},
     "output_type": "execute_result"
    }
   ],
   "source": [
    "waic"
   ]
  },
  {
   "cell_type": "code",
   "execution_count": 50,
   "metadata": {},
   "outputs": [],
   "source": [
    "waic.to_csv(f'{OUTPUT_DIR}/waic_comparison.csv')"
   ]
  },
  {
   "cell_type": "code",
   "execution_count": 51,
   "metadata": {},
   "outputs": [
    {
     "data": {
      "text/plain": [
       "Computed from 100000 posterior samples and 53 observations log-likelihood matrix.\n",
       "\n",
       "          Estimate       SE\n",
       "elpd_waic   -35.57     6.41\n",
       "p_waic        1.27        -"
      ]
     },
     "execution_count": 51,
     "metadata": {},
     "output_type": "execute_result"
    }
   ],
   "source": [
    "az.waic(trace_envelope_100cm, pointwise=True)"
   ]
  },
  {
   "cell_type": "code",
   "execution_count": 52,
   "metadata": {},
   "outputs": [
    {
     "data": {
      "text/plain": [
       "7.640000000000001"
      ]
     },
     "execution_count": 52,
     "metadata": {},
     "output_type": "execute_result"
    }
   ],
   "source": [
    "-27.93 - (-35.57 )"
   ]
  },
  {
   "cell_type": "markdown",
   "metadata": {},
   "source": [
    "## 2. Model comparison using AUC metric"
   ]
  },
  {
   "cell_type": "code",
   "execution_count": 123,
   "metadata": {},
   "outputs": [],
   "source": [
    "from src.modeling.predicted_probas import run_predictions\n",
    "from src.utils.statistical_utils import calculate_hdi, calculate_auc"
   ]
  },
  {
   "cell_type": "markdown",
   "metadata": {},
   "source": [
    "### baseline"
   ]
  },
  {
   "cell_type": "code",
   "execution_count": 54,
   "metadata": {},
   "outputs": [],
   "source": [
    "baseline_probas = run_predictions(trace_baseline, 'probs')"
   ]
  },
  {
   "cell_type": "code",
   "execution_count": 55,
   "metadata": {},
   "outputs": [],
   "source": [
    "baseline_probas.to_csv(f'{OUTPUT_DIR}/baseline_probas.csv')"
   ]
  },
  {
   "cell_type": "code",
   "execution_count": 56,
   "metadata": {},
   "outputs": [],
   "source": [
    "y_true = pd.read_csv(r'D:\\ExpInfect_LinIV_PPRV\\data\\processed3\\baseline_data_bernoulli.csv')['infected']\n",
    "np.save(f'{OUTPUT_DIR}/y_true_corrected.npy', y_true.values)"
   ]
  },
  {
   "cell_type": "code",
   "execution_count": 57,
   "metadata": {},
   "outputs": [],
   "source": [
    "y_true = np.load(f'{OUTPUT_DIR}/y_true_corrected.npy')"
   ]
  },
  {
   "cell_type": "code",
   "execution_count": 58,
   "metadata": {},
   "outputs": [],
   "source": [
    "baseline_probas = pd.read_csv(f'{OUTPUT_DIR}/baseline_probas.csv')"
   ]
  },
  {
   "cell_type": "code",
   "execution_count": 59,
   "metadata": {},
   "outputs": [],
   "source": [
    "auc_baseline = calculate_auc(baseline_probas, y_true)"
   ]
  },
  {
   "cell_type": "code",
   "execution_count": 105,
   "metadata": {},
   "outputs": [
    {
     "data": {
      "text/plain": [
       "array([0.84, 0.84])"
      ]
     },
     "execution_count": 105,
     "metadata": {},
     "output_type": "execute_result"
    }
   ],
   "source": [
    "calculate_hdi(auc_baseline)"
   ]
  },
  {
   "cell_type": "code",
   "execution_count": 60,
   "metadata": {},
   "outputs": [
    {
     "data": {
      "text/plain": [
       "0.84"
      ]
     },
     "execution_count": 60,
     "metadata": {},
     "output_type": "execute_result"
    }
   ],
   "source": [
    "np.round(np.mean(auc_baseline), 2)"
   ]
  },
  {
   "cell_type": "code",
   "execution_count": 106,
   "metadata": {},
   "outputs": [
    {
     "data": {
      "text/plain": [
       "0.0"
      ]
     },
     "execution_count": 106,
     "metadata": {},
     "output_type": "execute_result"
    }
   ],
   "source": [
    "np.round(np.std(auc_baseline), 2)"
   ]
  },
  {
   "cell_type": "markdown",
   "metadata": {},
   "source": [
    "### segmented 100 cm"
   ]
  },
  {
   "cell_type": "code",
   "execution_count": 62,
   "metadata": {},
   "outputs": [],
   "source": [
    "auc_segmented_100cm = calculate_auc(run_predictions(trace_segmented_100cm, 'probs'), y_true)"
   ]
  },
  {
   "cell_type": "code",
   "execution_count": 63,
   "metadata": {},
   "outputs": [
    {
     "data": {
      "text/plain": [
       "array([0.67, 0.67])"
      ]
     },
     "execution_count": 63,
     "metadata": {},
     "output_type": "execute_result"
    }
   ],
   "source": [
    "calculate_hdi(auc_segmented_100cm)"
   ]
  },
  {
   "cell_type": "code",
   "execution_count": 64,
   "metadata": {},
   "outputs": [
    {
     "data": {
      "text/plain": [
       "0.67"
      ]
     },
     "execution_count": 64,
     "metadata": {},
     "output_type": "execute_result"
    }
   ],
   "source": [
    "np.round(np.mean(auc_segmented_100cm), 2)"
   ]
  },
  {
   "cell_type": "code",
   "execution_count": 65,
   "metadata": {},
   "outputs": [
    {
     "data": {
      "text/plain": [
       "0.0"
      ]
     },
     "execution_count": 65,
     "metadata": {},
     "output_type": "execute_result"
    }
   ],
   "source": [
    "np.round(np.std(auc_segmented_100cm), 2)"
   ]
  },
  {
   "cell_type": "markdown",
   "metadata": {},
   "source": [
    "### segmented 150"
   ]
  },
  {
   "cell_type": "code",
   "execution_count": 66,
   "metadata": {},
   "outputs": [
    {
     "data": {
      "text/plain": [
       "array([0.68, 0.68])"
      ]
     },
     "execution_count": 66,
     "metadata": {},
     "output_type": "execute_result"
    }
   ],
   "source": [
    "auc_segmented_150cm = calculate_auc(run_predictions(trace_segmented_150cm, 'probs'), y_true)\n",
    "calculate_hdi(auc_segmented_150cm)"
   ]
  },
  {
   "cell_type": "code",
   "execution_count": 67,
   "metadata": {},
   "outputs": [
    {
     "data": {
      "text/plain": [
       "0.68"
      ]
     },
     "execution_count": 67,
     "metadata": {},
     "output_type": "execute_result"
    }
   ],
   "source": [
    "np.round(np.mean(auc_segmented_150cm), 2)"
   ]
  },
  {
   "cell_type": "code",
   "execution_count": 68,
   "metadata": {},
   "outputs": [
    {
     "data": {
      "text/plain": [
       "0.0"
      ]
     },
     "execution_count": 68,
     "metadata": {},
     "output_type": "execute_result"
    }
   ],
   "source": [
    "np.round(np.std(auc_segmented_150cm), 2)"
   ]
  },
  {
   "cell_type": "markdown",
   "metadata": {},
   "source": [
    "### segmented 200"
   ]
  },
  {
   "cell_type": "code",
   "execution_count": 69,
   "metadata": {},
   "outputs": [
    {
     "data": {
      "text/plain": [
       "array([0.73, 0.73])"
      ]
     },
     "execution_count": 69,
     "metadata": {},
     "output_type": "execute_result"
    }
   ],
   "source": [
    "auc_segmented_200cm = calculate_auc(run_predictions(trace_segmented_200cm, 'probs'), y_true)\n",
    "calculate_hdi(auc_segmented_200cm)"
   ]
  },
  {
   "cell_type": "code",
   "execution_count": 70,
   "metadata": {},
   "outputs": [
    {
     "data": {
      "text/plain": [
       "0.73"
      ]
     },
     "execution_count": 70,
     "metadata": {},
     "output_type": "execute_result"
    }
   ],
   "source": [
    "np.round(np.mean(auc_segmented_200cm), 2)"
   ]
  },
  {
   "cell_type": "code",
   "execution_count": 71,
   "metadata": {},
   "outputs": [
    {
     "data": {
      "text/plain": [
       "0.0"
      ]
     },
     "execution_count": 71,
     "metadata": {},
     "output_type": "execute_result"
    }
   ],
   "source": [
    "np.round(np.std(auc_segmented_200cm), 2)"
   ]
  },
  {
   "cell_type": "markdown",
   "metadata": {},
   "source": [
    "### envelope 100"
   ]
  },
  {
   "cell_type": "code",
   "execution_count": 74,
   "metadata": {},
   "outputs": [],
   "source": [
    "y_true_env = pd.read_csv(r'D:\\ExpInfect_LinIV_PPRV\\data\\processed3\\envelope_100cm_2.csv')['infected']"
   ]
  },
  {
   "cell_type": "code",
   "execution_count": 75,
   "metadata": {},
   "outputs": [
    {
     "data": {
      "text/plain": [
       "array([0.65, 0.65])"
      ]
     },
     "execution_count": 75,
     "metadata": {},
     "output_type": "execute_result"
    }
   ],
   "source": [
    "auc_envelope_100cm = calculate_auc(run_predictions(trace_envelope_100cm, 'probs'), y_true_env)\n",
    "calculate_hdi(auc_envelope_100cm)"
   ]
  },
  {
   "cell_type": "code",
   "execution_count": 76,
   "metadata": {},
   "outputs": [
    {
     "data": {
      "text/plain": [
       "0.65"
      ]
     },
     "execution_count": 76,
     "metadata": {},
     "output_type": "execute_result"
    }
   ],
   "source": [
    "np.round(np.mean(auc_envelope_100cm), 2)"
   ]
  },
  {
   "cell_type": "code",
   "execution_count": 77,
   "metadata": {},
   "outputs": [
    {
     "data": {
      "text/plain": [
       "0.0"
      ]
     },
     "execution_count": 77,
     "metadata": {},
     "output_type": "execute_result"
    }
   ],
   "source": [
    "np.round(np.std(auc_envelope_100cm), 2)"
   ]
  },
  {
   "cell_type": "markdown",
   "metadata": {},
   "source": [
    "### envelope 150"
   ]
  },
  {
   "cell_type": "code",
   "execution_count": 78,
   "metadata": {},
   "outputs": [
    {
     "data": {
      "text/plain": [
       "array([0.68, 0.68])"
      ]
     },
     "execution_count": 78,
     "metadata": {},
     "output_type": "execute_result"
    }
   ],
   "source": [
    "auc_envelope_150cm = calculate_auc(run_predictions(trace_envelope_150cm, 'probs'), y_true)\n",
    "calculate_hdi(auc_envelope_150cm)"
   ]
  },
  {
   "cell_type": "code",
   "execution_count": 79,
   "metadata": {},
   "outputs": [
    {
     "data": {
      "text/plain": [
       "0.68"
      ]
     },
     "execution_count": 79,
     "metadata": {},
     "output_type": "execute_result"
    }
   ],
   "source": [
    "np.round(np.mean(auc_envelope_150cm), 2)"
   ]
  },
  {
   "cell_type": "code",
   "execution_count": 80,
   "metadata": {},
   "outputs": [
    {
     "data": {
      "text/plain": [
       "0.0"
      ]
     },
     "execution_count": 80,
     "metadata": {},
     "output_type": "execute_result"
    }
   ],
   "source": [
    "np.round(np.std(auc_envelope_150cm), 2)"
   ]
  },
  {
   "cell_type": "markdown",
   "metadata": {},
   "source": [
    "### envelope 200"
   ]
  },
  {
   "cell_type": "code",
   "execution_count": 81,
   "metadata": {},
   "outputs": [
    {
     "data": {
      "text/plain": [
       "array([0.72, 0.72])"
      ]
     },
     "execution_count": 81,
     "metadata": {},
     "output_type": "execute_result"
    }
   ],
   "source": [
    "auc_envelope_200cm = calculate_auc(run_predictions(trace_envelope_200cm, 'probs'), y_true)\n",
    "calculate_hdi(auc_envelope_200cm)"
   ]
  },
  {
   "cell_type": "code",
   "execution_count": 82,
   "metadata": {},
   "outputs": [
    {
     "data": {
      "text/plain": [
       "0.72"
      ]
     },
     "execution_count": 82,
     "metadata": {},
     "output_type": "execute_result"
    }
   ],
   "source": [
    "np.round(np.mean(auc_envelope_200cm), 2)"
   ]
  },
  {
   "cell_type": "code",
   "execution_count": 83,
   "metadata": {},
   "outputs": [
    {
     "data": {
      "text/plain": [
       "0.0"
      ]
     },
     "execution_count": 83,
     "metadata": {},
     "output_type": "execute_result"
    }
   ],
   "source": [
    "np.round(np.std(auc_envelope_200cm), 2)"
   ]
  },
  {
   "cell_type": "markdown",
   "metadata": {},
   "source": [
    "### stratified 1"
   ]
  },
  {
   "cell_type": "code",
   "execution_count": 84,
   "metadata": {},
   "outputs": [
    {
     "data": {
      "text/plain": [
       "array([0.76, 0.84])"
      ]
     },
     "execution_count": 84,
     "metadata": {},
     "output_type": "execute_result"
    }
   ],
   "source": [
    "auc_stratified1 = calculate_auc(run_predictions(trace_stratified1, 'p_i'), y_true)\n",
    "calculate_hdi(auc_stratified1)"
   ]
  },
  {
   "cell_type": "code",
   "execution_count": 85,
   "metadata": {},
   "outputs": [
    {
     "data": {
      "text/plain": [
       "0.81"
      ]
     },
     "execution_count": 85,
     "metadata": {},
     "output_type": "execute_result"
    }
   ],
   "source": [
    "np.round(np.mean(auc_stratified1), 2)"
   ]
  },
  {
   "cell_type": "code",
   "execution_count": 86,
   "metadata": {},
   "outputs": [
    {
     "data": {
      "text/plain": [
       "0.02"
      ]
     },
     "execution_count": 86,
     "metadata": {},
     "output_type": "execute_result"
    }
   ],
   "source": [
    "np.round(np.std(auc_stratified1), 2)"
   ]
  },
  {
   "cell_type": "markdown",
   "metadata": {},
   "source": [
    "### stratified 2"
   ]
  },
  {
   "cell_type": "code",
   "execution_count": 87,
   "metadata": {},
   "outputs": [
    {
     "data": {
      "text/plain": [
       "array([0.64, 0.67])"
      ]
     },
     "execution_count": 87,
     "metadata": {},
     "output_type": "execute_result"
    }
   ],
   "source": [
    "auc_stratified2 = calculate_auc(run_predictions(trace_stratified2, 'p_i'), y_true)\n",
    "calculate_hdi(auc_stratified2)"
   ]
  },
  {
   "cell_type": "code",
   "execution_count": 88,
   "metadata": {},
   "outputs": [
    {
     "data": {
      "text/plain": [
       "0.66"
      ]
     },
     "execution_count": 88,
     "metadata": {},
     "output_type": "execute_result"
    }
   ],
   "source": [
    "np.round(np.mean(auc_stratified2), 2)"
   ]
  },
  {
   "cell_type": "code",
   "execution_count": 89,
   "metadata": {},
   "outputs": [
    {
     "data": {
      "text/plain": [
       "0.01"
      ]
     },
     "execution_count": 89,
     "metadata": {},
     "output_type": "execute_result"
    }
   ],
   "source": [
    "np.round(np.std(auc_stratified2), 2)"
   ]
  },
  {
   "cell_type": "markdown",
   "metadata": {},
   "source": [
    "### stratified 3"
   ]
  },
  {
   "cell_type": "code",
   "execution_count": 90,
   "metadata": {},
   "outputs": [
    {
     "data": {
      "text/plain": [
       "array([0.78, 0.83])"
      ]
     },
     "execution_count": 90,
     "metadata": {},
     "output_type": "execute_result"
    }
   ],
   "source": [
    "auc_stratified3 = calculate_auc(run_predictions(trace_stratified3, 'p_i'), y_true)\n",
    "calculate_hdi(auc_stratified3)"
   ]
  },
  {
   "cell_type": "code",
   "execution_count": 91,
   "metadata": {},
   "outputs": [
    {
     "data": {
      "text/plain": [
       "0.81"
      ]
     },
     "execution_count": 91,
     "metadata": {},
     "output_type": "execute_result"
    }
   ],
   "source": [
    "np.round(np.mean(auc_stratified3), 2)"
   ]
  },
  {
   "cell_type": "code",
   "execution_count": 92,
   "metadata": {},
   "outputs": [
    {
     "data": {
      "text/plain": [
       "0.01"
      ]
     },
     "execution_count": 92,
     "metadata": {},
     "output_type": "execute_result"
    }
   ],
   "source": [
    "np.round(np.std(auc_stratified3), 2)"
   ]
  },
  {
   "cell_type": "markdown",
   "metadata": {},
   "source": [
    "### stratified 4"
   ]
  },
  {
   "cell_type": "code",
   "execution_count": 93,
   "metadata": {},
   "outputs": [
    {
     "data": {
      "text/plain": [
       "array([0.76, 0.84])"
      ]
     },
     "execution_count": 93,
     "metadata": {},
     "output_type": "execute_result"
    }
   ],
   "source": [
    "auc_stratified4 = calculate_auc(run_predictions(trace_stratified4, 'p_i'), y_true)\n",
    "calculate_hdi(auc_stratified4)"
   ]
  },
  {
   "cell_type": "code",
   "execution_count": 94,
   "metadata": {},
   "outputs": [
    {
     "data": {
      "text/plain": [
       "0.82"
      ]
     },
     "execution_count": 94,
     "metadata": {},
     "output_type": "execute_result"
    }
   ],
   "source": [
    "np.round(np.mean(auc_stratified4), 2)"
   ]
  },
  {
   "cell_type": "code",
   "execution_count": 95,
   "metadata": {},
   "outputs": [
    {
     "data": {
      "text/plain": [
       "0.02"
      ]
     },
     "execution_count": 95,
     "metadata": {},
     "output_type": "execute_result"
    }
   ],
   "source": [
    "np.round(np.std(auc_stratified4), 2)"
   ]
  },
  {
   "cell_type": "markdown",
   "metadata": {},
   "source": [
    "### stratified 5"
   ]
  },
  {
   "cell_type": "code",
   "execution_count": 96,
   "metadata": {},
   "outputs": [
    {
     "data": {
      "text/plain": [
       "array([0.68, 0.73])"
      ]
     },
     "execution_count": 96,
     "metadata": {},
     "output_type": "execute_result"
    }
   ],
   "source": [
    "auc_stratified5 = calculate_auc(run_predictions(trace_stratified5, 'p_i'), y_true)\n",
    "calculate_hdi(auc_stratified5)"
   ]
  },
  {
   "cell_type": "code",
   "execution_count": 97,
   "metadata": {},
   "outputs": [
    {
     "data": {
      "text/plain": [
       "0.71"
      ]
     },
     "execution_count": 97,
     "metadata": {},
     "output_type": "execute_result"
    }
   ],
   "source": [
    "np.round(np.mean(auc_stratified5), 2)"
   ]
  },
  {
   "cell_type": "code",
   "execution_count": 98,
   "metadata": {},
   "outputs": [
    {
     "data": {
      "text/plain": [
       "0.02"
      ]
     },
     "execution_count": 98,
     "metadata": {},
     "output_type": "execute_result"
    }
   ],
   "source": [
    "np.round(np.std(auc_stratified5), 2)"
   ]
  },
  {
   "cell_type": "code",
   "execution_count": 99,
   "metadata": {},
   "outputs": [],
   "source": [
    "run_predictions(trace_segmented_100cm, 'probs').to_csv(f'{OUTPUT_DIR}/segmented_100cm_probas.csv')\n",
    "run_predictions(trace_segmented_150cm, 'probs').to_csv(f'{OUTPUT_DIR}/segmented_150cm_probas.csv')\n",
    "run_predictions(trace_segmented_200cm, 'probs').to_csv(f'{OUTPUT_DIR}/segmented_200cm_probas.csv')\n",
    "run_predictions(trace_envelope_100cm, 'probs').to_csv(f'{OUTPUT_DIR}/envelope_100cm_probas.csv')\n",
    "run_predictions(trace_envelope_150cm, 'probs').to_csv(f'{OUTPUT_DIR}/envelope_150cm_probas.csv')\n",
    "run_predictions(trace_envelope_200cm, 'probs').to_csv(f'{OUTPUT_DIR}/envelope_200cm_probas.csv')"
   ]
  },
  {
   "cell_type": "code",
   "execution_count": 100,
   "metadata": {},
   "outputs": [],
   "source": [
    "run_predictions(trace_stratified1, 'p_i').to_csv(f'{OUTPUT_DIR}/stratified1_probas.csv')\n",
    "run_predictions(trace_stratified2, 'p_i').to_csv(f'{OUTPUT_DIR}/stratified2_probas.csv')\n",
    "run_predictions(trace_stratified3, 'p_i').to_csv(f'{OUTPUT_DIR}/stratified3_probas.csv')\n",
    "run_predictions(trace_stratified4, 'p_i').to_csv(f'{OUTPUT_DIR}/stratified4_probas.csv')\n",
    "run_predictions(trace_stratified5, 'p_i').to_csv(f'{OUTPUT_DIR}/stratified5_probas.csv')\n"
   ]
  },
  {
   "cell_type": "code",
   "execution_count": 101,
   "metadata": {},
   "outputs": [],
   "source": [
    "segmented_100cm_probas = pd.read_csv(f'{OUTPUT_DIR}/segmented_100cm_probas.csv')\n",
    "segmented_150cm_probas = pd.read_csv(f'{OUTPUT_DIR}/segmented_150cm_probas.csv')\n",
    "segmented_200cm_probas = pd.read_csv(f'{OUTPUT_DIR}/segmented_200cm_probas.csv')\n",
    "envelope_100cm_probas = pd.read_csv(f'{OUTPUT_DIR}/envelope_100cm_probas.csv')\n",
    "envelope_150cm_probas = pd.read_csv(f'{OUTPUT_DIR}/envelope_150cm_probas.csv')\n",
    "envelope_200cm_probas = pd.read_csv(f'{OUTPUT_DIR}/envelope_200cm_probas.csv')\n",
    "stratified1_probas = pd.read_csv(f'{OUTPUT_DIR}/stratified1_probas.csv')\n",
    "stratified2_probas = pd.read_csv(f'{OUTPUT_DIR}/stratified2_probas.csv')\n",
    "stratified3_probas = pd.read_csv(f'{OUTPUT_DIR}/stratified3_probas.csv')\n",
    "stratified4_probas = pd.read_csv(f'{OUTPUT_DIR}/stratified4_probas.csv')\n",
    "stratified5_probas = pd.read_csv(f'{OUTPUT_DIR}/stratified5_probas.csv')"
   ]
  },
  {
   "cell_type": "code",
   "execution_count": 102,
   "metadata": {},
   "outputs": [],
   "source": [
    "baseline_probas = pd.read_csv(f'{OUTPUT_DIR}/baseline_probas.csv')"
   ]
  },
  {
   "cell_type": "markdown",
   "metadata": {},
   "source": [
    "## ROC Curves"
   ]
  },
  {
   "cell_type": "code",
   "execution_count": 110,
   "metadata": {},
   "outputs": [],
   "source": [
    "from sklearn.metrics import roc_curve\n",
    "def calculate_mean_roc(df, y_true, label, mean_auc, color):\n",
    "    fpr_list = []\n",
    "    tpr_list = []\n",
    "    \n",
    "    # Calculate ROC \n",
    "    for col in df.columns:\n",
    "        y_pred = df[col].values\n",
    "        fpr, tpr, _ = roc_curve(y_true, y_pred)\n",
    "        fpr_list.append(fpr)\n",
    "        tpr_list.append(tpr)\n",
    "\n",
    "    # Define a common set of FPR values for interpolation\n",
    "    fpr_common = np.linspace(0, 1, 100)\n",
    "\n",
    "    # Interpolate all TPR values at these common FPR points\n",
    "    tpr_interpolated = np.zeros((len(df.columns), len(fpr_common)))\n",
    "\n",
    "    for i in range(len(df.columns)):\n",
    "        tpr_interpolated[i, :] = np.interp(fpr_common, fpr_list[i], tpr_list[i])\n",
    "\n",
    "    # Calculate mean TPR and the confidence intervals (e.g., 95% CI)\n",
    "    mean_tpr = np.mean(tpr_interpolated, axis=0)\n",
    "    # tpr_lower = np.percentile(tpr_interpolated, 2.5, axis=0)\n",
    "    # tpr_upper = np.percentile(tpr_interpolated, 97.5, axis=0)\n",
    "\n",
    "    # Plot the mean ROC curve and the confidence intervals\n",
    "    # sns.lineplot(x=fpr_common, y=mean_tpr, color=color, label=f'Mean ROC (AUC = {mean_auc})')\n",
    "    plt.plot(fpr_common, mean_tpr, label=f'{label} Mean ROC (AUC = {mean_auc})', color=color)\n",
    "    # plt.fill_between(fpr_common, tpr_lower, tpr_upper, color=color, alpha=0.2)"
   ]
  },
  {
   "cell_type": "code",
   "execution_count": 111,
   "metadata": {},
   "outputs": [
    {
     "data": {
      "image/png": "[encoded data removed]",
      "text/plain": [
       "<Figure size 800x600 with 1 Axes>"
      ]
     },
     "metadata": {},
     "output_type": "display_data"
    }
   ],
   "source": [
    "import matplotlib.pyplot as plt\n",
    "import seaborn as sns\n",
    "\n",
    "colors = sns.color_palette(\"Dark2\")\n",
    "\n",
    "\n",
    "plt.figure(figsize=(8, 6))\n",
    "\n",
    "calculate_mean_roc(baseline_probas, y_true, label='Baseline', mean_auc=0.84, color=colors[0])\n",
    "\n",
    "calculate_mean_roc(stratified4_probas, y_true,  label='Stratified 4', mean_auc=0.82, color=colors[1])\n",
    "\n",
    "calculate_mean_roc(stratified1_probas, y_true,  label='Stratified 1', mean_auc=0.81, color=colors[2])\n",
    "\n",
    "calculate_mean_roc(stratified3_probas, y_true,  label='Stratified 3', mean_auc=0.81, color=colors[3])\n",
    "\n",
    "calculate_mean_roc(segmented_200cm_probas, y_true,  label='Segmented 2 m', mean_auc=0.73, color=colors[4])\n",
    "\n",
    "calculate_mean_roc(envelope_200cm_probas, y_true,  label='Envelope 2 m', mean_auc=0.72, color=colors[5])\n",
    "\n",
    "\n",
    "# Diagonal line (random guessing)\n",
    "plt.plot([0, 1], [0, 1], 'k--', label='Random Guessing')\n",
    "\n",
    "\n",
    "# Plot settings\n",
    "plt.xlim([0.0, 1.0])\n",
    "plt.ylim([0.0, 1.05])\n",
    "plt.xlabel('False Positive Rate')\n",
    "plt.ylabel('True Positive Rate')\n",
    "plt.legend(loc=\"lower right\")\n",
    "plt.savefig(\"roc_curve.tiff\", dpi = 350, bbox_inches='tight')"
   ]
  },
  {
   "cell_type": "markdown",
   "metadata": {},
   "source": [
    "## Quality of fit of different models against real observations"
   ]
  },
  {
   "cell_type": "code",
   "execution_count": 124,
   "metadata": {},
   "outputs": [],
   "source": [
    "from src.modeling.predicted_cases2 import run_predictions"
   ]
  },
  {
   "cell_type": "code",
   "execution_count": 125,
   "metadata": {},
   "outputs": [],
   "source": [
    "# Set your parameters here\n",
    "baseline_probas = 'baseline_probas.csv'\n",
    "\n",
    "stratified4_probas = 'stratified4_probas.csv'\n",
    "\n",
    "stratified3_probas  = 'stratified3_probas.csv'\n",
    "\n",
    "stratified1_probas  = 'stratified1_probas.csv'\n",
    "\n",
    "\n",
    "OUTPUT_DIR = r\"D:\\ExpInfect_LinIV_PPRV\\results\\models3\""
   ]
  },
  {
   "cell_type": "code",
   "execution_count": 126,
   "metadata": {},
   "outputs": [],
   "source": [
    "N = [6, 6, 6 , 6, 6, 5, 6, 5, 6, 6]\n",
    "\n",
    "df = pd.read_csv(r\"D:\\ExpInfect_LinIV_PPRV\\data\\df.csv\")"
   ]
  },
  {
   "cell_type": "code",
   "execution_count": 127,
   "metadata": {},
   "outputs": [
    {
     "data": {
      "text/html": [
       "<div>\n",
       "<style scoped>\n",
       "    .dataframe tbody tr th:only-of-type {\n",
       "        vertical-align: middle;\n",
       "    }\n",
       "\n",
       "    .dataframe tbody tr th {\n",
       "        vertical-align: top;\n",
       "    }\n",
       "\n",
       "    .dataframe thead th {\n",
       "        text-align: right;\n",
       "    }\n",
       "</style>\n",
       "<table border=\"1\" class=\"dataframe\">\n",
       "  <thead>\n",
       "    <tr style=\"text-align: right;\">\n",
       "      <th></th>\n",
       "      <th>experiment</th>\n",
       "      <th>duration</th>\n",
       "      <th>seeder</th>\n",
       "      <th>Cap2</th>\n",
       "      <th>time</th>\n",
       "      <th>infected</th>\n",
       "    </tr>\n",
       "  </thead>\n",
       "  <tbody>\n",
       "    <tr>\n",
       "      <th>0</th>\n",
       "      <td>1</td>\n",
       "      <td>1</td>\n",
       "      <td>436</td>\n",
       "      <td>100</td>\n",
       "      <td>60</td>\n",
       "      <td>0</td>\n",
       "    </tr>\n",
       "    <tr>\n",
       "      <th>1</th>\n",
       "      <td>1</td>\n",
       "      <td>1</td>\n",
       "      <td>436</td>\n",
       "      <td>116</td>\n",
       "      <td>60</td>\n",
       "      <td>0</td>\n",
       "    </tr>\n",
       "    <tr>\n",
       "      <th>2</th>\n",
       "      <td>1</td>\n",
       "      <td>1</td>\n",
       "      <td>436</td>\n",
       "      <td>255</td>\n",
       "      <td>60</td>\n",
       "      <td>0</td>\n",
       "    </tr>\n",
       "    <tr>\n",
       "      <th>3</th>\n",
       "      <td>1</td>\n",
       "      <td>1</td>\n",
       "      <td>436</td>\n",
       "      <td>449</td>\n",
       "      <td>60</td>\n",
       "      <td>0</td>\n",
       "    </tr>\n",
       "    <tr>\n",
       "      <th>4</th>\n",
       "      <td>1</td>\n",
       "      <td>1</td>\n",
       "      <td>436</td>\n",
       "      <td>3008</td>\n",
       "      <td>60</td>\n",
       "      <td>0</td>\n",
       "    </tr>\n",
       "  </tbody>\n",
       "</table>\n",
       "</div>"
      ],
      "text/plain": [
       "   experiment  duration  seeder  Cap2  time  infected\n",
       "0           1         1     436   100    60         0\n",
       "1           1         1     436   116    60         0\n",
       "2           1         1     436   255    60         0\n",
       "3           1         1     436   449    60         0\n",
       "4           1         1     436  3008    60         0"
      ]
     },
     "execution_count": 127,
     "metadata": {},
     "output_type": "execute_result"
    }
   ],
   "source": [
    "df.head()"
   ]
  },
  {
   "cell_type": "code",
   "execution_count": 131,
   "metadata": {},
   "outputs": [],
   "source": [
    "baseline_cases = run_predictions(baseline_probas, df, N)"
   ]
  },
  {
   "cell_type": "code",
   "execution_count": 130,
   "metadata": {},
   "outputs": [],
   "source": [
    "stratified1_cases = run_predictions(stratified1_probas, df, N)"
   ]
  },
  {
   "cell_type": "code",
   "execution_count": 128,
   "metadata": {},
   "outputs": [],
   "source": [
    "stratified3_cases = run_predictions(stratified3_probas, df, N)"
   ]
  },
  {
   "cell_type": "code",
   "execution_count": 129,
   "metadata": {},
   "outputs": [],
   "source": [
    "stratified4_cases = run_predictions(stratified4_probas, df, N)"
   ]
  },
  {
   "cell_type": "code",
   "execution_count": 132,
   "metadata": {},
   "outputs": [],
   "source": [
    "baseline_cases.to_csv(f'{OUTPUT_DIR}/baseline_cases.csv', index=False)\n",
    "stratified1_cases.to_csv(f'{OUTPUT_DIR}/stratified1_cases.csv', index=False)\n",
    "stratified3_cases.to_csv(f'{OUTPUT_DIR}/stratified3_cases.csv', index=False)\n",
    "stratified4_cases.to_csv(f'{OUTPUT_DIR}/stratified4_cases.csv', index=False)"
   ]
  },
  {
   "cell_type": "code",
   "execution_count": null,
   "metadata": {
    "vscode": {
     "languageId": "markdown"
    }
   },
   "outputs": [],
   "source": [
    "# Model Comparison and Evaluation for Infection Data\n",
    "\n",
    "This notebook documents the process of fitting, saving, and evaluating a series of statistical models for infection data, including stratified, segmented, and envelope models. The workflow includes model fitting, convergence checks, model comparison using WAIC and AUC metrics, ROC curve visualization, and quality of fit assessment.\n",
    "\n",
    "---\n",
    "\n",
    "## 1. Model Fitting and Saving\n",
    "\n",
    "We fit several models to the data, including stratified and envelope models, using custom functions (`run_model`, `run_envelope`). The fitted models are saved as NetCDF files for reproducibility and further analysis.\n",
    "\n",
    "---\n",
    "\n",
    "## 2. Model Summaries\n",
    "\n",
    "For each fitted model, we compute and save summary statistics (mean, HDI, etc.) using ArviZ's `summary` function. These summaries are exported as CSV files for record-keeping and reporting.\n",
    "\n",
    "---\n",
    "\n",
    "## 3. Model Convergence Check\n",
    "\n",
    "We check the convergence of all models using standard diagnostics (not shown in code, but implied by the workflow). This ensures that the posterior samples are reliable for inference.\n",
    "\n",
    "---\n",
    "\n",
    "## 4. Model Comparison\n",
    "\n",
    "### 4.1. WAIC Metric\n",
    "\n",
    "We compare all models using the WAIC (Widely Applicable Information Criterion) metric. The WAIC values for each model are computed and saved, allowing us to rank models based on their predictive performance.\n",
    "\n",
    "### 4.2. AUC Metric\n",
    "\n",
    "We further evaluate model performance using the AUC (Area Under the ROC Curve) metric. For each model, predicted probabilities are generated, and AUC is computed against the true infection status. We also calculate the HDI (Highest Density Interval) and report the mean and standard deviation of AUC values.\n",
    "\n",
    "---\n",
    "\n",
    "## 5. ROC Curve Visualization\n",
    "\n",
    "We visualize the mean ROC curves for selected models, including confidence intervals, to compare their classification performance. The ROC curves are plotted using interpolated mean TPR values across a common set of FPR points.\n",
    "\n",
    "---\n",
    "\n",
    "## 6. Quality of Fit Against Observations\n",
    "\n",
    "We assess the quality of fit for different models by comparing predicted case counts to real observations. Predictions are generated for each model and saved for further analysis.\n",
    "\n",
    "---\n",
    "\n",
    "## 7. Data and Variable Management\n",
    "\n",
    "Throughout the notebook, we manage data and variables efficiently, reusing previously loaded or computed results to avoid redundancy and ensure consistency.\n",
    "\n",
    "---\n",
    "\n",
    "**Note:** All file paths, parameters, and function calls are tailored to the specific dataset and modeling framework used in this analysis. Adjustments may be necessary for other datasets or modeling approaches."
   ]
  },
  {
   "cell_type": "code",
   "execution_count": null,
   "metadata": {},
   "outputs": [],
   "source": []
  }
 ],
 "metadata": {
  "kernelspec": {
   "display_name": "tf",
   "language": "python",
   "name": "python3"
  },
  "language_info": {
   "codemirror_mode": {
    "name": "ipython",
    "version": 3
   },
   "file_extension": ".py",
   "mimetype": "text/x-python",
   "name": "python",
   "nbconvert_exporter": "python",
   "pygments_lexer": "ipython3",
   "version": "3.9.18"
  }
 },
 "nbformat": 4,
 "nbformat_minor": 2
}
