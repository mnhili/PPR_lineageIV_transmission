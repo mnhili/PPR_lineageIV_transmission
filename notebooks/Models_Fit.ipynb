{
 "cells": [
  {
   "cell_type": "code",
   "execution_count": 1,
   "metadata": {},
   "outputs": [],
   "source": [
    "import pandas as pd\n",
    "import numpy as np\n",
    "import matplotlib.pyplot as plt\n",
    "import seaborn as sns\n",
    "colors = sns.color_palette(\"Dark2\")"
   ]
  },
  {
   "cell_type": "code",
   "execution_count": 2,
   "metadata": {},
   "outputs": [],
   "source": [
    "import os\n",
    "\n",
    "os.chdir(r\"D:\\ExpInfect_LinIV_PPRV\\results\\models3\")"
   ]
  },
  {
   "cell_type": "code",
   "execution_count": 3,
   "metadata": {},
   "outputs": [],
   "source": [
    "# importing data\n",
    "\n",
    "df_baseline = pd.read_csv(\"baseline_cases.csv\")\n",
    "df_stratified1 = pd.read_csv(\"stratified1_cases.csv\")\n",
    "df_stratified3 = pd.read_csv(\"stratified3_cases.csv\")\n",
    "df_stratified4 = pd.read_csv(\"stratified4_cases.csv\")\n",
    "\n",
    "# # corrected stratified 3 \n",
    "# df_stratified3_corrected = pd.read_csv(\"stratified3_cases_new_exp_5_48h.csv\")"
   ]
  },
  {
   "cell_type": "code",
   "execution_count": 4,
   "metadata": {},
   "outputs": [],
   "source": [
    "from scipy import stats\n",
    "\n",
    "def combine_columns(df, col1, col2, new_col):\n",
    "    combined_column = df[col1].astype(str) + \"_\" + df[col2].astype(str)\n",
    "    df.insert(0, new_col, combined_column)\n",
    "    df.drop([col1, col2], axis=1, inplace=True)\n",
    "    return df\n",
    "\n",
    "def calculate_sd(df, col1, col2, new_col):\n",
    "    df.loc[:, new_col] = np.sqrt(df[col1] * (df[col2] - df[col1]))\n",
    "    return df\n",
    "\n",
    "def calculate_mean(df, col_pattern, new_col):\n",
    "    col_list = [col for col in df.columns if col_pattern in col]\n",
    "    df[new_col] = df[col_list].mean(axis=1)\n",
    "    return df, col_list\n",
    "\n",
    "def calculate_quantiles(df, data, quantiles, labels):\n",
    "    quantile_values = np.quantile(data, q=quantiles, axis=1).astype(float)\n",
    "    for i, label in enumerate(labels):\n",
    "        df[label] = quantile_values[i]\n",
    "    return df\n",
    "\n",
    "def calculate_mode(df, col_pattern, new_col):\n",
    "    col_list = [col for col in df.columns if col_pattern in col]\n",
    "    mode_values, _ = stats.mode(df[col_list], axis=1, nan_policy='omit')\n",
    "    df[new_col] = mode_values.flatten()\n",
    "    return df, col_list"
   ]
  },
  {
   "cell_type": "code",
   "execution_count": 5,
   "metadata": {},
   "outputs": [],
   "source": [
    "# Use the functions to process your data\n",
    "\n",
    "df_baseline = combine_columns(df_baseline, 'experiment', 'duration', 'Exp')\n",
    "df_stratified3 = combine_columns(df_stratified3, 'experiment', 'duration', 'Exp')\n",
    "df_stratified4 = combine_columns(df_stratified4, 'experiment', 'duration', 'Exp')\n",
    "df_stratified1 = combine_columns(df_stratified1, 'experiment', 'duration', 'Exp')\n",
    "\n",
    "# df_stratified3_corrected = combine_columns(df_stratified3_corrected, 'experiment', 'duration', 'Exp')\n",
    "\n",
    "datacal = df_baseline[[\"Exp\", \"N\", \"obs\"]]  "
   ]
  },
  {
   "cell_type": "code",
   "execution_count": 6,
   "metadata": {},
   "outputs": [
    {
     "name": "stderr",
     "output_type": "stream",
     "text": [
      "C:\\Users\\manal\\AppData\\Local\\Temp\\ipykernel_17132\\2970588888.py:10: SettingWithCopyWarning: \n",
      "A value is trying to be set on a copy of a slice from a DataFrame.\n",
      "Try using .loc[row_indexer,col_indexer] = value instead\n",
      "\n",
      "See the caveats in the documentation: https://pandas.pydata.org/pandas-docs/stable/user_guide/indexing.html#returning-a-view-versus-a-copy\n",
      "  df.loc[:, new_col] = np.sqrt(df[col1] * (df[col2] - df[col1]))\n"
     ]
    }
   ],
   "source": [
    "datacal = calculate_sd(datacal, 'obs', 'N', 'sd')"
   ]
  },
  {
   "cell_type": "code",
   "execution_count": null,
   "metadata": {},
   "outputs": [],
   "source": [
    "df_baseline, y_pred_columns_baseline = calculate_mean(df_baseline, 'cases', 'Mean')\n",
    "y_pred_data_baseline = df_baseline[y_pred_columns_baseline].values\n",
    "\n",
    "df_stratified3, y_pred_columns_stratified3 = calculate_mean(df_stratified3, 'cases', 'Mean')\n",
    "y_pred_data_stratified3 = df_stratified3[y_pred_columns_stratified3].values\n",
    "\n",
    "df_stratified4, y_pred_columns_stratified4 = calculate_mean(df_stratified4, 'cases', 'Mean')\n",
    "y_pred_data_stratified4 = df_stratified4[y_pred_columns_stratified4].values\n",
    "\n",
    "df_stratified1, y_pred_columns_stratified1 = calculate_mean(df_stratified1, 'cases', 'Mean')\n",
    "y_pred_data_stratified1 = df_stratified1[y_pred_columns_stratified1].values\n",
    "\n",
    "\n",
    "# df_stratified3_corrected, y_pred_columns_stratified3_corrected = calculate_mean(df_stratified3_corrected, 'cases', 'Mean')\n",
    "# y_pred_data_stratified3_corrected = df_stratified3_corrected[y_pred_columns_stratified3_corrected].values"
   ]
  },
  {
   "cell_type": "code",
   "execution_count": 7,
   "metadata": {},
   "outputs": [],
   "source": [
    "df_baseline, y_pred_columns_baseline = calculate_mode(df_baseline, 'cases', 'Mode')\n",
    "y_pred_data_baseline = df_baseline[y_pred_columns_baseline].values\n",
    "\n",
    "df_stratified3, y_pred_columns_stratified3 = calculate_mode(df_stratified3, 'cases', 'Mode')\n",
    "y_pred_data_stratified3 = df_stratified3[y_pred_columns_stratified3].values\n",
    "\n",
    "df_stratified4, y_pred_columns_stratified4 = calculate_mode(df_stratified4, 'cases', 'Mode')\n",
    "y_pred_data_stratified4 = df_stratified4[y_pred_columns_stratified4].values\n",
    "\n",
    "df_stratified1, y_pred_columns_stratified1 = calculate_mode(df_stratified1, 'cases', 'Mode')\n",
    "y_pred_data_stratified1 = df_stratified1[y_pred_columns_stratified1].values\n"
   ]
  },
  {
   "cell_type": "code",
   "execution_count": 8,
   "metadata": {},
   "outputs": [],
   "source": [
    "quantiles = [0.025, 0.25, 0.5, 0.75, 0.975]\n",
    "quantile_labels = ['CI_2.5', 'CI_25', 'Median', 'CI_75', 'CI_97.5']\n",
    "\n",
    "df_baseline = calculate_quantiles(df_baseline, y_pred_data_baseline, quantiles, quantile_labels)\n",
    "df_baseline.drop(y_pred_columns_baseline, axis=1, inplace=True)\n",
    "\n",
    "df_stratified3 = calculate_quantiles(df_stratified3, y_pred_data_stratified3, quantiles, quantile_labels)\n",
    "df_stratified3.drop(y_pred_columns_stratified3, axis=1, inplace=True)\n",
    "\n",
    "# df_stratified3_corrected = calculate_quantiles(df_stratified3_corrected, y_pred_data_stratified3_corrected, quantiles, quantile_labels)\n",
    "# df_stratified3_corrected.drop(y_pred_columns_stratified3_corrected, axis=1, inplace=True)\n",
    "\n",
    "df_stratified4 = calculate_quantiles(df_stratified4, y_pred_data_stratified4, quantiles, quantile_labels)\n",
    "df_stratified4.drop(y_pred_columns_stratified4, axis=1, inplace=True)\n",
    "\n",
    "df_stratified1 = calculate_quantiles(df_stratified1, y_pred_data_stratified1, quantiles, quantile_labels)\n",
    "df_stratified1.drop(y_pred_columns_stratified1, axis=1, inplace=True)"
   ]
  },
  {
   "cell_type": "code",
   "execution_count": null,
   "metadata": {},
   "outputs": [],
   "source": [
    "# # Plotting the main line and points\n",
    "# plt.figure(figsize=(10, 8))\n",
    "\n",
    "\n",
    "# # plotting results of baseline model in red\n",
    "# sns.lineplot(data=df_baseline, x='Exp', y='Mean', color='r', marker= 'o', label='Baseline')\n",
    "# plt.fill_between(df_baseline['Exp'], df_baseline['CI_2.5'], df_baseline['CI_97.5'], color='r', alpha=0.2)\n",
    "# plt.fill_between(df_baseline['Exp'], df_baseline['CI_25'], df_baseline['CI_75'], color='r', alpha=0.4)\n",
    "\n",
    "# # plotting results of corrected stratified3 model in green\n",
    "# sns.lineplot(data=df_stratified3_corrected, x='Exp', y='Mean', color='teal', marker= 'o', label='Stratified3 Corrected')\n",
    "# plt.fill_between(df_stratified3_corrected['Exp'], df_stratified3_corrected['CI_2.5'], df_stratified3_corrected['CI_97.5'], color='green', alpha=0.2)\n",
    "# plt.fill_between(df_stratified3_corrected['Exp'], df_stratified3_corrected['CI_25'], df_stratified3_corrected['CI_75'], color='green', alpha=0.4)\n",
    "\n",
    "\n",
    "# # Adding points and error bars from real observations\n",
    "# sns.scatterplot(data=datacal, x='Exp', y='obs', color='blue', label='Observed')\n",
    "# plt.errorbar(datacal['Exp'], datacal['obs'], yerr=datacal['sd'], fmt='none', ecolor='black')\n",
    "\n",
    "\n",
    "# # Setting labels and title\n",
    "# plt.xlabel(\"Experiment\")\n",
    "# plt.ylabel(\"New Infections\")\n",
    "\n",
    "# # Setting y-limits and y-ticks\n",
    "# plt.ylim(0, 10)\n",
    "# plt.yticks(np.arange(0, 11, 1))\n",
    "\n",
    "# # Rotating x-axis labels\n",
    "# plt.xticks(rotation=90)\n",
    "\n",
    "# # Hiding the legend\n",
    "# plt.legend()\n",
    "\n",
    "# plt.show()"
   ]
  },
  {
   "cell_type": "code",
   "execution_count": 15,
   "metadata": {},
   "outputs": [],
   "source": [
    "def plot_data_frames(df_list, label_list, save_path=None):\n",
    "\n",
    "    width_mm = 190\n",
    "    width_inch = width_mm / 25.4\n",
    "\n",
    "    # Set height proportionally (assuming aspect ratio, adjust as needed)\n",
    "    height_inch = 4  # Example height\n",
    "\n",
    "    plt.figure(figsize=(width_inch, height_inch))\n",
    "    \n",
    "\n",
    "    \n",
    "    for i in range(len(df_list)):\n",
    "        df = df_list[i]\n",
    "        label = label_list[i]\n",
    "        color = colors[i]  # Get color based on index\n",
    "        \n",
    "        sns.lineplot(data=df, x='Exp', y='Mode', marker='o', label=label, color=color, alpha=1)\n",
    "        \n",
    "    sns.scatterplot(data=datacal, x='Exp', y='obs', color='blue', label='Observed')\n",
    "    plt.errorbar(datacal['Exp'], datacal['obs'], yerr=datacal['sd'], fmt='none', ecolor='black')\n",
    "    \n",
    "    # Set the font size to 7 points\n",
    "    plt.rcParams.update({'font.size': 7})\n",
    "    plt.xlabel(\"Experiments\")\n",
    "    plt.ylabel(\"New Infections\")\n",
    "    plt.ylim(0, 10)\n",
    "    plt.yticks(np.arange(0, 11, 1))\n",
    "    plt.xticks(rotation=90)\n",
    "    plt.legend()\n",
    "\n",
    "    if save_path:\n",
    "        plt.savefig(save_path, format='tiff', dpi=350, bbox_inches='tight') \n",
    "    plt.show()"
   ]
  },
  {
   "cell_type": "code",
   "execution_count": 16,
   "metadata": {},
   "outputs": [],
   "source": [
    "df_list = [df_baseline, df_stratified1, df_stratified3, df_stratified4]\n",
    "label_list = [\"Baseline\", \"Stratified1\" , \"Stratified3\", \"Stratified4\", ]"
   ]
  },
  {
   "cell_type": "code",
   "execution_count": 17,
   "metadata": {},
   "outputs": [
    {
     "data": {
      "image/png": "[encoded data removed]",
      "text/plain": [
       "<Figure size 748.031x400 with 1 Axes>"
      ]
     },
     "metadata": {},
     "output_type": "display_data"
    }
   ],
   "source": [
    "plot_data_frames(df_list, label_list, save_path='models_fit.tiff')"
   ]
  },
  {
   "cell_type": "markdown",
   "metadata": {},
   "source": [
    "RMSE (Root Mean Squared Error) is a measure of the differences between predicted values and observed values in a regression analysis.\n",
    "It is calculated by taking the square root of the average of the squared differences between the predicted and observed values.\n",
    "A **lower** RMSE value indicates a better fit of the model to the data.\n",
    "\n",
    "\n",
    "In this case, the models were evaluated based on their RMSE values, and the models with lower RMSE values are ranked higher.\n",
    "The summary table provides the RMSE values for each model, ranked from lowest to highest."
   ]
  },
  {
   "cell_type": "code",
   "execution_count": 19,
   "metadata": {},
   "outputs": [
    {
     "data": {
      "text/html": [
       "<div>\n",
       "<style scoped>\n",
       "    .dataframe tbody tr th:only-of-type {\n",
       "        vertical-align: middle;\n",
       "    }\n",
       "\n",
       "    .dataframe tbody tr th {\n",
       "        vertical-align: top;\n",
       "    }\n",
       "\n",
       "    .dataframe thead th {\n",
       "        text-align: right;\n",
       "    }\n",
       "</style>\n",
       "<table border=\"1\" class=\"dataframe\">\n",
       "  <thead>\n",
       "    <tr style=\"text-align: right;\">\n",
       "      <th></th>\n",
       "      <th>Model</th>\n",
       "      <th>RMSE</th>\n",
       "      <th>Rank</th>\n",
       "    </tr>\n",
       "  </thead>\n",
       "  <tbody>\n",
       "    <tr>\n",
       "      <th>2</th>\n",
       "      <td>Stratified4</td>\n",
       "      <td>1.183216</td>\n",
       "      <td>1.5</td>\n",
       "    </tr>\n",
       "    <tr>\n",
       "      <th>3</th>\n",
       "      <td>Stratified1</td>\n",
       "      <td>1.183216</td>\n",
       "      <td>1.5</td>\n",
       "    </tr>\n",
       "    <tr>\n",
       "      <th>0</th>\n",
       "      <td>baseline</td>\n",
       "      <td>1.303840</td>\n",
       "      <td>3.5</td>\n",
       "    </tr>\n",
       "    <tr>\n",
       "      <th>1</th>\n",
       "      <td>Stratified3</td>\n",
       "      <td>1.303840</td>\n",
       "      <td>3.5</td>\n",
       "    </tr>\n",
       "  </tbody>\n",
       "</table>\n",
       "</div>"
      ],
      "text/plain": [
       "         Model      RMSE  Rank\n",
       "2  Stratified4  1.183216   1.5\n",
       "3  Stratified1  1.183216   1.5\n",
       "0     baseline  1.303840   3.5\n",
       "1  Stratified3  1.303840   3.5"
      ]
     },
     "execution_count": 19,
     "metadata": {},
     "output_type": "execute_result"
    }
   ],
   "source": [
    "# Calculate RMSE for each model\n",
    "models = [df_baseline, df_stratified3, df_stratified4, df_stratified1]  # Add more models if needed\n",
    "rmse_values = []\n",
    "\n",
    "for model in models:\n",
    "    predicted_values = model['Mode']\n",
    "    observed_values = datacal['obs']\n",
    "    rmse = np.sqrt(np.mean((predicted_values - observed_values) ** 2))\n",
    "    rmse_values.append(rmse)\n",
    "\n",
    "# Create a DataFrame with the model names and RMSE values\n",
    "summary_df = pd.DataFrame({'Model': ['baseline', 'Stratified3', 'Stratified4', 'Stratified1'],\n",
    "                           'RMSE': rmse_values})\n",
    "\n",
    "# Add a 'Rank' column based on the RMSE values\n",
    "summary_df['Rank'] = summary_df['RMSE'].rank()\n",
    "\n",
    "# Sort the DataFrame by rank\n",
    "summary_df = summary_df.sort_values('Rank')\n",
    "\n",
    "# Print the summary table\n",
    "summary_df\n"
   ]
  }
 ],
 "metadata": {
  "kernelspec": {
   "display_name": "tf",
   "language": "python",
   "name": "python3"
  },
  "language_info": {
   "codemirror_mode": {
    "name": "ipython",
    "version": 3
   },
   "file_extension": ".py",
   "mimetype": "text/x-python",
   "name": "python",
   "nbconvert_exporter": "python",
   "pygments_lexer": "ipython3",
   "version": "3.9.18"
  }
 },
 "nbformat": 4,
 "nbformat_minor": 4
}
