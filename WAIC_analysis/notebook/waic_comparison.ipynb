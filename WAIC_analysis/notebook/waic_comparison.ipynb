{
 "cells": [
  {
   "cell_type": "code",
   "execution_count": 9,
   "metadata": {},
   "outputs": [],
   "source": [
    "import arviz as az\n",
    "import pandas as pd\n",
    "import numpy as np\n",
    "import matplotlib.pyplot as plt\n",
    "import pymc as pm\n",
    "import pickle"
   ]
  },
  {
   "cell_type": "code",
   "execution_count": 7,
   "metadata": {},
   "outputs": [],
   "source": [
    "traces = []\n",
    "for i in range(1, 6):\n",
    "    filename = f\"/mnt/d/WAIC_analysis/InferenceData/trace_model{i}.pkl\"\n",
    "    with open(filename, \"rb\") as file:\n",
    "        trace = pickle.load(file)\n",
    "        traces.append(trace)\n",
    "\n",
    "trace_model1 = traces[0]\n",
    "trace_model2 = traces[1]\n",
    "trace_model3 = traces[2]\n",
    "trace_model4 = traces[3]     \n",
    "trace_model5 = traces[4]     \n",
    "\n",
    "\n",
    "filename2 = \"/mnt/d/WAIC_analysis/InferenceData/trace_baseline_bernoulli.pkl\"\n",
    "with open(filename2, \"rb\") as file:\n",
    "    trace_bern = pickle.load(file)\n",
    "\n",
    "filename3 = \"/mnt/d/WAIC_analysis/InferenceData/trace_enveloppe_2m_0.1.pkl\"\n",
    "with open(filename3, \"rb\") as file:\n",
    "    trace_env = pickle.load(file)"
   ]
  },
  {
   "cell_type": "code",
   "execution_count": null,
   "metadata": {},
   "outputs": [],
   "source": [
    "with "
   ]
  },
  {
   "cell_type": "code",
   "execution_count": 8,
   "metadata": {},
   "outputs": [
    {
     "ename": "TypeError",
     "evalue": "Encountered error in ELPD computation of compare.",
     "output_type": "error",
     "traceback": [
      "\u001b[0;31m---------------------------------------------------------------------------\u001b[0m",
      "\u001b[0;31mTypeError\u001b[0m                                 Traceback (most recent call last)",
      "File \u001b[0;32m~/miniforge3/envs/pymc_env/lib/python3.10/site-packages/arviz/stats/stats.py:434\u001b[0m, in \u001b[0;36m_calculate_ics\u001b[0;34m(compare_dict, scale, ic, var_name)\u001b[0m\n\u001b[1;32m    433\u001b[0m \u001b[38;5;28;01mtry\u001b[39;00m:\n\u001b[0;32m--> 434\u001b[0m     compare_dict[name] \u001b[38;5;241m=\u001b[39m \u001b[43mic_func\u001b[49m\u001b[43m(\u001b[49m\n\u001b[1;32m    435\u001b[0m \u001b[43m        \u001b[49m\u001b[43mconvert_to_inference_data\u001b[49m\u001b[43m(\u001b[49m\u001b[43mdataset\u001b[49m\u001b[43m)\u001b[49m\u001b[43m,\u001b[49m\n\u001b[1;32m    436\u001b[0m \u001b[43m        \u001b[49m\u001b[43mpointwise\u001b[49m\u001b[38;5;241;43m=\u001b[39;49m\u001b[38;5;28;43;01mTrue\u001b[39;49;00m\u001b[43m,\u001b[49m\n\u001b[1;32m    437\u001b[0m \u001b[43m        \u001b[49m\u001b[43mscale\u001b[49m\u001b[38;5;241;43m=\u001b[39;49m\u001b[43mscale\u001b[49m\u001b[43m,\u001b[49m\n\u001b[1;32m    438\u001b[0m \u001b[43m        \u001b[49m\u001b[43mvar_name\u001b[49m\u001b[38;5;241;43m=\u001b[39;49m\u001b[43mvar_name\u001b[49m\u001b[43m,\u001b[49m\n\u001b[1;32m    439\u001b[0m \u001b[43m    \u001b[49m\u001b[43m)\u001b[49m\n\u001b[1;32m    440\u001b[0m \u001b[38;5;28;01mexcept\u001b[39;00m \u001b[38;5;167;01mException\u001b[39;00m \u001b[38;5;28;01mas\u001b[39;00m e:\n",
      "File \u001b[0;32m~/miniforge3/envs/pymc_env/lib/python3.10/site-packages/arviz/stats/stats.py:753\u001b[0m, in \u001b[0;36mloo\u001b[0;34m(data, pointwise, var_name, reff, scale)\u001b[0m\n\u001b[1;32m    752\u001b[0m inference_data \u001b[38;5;241m=\u001b[39m convert_to_inference_data(data)\n\u001b[0;32m--> 753\u001b[0m log_likelihood \u001b[38;5;241m=\u001b[39m \u001b[43m_get_log_likelihood\u001b[49m\u001b[43m(\u001b[49m\u001b[43minference_data\u001b[49m\u001b[43m,\u001b[49m\u001b[43m \u001b[49m\u001b[43mvar_name\u001b[49m\u001b[38;5;241;43m=\u001b[39;49m\u001b[43mvar_name\u001b[49m\u001b[43m)\u001b[49m\n\u001b[1;32m    754\u001b[0m pointwise \u001b[38;5;241m=\u001b[39m rcParams[\u001b[38;5;124m\"\u001b[39m\u001b[38;5;124mstats.ic_pointwise\u001b[39m\u001b[38;5;124m\"\u001b[39m] \u001b[38;5;28;01mif\u001b[39;00m pointwise \u001b[38;5;129;01mis\u001b[39;00m \u001b[38;5;28;01mNone\u001b[39;00m \u001b[38;5;28;01melse\u001b[39;00m pointwise\n",
      "File \u001b[0;32m~/miniforge3/envs/pymc_env/lib/python3.10/site-packages/arviz/stats/stats_utils.py:429\u001b[0m, in \u001b[0;36mget_log_likelihood\u001b[0;34m(idata, var_name, single_var)\u001b[0m\n\u001b[1;32m    428\u001b[0m \u001b[38;5;28;01mif\u001b[39;00m \u001b[38;5;129;01mnot\u001b[39;00m \u001b[38;5;28mhasattr\u001b[39m(idata, \u001b[38;5;124m\"\u001b[39m\u001b[38;5;124mlog_likelihood\u001b[39m\u001b[38;5;124m\"\u001b[39m):\n\u001b[0;32m--> 429\u001b[0m     \u001b[38;5;28;01mraise\u001b[39;00m \u001b[38;5;167;01mTypeError\u001b[39;00m(\u001b[38;5;124m\"\u001b[39m\u001b[38;5;124mlog likelihood not found in inference data object\u001b[39m\u001b[38;5;124m\"\u001b[39m)\n\u001b[1;32m    430\u001b[0m \u001b[38;5;28;01mif\u001b[39;00m var_name \u001b[38;5;129;01mis\u001b[39;00m \u001b[38;5;28;01mNone\u001b[39;00m:\n",
      "\u001b[0;31mTypeError\u001b[0m: log likelihood not found in inference data object",
      "\nThe above exception was the direct cause of the following exception:\n",
      "\u001b[0;31mTypeError\u001b[0m                                 Traceback (most recent call last)",
      "File \u001b[0;32m~/miniforge3/envs/pymc_env/lib/python3.10/site-packages/arviz/stats/stats.py:181\u001b[0m, in \u001b[0;36mcompare\u001b[0;34m(compare_dict, ic, method, b_samples, alpha, seed, scale, var_name)\u001b[0m\n\u001b[1;32m    180\u001b[0m \u001b[38;5;28;01mtry\u001b[39;00m:\n\u001b[0;32m--> 181\u001b[0m     (ics_dict, scale, ic) \u001b[38;5;241m=\u001b[39m \u001b[43m_calculate_ics\u001b[49m\u001b[43m(\u001b[49m\u001b[43mcompare_dict\u001b[49m\u001b[43m,\u001b[49m\u001b[43m \u001b[49m\u001b[43mscale\u001b[49m\u001b[38;5;241;43m=\u001b[39;49m\u001b[43mscale\u001b[49m\u001b[43m,\u001b[49m\u001b[43m \u001b[49m\u001b[43mic\u001b[49m\u001b[38;5;241;43m=\u001b[39;49m\u001b[43mic\u001b[49m\u001b[43m,\u001b[49m\u001b[43m \u001b[49m\u001b[43mvar_name\u001b[49m\u001b[38;5;241;43m=\u001b[39;49m\u001b[43mvar_name\u001b[49m\u001b[43m)\u001b[49m\n\u001b[1;32m    182\u001b[0m \u001b[38;5;28;01mexcept\u001b[39;00m \u001b[38;5;167;01mException\u001b[39;00m \u001b[38;5;28;01mas\u001b[39;00m e:\n",
      "File \u001b[0;32m~/miniforge3/envs/pymc_env/lib/python3.10/site-packages/arviz/stats/stats.py:441\u001b[0m, in \u001b[0;36m_calculate_ics\u001b[0;34m(compare_dict, scale, ic, var_name)\u001b[0m\n\u001b[1;32m    440\u001b[0m         \u001b[38;5;28;01mexcept\u001b[39;00m \u001b[38;5;167;01mException\u001b[39;00m \u001b[38;5;28;01mas\u001b[39;00m e:\n\u001b[0;32m--> 441\u001b[0m             \u001b[38;5;28;01mraise\u001b[39;00m e\u001b[38;5;241m.\u001b[39m\u001b[38;5;18m__class__\u001b[39m(\n\u001b[1;32m    442\u001b[0m                 \u001b[38;5;124mf\u001b[39m\u001b[38;5;124m\"\u001b[39m\u001b[38;5;124mEncountered error trying to compute \u001b[39m\u001b[38;5;132;01m{\u001b[39;00mic\u001b[38;5;132;01m}\u001b[39;00m\u001b[38;5;124m from model \u001b[39m\u001b[38;5;132;01m{\u001b[39;00mname\u001b[38;5;132;01m}\u001b[39;00m\u001b[38;5;124m.\u001b[39m\u001b[38;5;124m\"\u001b[39m\n\u001b[1;32m    443\u001b[0m             ) \u001b[38;5;28;01mfrom\u001b[39;00m \u001b[38;5;21;01me\u001b[39;00m\n\u001b[1;32m    444\u001b[0m \u001b[38;5;28;01mreturn\u001b[39;00m (compare_dict, scale, ic)\n",
      "\u001b[0;31mTypeError\u001b[0m: Encountered error trying to compute loo from model bernoulli.",
      "\nThe above exception was the direct cause of the following exception:\n",
      "\u001b[0;31mTypeError\u001b[0m                                 Traceback (most recent call last)",
      "Cell \u001b[0;32mIn[8], line 9\u001b[0m\n\u001b[1;32m      1\u001b[0m models \u001b[38;5;241m=\u001b[39m {\n\u001b[1;32m      2\u001b[0m     \u001b[38;5;124m\"\u001b[39m\u001b[38;5;124mmodel1\u001b[39m\u001b[38;5;124m\"\u001b[39m: trace_model1,\n\u001b[1;32m      3\u001b[0m     \u001b[38;5;124m\"\u001b[39m\u001b[38;5;124mmodel2\u001b[39m\u001b[38;5;124m\"\u001b[39m: trace_model2,\n\u001b[0;32m   (...)\u001b[0m\n\u001b[1;32m      7\u001b[0m     \u001b[38;5;124m\"\u001b[39m\u001b[38;5;124mbernoulli\u001b[39m\u001b[38;5;124m\"\u001b[39m: trace_bern\n\u001b[1;32m      8\u001b[0m }\n\u001b[0;32m----> 9\u001b[0m model_compare_default \u001b[38;5;241m=\u001b[39m \u001b[43maz\u001b[49m\u001b[38;5;241;43m.\u001b[39;49m\u001b[43mcompare\u001b[49m\u001b[43m(\u001b[49m\u001b[43mmodels\u001b[49m\u001b[43m)\u001b[49m\n\u001b[1;32m     10\u001b[0m model_compare_default\n",
      "File \u001b[0;32m~/miniforge3/envs/pymc_env/lib/python3.10/site-packages/arviz/stats/stats.py:183\u001b[0m, in \u001b[0;36mcompare\u001b[0;34m(compare_dict, ic, method, b_samples, alpha, seed, scale, var_name)\u001b[0m\n\u001b[1;32m    181\u001b[0m     (ics_dict, scale, ic) \u001b[38;5;241m=\u001b[39m _calculate_ics(compare_dict, scale\u001b[38;5;241m=\u001b[39mscale, ic\u001b[38;5;241m=\u001b[39mic, var_name\u001b[38;5;241m=\u001b[39mvar_name)\n\u001b[1;32m    182\u001b[0m \u001b[38;5;28;01mexcept\u001b[39;00m \u001b[38;5;167;01mException\u001b[39;00m \u001b[38;5;28;01mas\u001b[39;00m e:\n\u001b[0;32m--> 183\u001b[0m     \u001b[38;5;28;01mraise\u001b[39;00m e\u001b[38;5;241m.\u001b[39m\u001b[38;5;18m__class__\u001b[39m(\u001b[38;5;124m\"\u001b[39m\u001b[38;5;124mEncountered error in ELPD computation of compare.\u001b[39m\u001b[38;5;124m\"\u001b[39m) \u001b[38;5;28;01mfrom\u001b[39;00m \u001b[38;5;21;01me\u001b[39;00m\n\u001b[1;32m    184\u001b[0m names \u001b[38;5;241m=\u001b[39m \u001b[38;5;28mlist\u001b[39m(ics_dict\u001b[38;5;241m.\u001b[39mkeys())\n\u001b[1;32m    185\u001b[0m \u001b[38;5;28;01mif\u001b[39;00m ic \u001b[38;5;129;01min\u001b[39;00m {\u001b[38;5;124m\"\u001b[39m\u001b[38;5;124mloo\u001b[39m\u001b[38;5;124m\"\u001b[39m, \u001b[38;5;124m\"\u001b[39m\u001b[38;5;124mwaic\u001b[39m\u001b[38;5;124m\"\u001b[39m}:\n",
      "\u001b[0;31mTypeError\u001b[0m: Encountered error in ELPD computation of compare."
     ]
    }
   ],
   "source": [
    "models = {\n",
    "    \"model1\": trace_model1,\n",
    "    \"model2\": trace_model2,\n",
    "    \"model3\": trace_model3,\n",
    "    \"model4\": trace_model4,\n",
    "    \"model5\": trace_model5,\n",
    "    \"bernoulli\": trace_bern\n",
    "}\n",
    "model_compare_default = az.compare(models)\n",
    "model_compare_default"
   ]
  },
  {
   "cell_type": "code",
   "execution_count": 10,
   "metadata": {},
   "outputs": [
    {
     "data": {
      "text/plain": [
       "0.2502600034632868"
      ]
     },
     "execution_count": 10,
     "metadata": {},
     "output_type": "execute_result"
    }
   ],
   "source": [
    "P = 1 - (1 - 0.0002)**1440\n",
    "\n",
    "P"
   ]
  },
  {
   "cell_type": "code",
   "execution_count": null,
   "metadata": {},
   "outputs": [],
   "source": [
    "R0 = P * N * T \n",
    "\n",
    "R0 = (P*T) * N "
   ]
  }
 ],
 "metadata": {
  "kernelspec": {
   "display_name": "pymc_env",
   "language": "python",
   "name": "python3"
  },
  "language_info": {
   "codemirror_mode": {
    "name": "ipython",
    "version": 3
   },
   "file_extension": ".py",
   "mimetype": "text/x-python",
   "name": "python",
   "nbconvert_exporter": "python",
   "pygments_lexer": "ipython3",
   "version": "3.10.14"
  }
 },
 "nbformat": 4,
 "nbformat_minor": 2
}
