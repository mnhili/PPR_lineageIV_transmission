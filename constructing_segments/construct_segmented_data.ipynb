{
 "cells": [
  {
   "cell_type": "code",
   "execution_count": 1,
   "id": "7e01cc69-8aa0-4ed7-b252-8eb72dfef778",
   "metadata": {
    "tags": []
   },
   "outputs": [],
   "source": [
    "import numpy as np\n",
    "import pandas as pd"
   ]
  },
  {
   "cell_type": "code",
   "execution_count": 2,
   "id": "6ae03c8d-b3d6-4869-96e9-2e1a89cd3fb9",
   "metadata": {
    "tags": []
   },
   "outputs": [],
   "source": [
    "df1 = pd.read_excel(\"output_data/experiment1_1h.xlsx\")\n",
    "df2 = pd.read_excel(\"output_data/experiment1_6h.xlsx\")\n",
    "df3 = pd.read_excel(\"output_data/experiment1_24h.xlsx\")\n",
    "df4 = pd.read_excel(\"output_data/experiment2_24h.xlsx\")\n",
    "df5 = pd.read_excel(\"output_data/experiment2_44h.xlsx\")\n",
    "df6 = pd.read_excel(\"output_data/experiment3_24h.xlsx\")\n",
    "df7 = pd.read_excel(\"output_data/experiment4_24h.xlsx\")\n",
    "df8 = pd.read_excel(\"output_data/experiment4_48h.xlsx\")\n",
    "df9 = pd.read_excel(\"output_data/experiment5_24h.xlsx\")\n",
    "df10 = pd.read_excel(\"output_data/experiment5_48h.xlsx\")"
   ]
  },
  {
   "cell_type": "code",
   "execution_count": 3,
   "id": "10e520a1-eea3-4262-aa3b-73e511cad724",
   "metadata": {
    "tags": []
   },
   "outputs": [],
   "source": [
    "df = pd.concat([df1, df2, df3, df4, df5, df6, df7, df8, df9, df10])"
   ]
  },
  {
   "cell_type": "code",
   "execution_count": 4,
   "id": "5737e8eb-1aae-487c-be1e-1bfe7e020bed",
   "metadata": {
    "tags": []
   },
   "outputs": [],
   "source": [
    "data = pd.DataFrame()\n",
    "for e in df['experiment'].unique():\n",
    "    for c in df['contact_duration'].unique():\n",
    "        df_temp = df[(df['experiment'] == e) & (df['contact_duration'] == c)]\n",
    "        for i in df_temp['Cap2'].unique():\n",
    "            datai = df_temp[(df_temp['mean_dist'] <= 0.5) & (df_temp['Cap2'] == i)].copy()\n",
    "            datai['time_min'] = round(len(datai), 2)\n",
    "            datai = datai[['experiment', 'contact_duration', 'Cap1', 'Cap2', 'time_min']].drop_duplicates()\n",
    "            data = pd.concat([data, datai], ignore_index=True)"
   ]
  },
  {
   "cell_type": "code",
   "execution_count": 5,
   "id": "9011eeb8-8a03-438e-ad48-7800b8db5a6d",
   "metadata": {
    "tags": []
   },
   "outputs": [],
   "source": [
    "data.to_excel('data_seg_0.5m.xlsx', index=False)"
   ]
  },
  {
   "cell_type": "code",
   "execution_count": null,
   "id": "ec935cdd-9a93-4b65-8ebc-4b6002c28606",
   "metadata": {},
   "outputs": [],
   "source": []
  }
 ],
 "metadata": {
  "kernelspec": {
   "display_name": "Python 3 (ipykernel)",
   "language": "python",
   "name": "python3"
  },
  "language_info": {
   "codemirror_mode": {
    "name": "ipython",
    "version": 3
   },
   "file_extension": ".py",
   "mimetype": "text/x-python",
   "name": "python",
   "nbconvert_exporter": "python",
   "pygments_lexer": "ipython3",
   "version": "3.11.5"
  }
 },
 "nbformat": 4,
 "nbformat_minor": 5
}
