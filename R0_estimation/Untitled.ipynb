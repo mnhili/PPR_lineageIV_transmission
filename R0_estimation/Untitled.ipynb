{
 "cells": [
  {
   "cell_type": "code",
   "execution_count": 11,
   "id": "1ea96b9f",
   "metadata": {},
   "outputs": [],
   "source": [
    "import decimal\n",
    "import math\n",
    "import numpy as np\n",
    "import pymc as pm\n"
   ]
  },
  {
   "cell_type": "code",
   "execution_count": 3,
   "id": "911e2f5c",
   "metadata": {},
   "outputs": [],
   "source": [
    "p0=0.0034\n",
    "lambda_=0.3712\n",
    "p=1-(p0*np.exp(-lambda_*1))"
   ]
  },
  {
   "cell_type": "code",
   "execution_count": 4,
   "id": "73eba798",
   "metadata": {},
   "outputs": [
    {
     "data": {
      "text/plain": [
       "0.9976543197816605"
      ]
     },
     "execution_count": 4,
     "metadata": {},
     "output_type": "execute_result"
    }
   ],
   "source": [
    "p"
   ]
  },
  {
   "cell_type": "code",
   "execution_count": 27,
   "id": "6da09cde",
   "metadata": {},
   "outputs": [
    {
     "name": "stdout",
     "output_type": "stream",
     "text": [
      "0 1439 0.9966 0.00743961394181508 0.992560386058185\n",
      "1 1439 0.9976543197816605 0.03406792749063841 0.9659320725093616\n",
      "2 1439 0.9983817012686149 0.09723561727641525 0.9027643827235847\n",
      "3 1439 0.99888352608189 0.2003872563017461 0.7996127436982539\n",
      "4 1439 0.9992297380047052 0.32994341383196674 0.6700565861680332\n",
      "5 1439 0.9994685916690289 0.4653805395973826 0.5346194604026173\n",
      "6 1439 0.999633378232406 0.5899806989270557 0.41001930107294426\n",
      "7 1439 0.9997470654623947 0.6948781044897204 0.3051218955102796\n",
      "8 1439 0.9998254989584131 0.7779220826854462 0.22207791731455384\n",
      "9 1439 0.9998796106937264 0.8409268179430098 0.15907318205699017\n"
     ]
    }
   ],
   "source": [
    "\n",
    "for r in range(0,10):\n",
    "    p=1-(p0*(math.pow(math.exp(-lambda_),r)))\n",
    "    for t in range(1439,1440):\n",
    "        p1=math.pow(p,t)\n",
    "        pt=1-p1\n",
    "        print(r,t,p,p1,pt)\n",
    "        \n",
    "    "
   ]
  },
  {
   "cell_type": "code",
   "execution_count": 24,
   "id": "4580c223",
   "metadata": {},
   "outputs": [
    {
     "data": {
      "text/plain": [
       "1.0"
      ]
     },
     "execution_count": 24,
     "metadata": {},
     "output_type": "execute_result"
    }
   ],
   "source": [
    "math.pow(math.exp(-lambda_),0)\n",
    "    "
   ]
  },
  {
   "cell_type": "code",
   "execution_count": null,
   "id": "163a7ac8",
   "metadata": {},
   "outputs": [],
   "source": []
  }
 ],
 "metadata": {
  "kernelspec": {
   "display_name": "Python 3 (ipykernel)",
   "language": "python",
   "name": "python3"
  },
  "language_info": {
   "codemirror_mode": {
    "name": "ipython",
    "version": 3
   },
   "file_extension": ".py",
   "mimetype": "text/x-python",
   "name": "python",
   "nbconvert_exporter": "python",
   "pygments_lexer": "ipython3",
   "version": "3.9.13"
  }
 },
 "nbformat": 4,
 "nbformat_minor": 5
}
