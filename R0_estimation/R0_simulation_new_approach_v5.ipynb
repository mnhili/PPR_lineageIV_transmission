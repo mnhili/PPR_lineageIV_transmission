{
 "cells": [
  {
   "cell_type": "code",
   "execution_count": 20,
   "metadata": {},
   "outputs": [],
   "source": [
    "import math \n",
    "import pandas as pd\n",
    "import random \n",
    "import numpy as np\n",
    "import pickle"
   ]
  },
  {
   "cell_type": "code",
   "execution_count": 21,
   "metadata": {},
   "outputs": [],
   "source": [
    "# Setting simulation parameters values\n",
    "\n",
    "N = [30]  # population size\n",
    "D = [1] # Densities\n",
    "T = [2, 7, 10] # infectious time in days\n",
    "\n",
    "d = 2 # distance in meters \n",
    "iter = 1 # number of iterations\n",
    "time = 100 # exposure time in minutes\n",
    "T_max = 10\n"
   ]
  },
  {
   "cell_type": "code",
   "execution_count": null,
   "metadata": {},
   "outputs": [],
   "source": [
    "# importing trace\n",
    "\n",
    "with open(r\"D:\\Manal\\Programming\\project1\\R0_simulation\\trace_enveloppe_2m_0.1.pkl\", 'rb') as f:\n",
    "    trace_env = pickle.load(f)\n",
    "\n",
    "# extract samples from the trace\n",
    "\n",
    "samples = trace_env.posterior.stack(sample=(\"chain\", \"draw\"))\n",
    "\n",
    "# select a random sample from the trace\n",
    "selected_samples = np.random.choice(range(len(samples['p0'])), size=100)\n",
    "\n",
    "# extract the values of the parameters\n",
    "a_sample = samples['p0'].values[selected_samples]\n",
    "b_sample = samples['lambda'].values[selected_samples]\n"
   ]
  },
  {
   "cell_type": "code",
   "execution_count": 24,
   "metadata": {},
   "outputs": [],
   "source": []
  },
  {
   "cell_type": "code",
   "execution_count": null,
   "metadata": {},
   "outputs": [],
   "source": []
  },
  {
   "cell_type": "code",
   "execution_count": null,
   "metadata": {},
   "outputs": [],
   "source": []
  },
  {
   "cell_type": "code",
   "execution_count": null,
   "metadata": {},
   "outputs": [],
   "source": [
    "%%time \n",
    "\n",
    "# Perform the simulations\n",
    "\n",
    "data = []\n",
    "results = dict()# using dictionary instead of  lists\n",
    "for k in D: # density\n",
    "    for n in N: # population size \n",
    "            for i in range(iter): # iterations\n",
    "                p0 = p0_sample[i]\n",
    "                lambda_ = lambda_sample[i]\n",
    "                temp_results = []\n",
    "\n",
    "                for m in range(n): # individuals\n",
    "                    mu = np.random.uniform(0, 1) # a random number between 0 and 1\n",
    "                    Rmax= np.sqrt(n/(k * np.pi)) # maximum radius distance\n",
    "                    r0 = np.sqrt((n * mu)/(k * np.pi)) # generate initial radius distance r0\n",
    "                    r = r0\n",
    "                    p = 1 - (p0 * np.exp(-lambda_ * r0)) \n",
    "                    proba_minute = p\n",
    "                    \n",
    "                    for j in range(time):\n",
    "                        if j == 0:\n",
    "                            pass\n",
    "                        else:\n",
    "                            theta_ =  np.random.uniform(0, 2*np.pi) # a random number between 0 and pi\n",
    "                            r = min(np.sqrt(r**2 + d**2 - 2 * r * d * np.cos(theta_) ),Rmax) # generate next radius distance per minute \n",
    "                            p = 1 - (p0 * np.exp(-lambda_ * r)) # probability per minute\n",
    "                            proba_minute *= p # product on all probabilities per minute for each ID\n",
    "                    \n",
    "                    temp_results.append(proba_minute)\n",
    "                    \n",
    "\n",
    "                #status = [np.random.binomial(T_max, 1 - val) for val in temp_results]\n",
    "   \n",
    "                for t in T:\n",
    "                        status = [np.random.binomial(t, 1 - val) for val in temp_results] # Bernoulli drawing for infectious status (0 or 1) using the final proba\n",
    "                        a =[k, n, t] # creating the key for the dictionary\n",
    "                        key = str(a) # writing as a string\n",
    "                        try:\n",
    "                            results[key].append(n - status.count(0))\n",
    "                        except KeyError:\n",
    "                            results[key]=[n - status.count(0)]\n",
    "                        "
   ]
  },
  {
   "cell_type": "code",
   "execution_count": null,
   "metadata": {},
   "outputs": [],
   "source": [
    "results"
   ]
  },
  {
   "cell_type": "code",
   "execution_count": null,
   "metadata": {},
   "outputs": [],
   "source": [
    "with open(r\"D:\\Manal\\Programming\\project1\\R0_simulation\\results_dictionary.pkl\", 'wb') as f:\n",
    "    pickle.dump(results, f)"
   ]
  },
  {
   "cell_type": "code",
   "execution_count": null,
   "metadata": {},
   "outputs": [],
   "source": [
    "triplets = list(results.keys())"
   ]
  },
  {
   "cell_type": "code",
   "execution_count": null,
   "metadata": {},
   "outputs": [],
   "source": [
    "col_names = ['Density', 'Population_size', 'Infectious_time'] + [f'iter_{i}' for i in range(1, max(len(value) for value in results.values()) + 1)]\n",
    "\n"
   ]
  },
  {
   "cell_type": "code",
   "execution_count": null,
   "metadata": {},
   "outputs": [],
   "source": [
    "df = pd.DataFrame(\n",
    "    [[float(triplet[1:-1].split(', ')[0])] + [int(x) for x in triplet[1:-1].split(', ')[1:]] + value for triplet, value in results.items()],\n",
    "    columns=col_names\n",
    ")"
   ]
  },
  {
   "cell_type": "code",
   "execution_count": null,
   "metadata": {},
   "outputs": [],
   "source": [
    "df"
   ]
  },
  {
   "cell_type": "code",
   "execution_count": null,
   "metadata": {},
   "outputs": [],
   "source": [
    "# Save the simulation results into a csv file\n",
    "\n",
    "df.to_csv(\"simulation_results_v5.csv\", index=False)"
   ]
  }
 ],
 "metadata": {
  "kernelspec": {
   "display_name": "Python 3 (ipykernel)",
   "language": "python",
   "name": "python3"
  },
  "language_info": {
   "codemirror_mode": {
    "name": "ipython",
    "version": 3
   },
   "file_extension": ".py",
   "mimetype": "text/x-python",
   "name": "python",
   "nbconvert_exporter": "python",
   "pygments_lexer": "ipython3",
   "version": "3.9.18"
  }
 },
 "nbformat": 4,
 "nbformat_minor": 2
}
