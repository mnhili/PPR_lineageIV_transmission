{
 "cells": [
  {
   "cell_type": "code",
   "execution_count": 1,
   "metadata": {},
   "outputs": [],
   "source": [
    "import math \n",
    "import pandas as pd\n",
    "import random \n",
    "import numpy as np\n",
    "import pickle\n",
    "import itertools"
   ]
  },
  {
   "cell_type": "code",
   "execution_count": 4,
   "metadata": {},
   "outputs": [],
   "source": [
    "# Setting simulation parameters values\n",
    "\n",
    "# N = [30, 50, 100, 500, 1000]  # population size\n",
    "# D = [0.01, 0.5, 1, 2] # Densities\n",
    "# T = [1, 2, 5, 7, 10] # infectious time in days\n",
    "\n",
    "N = [30]  # population size\n",
    "D = [0.01] # Densities\n",
    "T = [1, 2] # infectious time in days\n",
    "\n",
    "\n",
    "d = 2 # distance in meters \n",
    "iter = 100 # number of iterations\n",
    "time = 1440 # exposure time in minutes\n"
   ]
  },
  {
   "cell_type": "code",
   "execution_count": 3,
   "metadata": {},
   "outputs": [],
   "source": [
    "# import best model's trace \n",
    "\n",
    "with open(r\"D:\\Manal\\Programming\\project1\\R0_simulation\\trace_enveloppe_2m_0.1.pkl\", 'rb') as f:\n",
    "    trace_env = pickle.load(f)\n",
    "\n",
    "\n",
    "p0_sample = trace_env.posterior[\"p0\"].stack(sample=(\"chain\", \"draw\")).values\n",
    "p0_sample = np.random.choice(p0_sample, size=100)\n",
    "\n",
    "\n",
    "lambda_sample = trace_env.posterior[\"lambda\"].stack(sample=(\"chain\", \"draw\")).values\n",
    "lambda_sample = np.random.choice(lambda_sample, size=100)"
   ]
  },
  {
   "cell_type": "code",
   "execution_count": null,
   "metadata": {},
   "outputs": [],
   "source": [
    "%%time \n",
    "\n",
    "# Perform the simulations\n",
    "\n",
    "data = []\n",
    "current_row = None\n",
    "\n",
    "for k in D: # density\n",
    "    for n in N: # population size \n",
    "        for t in T:\n",
    "            for i in range(iter): # iterations\n",
    "                p0 = p0_sample[i]\n",
    "                lambda_ = lambda_sample[i]\n",
    "                results = 0\n",
    "                \n",
    "                for m in range(n): # individuals\n",
    "                    mu = np.random.uniform(0, 1) # a random number between 0 and 1\n",
    "                    Rmax= np.sqrt(n/(k * np.pi)) # maximum radius distance\n",
    "                    r0 = np.sqrt((n * mu)/(k * np.pi)) # generate initial radius distance r0\n",
    "                    r = r0\n",
    "                    p = 1 - (p0 * np.exp(-lambda_ * r0)) \n",
    "                    proba_minute = p\n",
    "                    for j in range(time):\n",
    "                        if j == 0:\n",
    "                            pass\n",
    "                        else:\n",
    "                            theta_ =  np.random.uniform(0, 2*np.pi) # a random number between 0 and pi\n",
    "                            r = min(np.sqrt(r**2 + d**2 - 2 * r * d * np.cos(theta_) ),Rmax) # generate next radius distance per minute \n",
    "                            p = 1 - (p0 * np.exp(-lambda_ * r)) # probability per minute\n",
    "                            proba_minute *= p # product on all probabilities per minute for each ID\n",
    "                            \n",
    "                    proba_T = 1 - proba_minute ** t # apply the exponent on infectious time \n",
    "                    status = np.random.binomial(1, proba_T) # Bernoulli drawing for infectious status (0 or 1) using the final proba\n",
    "                    results += status # sum on all Positives \n",
    "\n",
    "                # Check if the combination of parameters changes or still the same : to append number of positives as colomns instead of rows\n",
    "\n",
    "                new_combination = current_row is None or (n, k, t) != (current_row[\"size\"], current_row[\"density\"],  current_row[\"day\"])\n",
    "\n",
    "                if new_combination:\n",
    "                    # Create a new row\n",
    "                    current_row = {\"size\": n, \"density\": k,  \"day\": t}\n",
    "                    data.append(current_row)\n",
    "\n",
    "                # Appending the new values of results as an additional columns\n",
    "                current_row[f\"sim{i}\"] = str(results)\n",
    "                    \n",
    "print(\"Done\")"
   ]
  },
  {
   "cell_type": "code",
   "execution_count": 13,
   "metadata": {},
   "outputs": [
    {
     "name": "stdout",
     "output_type": "stream",
     "text": [
      "CPU times: total: 21.7 s\n",
      "Wall time: 22.5 s\n"
     ]
    }
   ],
   "source": [
    "%%time \n",
    "\n",
    "# Perform the simulations\n",
    "\n",
    "data = []\n",
    "\n",
    "for k in D: # density\n",
    "    for n in N: # population size \n",
    "            for i in range(iter): # iterations\n",
    "                p0 = p0_sample[i]\n",
    "                lambda_ = lambda_sample[i]\n",
    "                temp_results = []\n",
    "                results = []\n",
    "                for m in range(n): # individuals\n",
    "                    mu = np.random.uniform(0, 1) # a random number between 0 and 1\n",
    "                    Rmax= np.sqrt(n/(k * np.pi)) # maximum radius distance\n",
    "                    r0 = np.sqrt((n * mu)/(k * np.pi)) # generate initial radius distance r0\n",
    "                    r = r0\n",
    "                    p = 1 - (p0 * np.exp(-lambda_ * r0)) \n",
    "                    proba_minute = p\n",
    "                    \n",
    "                    for j in range(time):\n",
    "                        if j == 0:\n",
    "                            pass\n",
    "                        else:\n",
    "                            theta_ =  np.random.uniform(0, 2*np.pi) # a random number between 0 and pi\n",
    "                            r = min(np.sqrt(r**2 + d**2 - 2 * r * d * np.cos(theta_) ),Rmax) # generate next radius distance per minute \n",
    "                            p = 1 - (p0 * np.exp(-lambda_ * r)) # probability per minute\n",
    "                            proba_minute *= p # product on all probabilities per minute for each ID\n",
    "                    \n",
    "                    temp_results.append(proba_minute)\n",
    "\n",
    "                    for t in T:\n",
    "                        proba_T = [1 - val**t for val in temp_results] # apply the exponent on infectious time\n",
    "                        status = [np.random.binomial(1, val) for val in proba_T] # Bernoulli drawing for infectious status (0 or 1) using the final proba\n",
    "                        results = sum(status)"
   ]
  },
  {
   "cell_type": "code",
   "execution_count": null,
   "metadata": {},
   "outputs": [],
   "source": []
  },
  {
   "cell_type": "code",
   "execution_count": null,
   "metadata": {},
   "outputs": [],
   "source": [
    "# Convert to dataframe for easy view\n",
    "df = pd.DataFrame(data)\n",
    "\n",
    "# Show the header (10 first lines)\n",
    "df.head(10)"
   ]
  },
  {
   "cell_type": "code",
   "execution_count": null,
   "metadata": {},
   "outputs": [],
   "source": [
    "# Save the simulation results into a csv file\n",
    "\n",
    "df.to_csv(\"simulation_results_v4.csv\", index=False)"
   ]
  }
 ],
 "metadata": {
  "kernelspec": {
   "display_name": "tf",
   "language": "python",
   "name": "python3"
  },
  "language_info": {
   "codemirror_mode": {
    "name": "ipython",
    "version": 3
   },
   "file_extension": ".py",
   "mimetype": "text/x-python",
   "name": "python",
   "nbconvert_exporter": "python",
   "pygments_lexer": "ipython3",
   "version": "3.9.18"
  }
 },
 "nbformat": 4,
 "nbformat_minor": 2
}
