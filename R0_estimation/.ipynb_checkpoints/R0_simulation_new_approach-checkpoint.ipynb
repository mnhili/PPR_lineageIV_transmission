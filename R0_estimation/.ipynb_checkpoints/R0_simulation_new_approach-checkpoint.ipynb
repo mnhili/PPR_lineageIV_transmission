{
 "cells": [
  {
   "cell_type": "code",
   "execution_count": 68,
   "metadata": {},
   "outputs": [],
   "source": [
    "import math \n",
    "import pandas as pd\n",
    "import random \n",
    "import numpy as np"
   ]
  },
  {
   "cell_type": "code",
   "execution_count": 69,
   "metadata": {},
   "outputs": [],
   "source": [
    "# Setting simulation parameters values\n",
    "N = [30, 50, 100]  # population size\n",
    "D = [0.01, 0.5, 1, 2] # Densities\n",
    "d = 2 # distance in meters \n",
    "T = [1, 2, 5, 7, 10] # infectious time in days\n",
    "iter = 100 # number of iterations\n",
    "time = 1440 # exposure time in minutes\n",
    "p0 = 0.0034 # enveloppe model hyperparameter \n",
    "lambda_ = 0.3712 # enveloppe model hyperparameter \n",
    "theta_ = math.pi/2 # a constant "
   ]
  },
  {
   "cell_type": "code",
   "execution_count": 4,
   "metadata": {},
   "outputs": [],
   "source": [
    "# Define the function to calculate the next values of r \n",
    "\n",
    "def f(theta_, r):\n",
    "    return math.sqrt(r + d**2 - 2 * r * d * math.cos(theta_))\n",
    "\n",
    "# Remark : I'll use this function later on to optimise the code, not used in this case !!!"
   ]
  },
  {
   "cell_type": "code",
   "execution_count": 70,
   "metadata": {},
   "outputs": [],
   "source": [
    "# Perform the simulations\n",
    "\n",
    "%%time \n",
    "\n",
    "data = []\n",
    "current_row = None\n",
    "\n",
    "\n",
    "for k in D: # density\n",
    "    for n in N: # population size \n",
    "        for t in T: # infectious time\n",
    "            \n",
    "            for i in range(iter): # iterations\n",
    "                results = 0\n",
    "                \n",
    "                for m in range(n): # individuals\n",
    "                    mu = random.uniform(0, 1) # a random number between 0 and 1\n",
    "                    r0 = math.sqrt((n * mu)/(k * math.pi)) # generate initial radius distance r0\n",
    "                    r = r0\n",
    "                    p = 1 - (p0 * math.exp(-lambda_ * r0)) \n",
    "                    proba_minute = p\n",
    "                    for j in range(time):\n",
    "                        if j == 0:\n",
    "                            pass\n",
    "                        else:\n",
    "                            r = math.sqrt(r + d**2 - 2 * r * d * math.cos(theta_))  # generate next radius distance per minute \n",
    "                            p = 1 - (p0 * math.exp(-lambda_ * r)) # probability per minute\n",
    "                            proba_minute *= p # product on all probabilities per minute for each ID\n",
    "                            \n",
    "                    proba_T = 1 - proba_minute ** t # apply the exponent on infectious time \n",
    "                    status = np.random.binomial(1, proba_T) # Bernoulli drawing for infectious status (0 or 1) using the final proba\n",
    "                    results += status # sum on all Positives \n",
    "\n",
    "                # Check if the combination of parameters changes or still the same : to append number of positives as colomns instead of rows\n",
    "\n",
    "                new_combination = current_row is None or (k, n, t) != (current_row[\"Density\"], current_row[\"Population Size\"], current_row[\"Infectious Time\"])\n",
    "\n",
    "                if new_combination:\n",
    "                    # Create a new row\n",
    "                    current_row = {\"Density\": k, \"Population Size\": n, \"Infectious Time\": t}\n",
    "                    data.append(current_row)\n",
    "\n",
    "                # Appending the new values of results as an additional columns\n",
    "                current_row[f\"Iteration {i}\"] = str(results)\n",
    "                    \n",
    "print(\"Done\")"
   ]
  },
  {
   "cell_type": "code",
   "execution_count": null,
   "metadata": {},
   "outputs": [],
   "source": [
    "# Convert to dataframe for easy view\n",
    "df = pd.DataFrame(data)\n",
    "\n",
    "# Show the header (10 first lines)\n",
    "df.head(10)"
   ]
  },
  {
   "cell_type": "code",
   "execution_count": 72,
   "metadata": {},
   "outputs": [],
   "source": [
    "# Save the simulation results into a csv file\n",
    "\n",
    "df.to_csv(\"simulation_results.csv\", index=False)"
   ]
  }
 ],
 "metadata": {
  "kernelspec": {
   "display_name": "Python 3 (ipykernel)",
   "language": "python",
   "name": "python3"
  },
  "language_info": {
   "codemirror_mode": {
    "name": "ipython",
    "version": 3
   },
   "file_extension": ".py",
   "mimetype": "text/x-python",
   "name": "python",
   "nbconvert_exporter": "python",
   "pygments_lexer": "ipython3",
   "version": "3.9.13"
  }
 },
 "nbformat": 4,
 "nbformat_minor": 2
}
