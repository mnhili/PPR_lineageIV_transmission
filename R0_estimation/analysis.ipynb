{
 "cells": [
  {
   "cell_type": "code",
   "execution_count": 2,
   "metadata": {},
   "outputs": [],
   "source": [
    "import numpy as np\n",
    "import pandas as pd\n",
    "import statsmodels.api as sm\n",
    "from sklearn.preprocessing import StandardScaler\n",
    "import matplotlib.pyplot as plt"
   ]
  },
  {
   "cell_type": "code",
   "execution_count": 3,
   "metadata": {},
   "outputs": [
    {
     "data": {
      "text/html": [
       "<div>\n",
       "<style scoped>\n",
       "    .dataframe tbody tr th:only-of-type {\n",
       "        vertical-align: middle;\n",
       "    }\n",
       "\n",
       "    .dataframe tbody tr th {\n",
       "        vertical-align: top;\n",
       "    }\n",
       "\n",
       "    .dataframe thead th {\n",
       "        text-align: right;\n",
       "    }\n",
       "</style>\n",
       "<table border=\"1\" class=\"dataframe\">\n",
       "  <thead>\n",
       "    <tr style=\"text-align: right;\">\n",
       "      <th></th>\n",
       "      <th>Infectious_time</th>\n",
       "      <th>Population_size</th>\n",
       "      <th>Density</th>\n",
       "      <th>avg_cases</th>\n",
       "    </tr>\n",
       "  </thead>\n",
       "  <tbody>\n",
       "    <tr>\n",
       "      <th>0</th>\n",
       "      <td>1</td>\n",
       "      <td>30</td>\n",
       "      <td>0.01</td>\n",
       "      <td>2.10</td>\n",
       "    </tr>\n",
       "    <tr>\n",
       "      <th>1</th>\n",
       "      <td>1</td>\n",
       "      <td>30</td>\n",
       "      <td>0.10</td>\n",
       "      <td>13.84</td>\n",
       "    </tr>\n",
       "    <tr>\n",
       "      <th>2</th>\n",
       "      <td>1</td>\n",
       "      <td>30</td>\n",
       "      <td>0.20</td>\n",
       "      <td>18.77</td>\n",
       "    </tr>\n",
       "    <tr>\n",
       "      <th>3</th>\n",
       "      <td>1</td>\n",
       "      <td>30</td>\n",
       "      <td>0.50</td>\n",
       "      <td>23.57</td>\n",
       "    </tr>\n",
       "    <tr>\n",
       "      <th>4</th>\n",
       "      <td>1</td>\n",
       "      <td>30</td>\n",
       "      <td>0.75</td>\n",
       "      <td>25.01</td>\n",
       "    </tr>\n",
       "  </tbody>\n",
       "</table>\n",
       "</div>"
      ],
      "text/plain": [
       "   Infectious_time  Population_size  Density  avg_cases\n",
       "0                1               30     0.01       2.10\n",
       "1                1               30     0.10      13.84\n",
       "2                1               30     0.20      18.77\n",
       "3                1               30     0.50      23.57\n",
       "4                1               30     0.75      25.01"
      ]
     },
     "execution_count": 3,
     "metadata": {},
     "output_type": "execute_result"
    }
   ],
   "source": [
    "data = pd.read_csv(\"avg_simulation_v5.csv\")\n",
    "\n",
    "data.drop(columns=['Unnamed: 0'], inplace=True)\n",
    "data.head()"
   ]
  },
  {
   "cell_type": "code",
   "execution_count": 4,
   "metadata": {},
   "outputs": [
    {
     "name": "stdout",
     "output_type": "stream",
     "text": [
      "                 Generalized Linear Model Regression Results                  \n",
      "==============================================================================\n",
      "Dep. Variable:              avg_cases   No. Observations:                  448\n",
      "Model:                            GLM   Df Residuals:                      445\n",
      "Model Family:                 Poisson   Df Model:                            2\n",
      "Link Function:                    Log   Scale:                          1.0000\n",
      "Method:                          IRLS   Log-Likelihood:                -43142.\n",
      "Date:                Mon, 27 May 2024   Deviance:                       83539.\n",
      "Time:                        15:30:56   Pearson chi2:                 1.86e+05\n",
      "No. Iterations:                     7   Pseudo R-squ. (CS):         -1.621e+13\n",
      "Covariance Type:            nonrobust                                         \n",
      "===================================================================================\n",
      "                      coef    std err          z      P>|z|      [0.025      0.975]\n",
      "-----------------------------------------------------------------------------------\n",
      "Infectious_time     0.2754      0.001    224.987      0.000       0.273       0.278\n",
      "Population_size     0.0030   1.07e-05    278.477      0.000       0.003       0.003\n",
      "Density             1.4619      0.006    247.324      0.000       1.450       1.473\n",
      "===================================================================================\n"
     ]
    }
   ],
   "source": [
    "# Assuming you have your data stored in a DataFrame called 'data'\n",
    "X = data.drop(columns=['avg_cases'])\n",
    "y = data['avg_cases']\n",
    "\n",
    "\n",
    "# Define Generalized Linear Model (GLM) with Poisson distribution family and log link\n",
    "glm_model_Poisson = sm.GLM(y, X, family=sm.families.Poisson(link=sm.families.links.Log()))\n",
    "\n",
    "# Fit the model\n",
    "glm_results_Poisson = glm_model_Poisson.fit()\n",
    "\n",
    "# Inspect results\n",
    "print(glm_results_Poisson.summary())"
   ]
  },
  {
   "cell_type": "markdown",
   "metadata": {},
   "source": [
    "Predictor 1: Infectious time \n",
    "\n",
    "A one unit increase of infectious time is associated with approximately an 11.31% decrease in the expected count of \n"
   ]
  },
  {
   "cell_type": "code",
   "execution_count": 5,
   "metadata": {},
   "outputs": [
    {
     "data": {
      "text/plain": [
       "Infectious_time    0.275376\n",
       "Population_size    0.002989\n",
       "Density            1.461859\n",
       "dtype: float64"
      ]
     },
     "execution_count": 5,
     "metadata": {},
     "output_type": "execute_result"
    }
   ],
   "source": [
    "glm_results_Poisson.params"
   ]
  },
  {
   "cell_type": "markdown",
   "metadata": {},
   "source": []
  },
  {
   "cell_type": "code",
   "execution_count": 6,
   "metadata": {},
   "outputs": [
    {
     "name": "stdout",
     "output_type": "stream",
     "text": [
      "Infectious_time     31.702601\n",
      "Population_size      0.299322\n",
      "Density            331.397059\n",
      "dtype: float64\n"
     ]
    }
   ],
   "source": [
    "def calculate_percentage_increase(params):\n",
    "    \"\"\"\n",
    "    Calculates the percentage increase based on the given parameters.\n",
    "\n",
    "    Args:\n",
    "        params (array-like): The parameters used for the calculation.\n",
    "\n",
    "    Returns:\n",
    "        float: The percentage increase.\n",
    "\n",
    "    \"\"\"\n",
    "    # Calculate the exponential of the parameters and subtract 1\n",
    "    result = (np.exp(params) - 1) * 100\n",
    "\n",
    "    return result\n",
    "\n",
    "percentage_increase = calculate_percentage_increase(glm_results_Poisson.params)\n",
    "\n",
    "print(percentage_increase)\n",
    "\n"
   ]
  },
  {
   "cell_type": "code",
   "execution_count": null,
   "metadata": {},
   "outputs": [],
   "source": []
  },
  {
   "cell_type": "code",
   "execution_count": 8,
   "metadata": {},
   "outputs": [
    {
     "name": "stdout",
     "output_type": "stream",
     "text": [
      "                 Generalized Linear Model Regression Results                  \n",
      "==============================================================================\n",
      "Dep. Variable:              avg_cases   No. Observations:                  448\n",
      "Model:                            GLM   Df Residuals:                      445\n",
      "Model Family:                Binomial   Df Model:                            2\n",
      "Link Function:                    Log   Scale:                          1.0000\n",
      "Method:                          IRLS   Log-Likelihood:                    nan\n",
      "Date:                Mon, 27 May 2024   Deviance:                      -7682.7\n",
      "Time:                        15:32:06   Pearson chi2:                 3.99e+22\n",
      "No. Iterations:                    18   Pseudo R-squ. (CS):                nan\n",
      "Covariance Type:            nonrobust                                         \n",
      "===================================================================================\n",
      "                      coef    std err          z      P>|z|      [0.025      0.975]\n",
      "-----------------------------------------------------------------------------------\n",
      "Infectious_time     0.1167   1.38e-12   8.46e+10      0.000       0.117       0.117\n",
      "Population_size     0.0046   1.45e-14   3.14e+11      0.000       0.005       0.005\n",
      "Density             0.8073   6.95e-12   1.16e+11      0.000       0.807       0.807\n",
      "===================================================================================\n"
     ]
    },
    {
     "name": "stderr",
     "output_type": "stream",
     "text": [
      "c:\\Users\\U117-T408\\anaconda3\\envs\\tf\\lib\\site-packages\\statsmodels\\genmod\\generalized_linear_model.py:308: DomainWarning: The Log link function does not respect the domain of the Binomial family.\n",
      "  warnings.warn((f\"The {type(family.link).__name__} link function \"\n",
      "c:\\Users\\U117-T408\\anaconda3\\envs\\tf\\lib\\site-packages\\statsmodels\\genmod\\families\\family.py:1056: RuntimeWarning: invalid value encountered in log\n",
      "  special.gammaln(n - y + 1) + y * np.log(mu / (1 - mu + 1e-20)) +\n",
      "c:\\Users\\U117-T408\\anaconda3\\envs\\tf\\lib\\site-packages\\statsmodels\\genmod\\families\\family.py:1057: RuntimeWarning: invalid value encountered in log\n",
      "  n * np.log(1 - mu + 1e-20)) * var_weights\n"
     ]
    }
   ],
   "source": [
    "# Define Generalized Linear Model (GLM) with Poisson distribution family and log link\n",
    "glm_model_binomial_Log = sm.GLM(y, X, family=sm.families.Binomial(link=sm.families.links.Log()))\n",
    "\n",
    "# Fit the model\n",
    "glm_model_binomial_Log = glm_model_binomial_Log.fit()\n",
    "\n",
    "# Inspect results\n",
    "print(glm_model_binomial_Log.summary())"
   ]
  },
  {
   "cell_type": "code",
   "execution_count": 10,
   "metadata": {},
   "outputs": [
    {
     "name": "stdout",
     "output_type": "stream",
     "text": [
      "                 Generalized Linear Model Regression Results                  \n",
      "==============================================================================\n",
      "Dep. Variable:              avg_cases   No. Observations:                  448\n",
      "Model:                            GLM   Df Residuals:                      445\n",
      "Model Family:                Binomial   Df Model:                            2\n",
      "Link Function:                  Logit   Scale:                          1.0000\n",
      "Method:                          IRLS   Log-Likelihood:                   -inf\n",
      "Date:                Mon, 27 May 2024   Deviance:                   5.2506e+06\n",
      "Time:                        15:40:49   Pearson chi2:                 9.92e+22\n",
      "No. Iterations:                     2   Pseudo R-squ. (CS):                nan\n",
      "Covariance Type:            nonrobust                                         \n",
      "===================================================================================\n",
      "                      coef    std err          z      P>|z|      [0.025      0.975]\n",
      "-----------------------------------------------------------------------------------\n",
      "Infectious_time  2.165e+16   8.21e+05   2.64e+10      0.000    2.17e+16    2.17e+16\n",
      "Population_size  2.081e+15   9480.422   2.19e+11      0.000    2.08e+15    2.08e+15\n",
      "Density          5.011e+17   4.19e+06   1.19e+11      0.000    5.01e+17    5.01e+17\n",
      "===================================================================================\n"
     ]
    },
    {
     "name": "stderr",
     "output_type": "stream",
     "text": [
      "c:\\Users\\U117-T408\\anaconda3\\envs\\tf\\lib\\site-packages\\statsmodels\\genmod\\families\\family.py:1056: RuntimeWarning: invalid value encountered in log\n",
      "  special.gammaln(n - y + 1) + y * np.log(mu / (1 - mu + 1e-20)) +\n",
      "c:\\Users\\U117-T408\\anaconda3\\envs\\tf\\lib\\site-packages\\statsmodels\\genmod\\families\\family.py:1057: RuntimeWarning: invalid value encountered in log\n",
      "  n * np.log(1 - mu + 1e-20)) * var_weights\n"
     ]
    }
   ],
   "source": [
    "glm_model_Binomial_Logit = sm.GLM(y, X, family=sm.families.Binomial())\n",
    "\n",
    "# Fit the model\n",
    "glm_results_Binomial_Logit = glm_model_binomial.fit()\n",
    "\n",
    "# Inspect results\n",
    "print(glm_results_Binomial_Logit.summary())"
   ]
  }
 ],
 "metadata": {
  "kernelspec": {
   "display_name": "tf",
   "language": "python",
   "name": "python3"
  },
  "language_info": {
   "codemirror_mode": {
    "name": "ipython",
    "version": 3
   },
   "file_extension": ".py",
   "mimetype": "text/x-python",
   "name": "python",
   "nbconvert_exporter": "python",
   "pygments_lexer": "ipython3",
   "version": "3.9.18"
  }
 },
 "nbformat": 4,
 "nbformat_minor": 2
}
